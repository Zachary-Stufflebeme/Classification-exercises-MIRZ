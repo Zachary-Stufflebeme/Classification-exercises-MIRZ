{
 "cells": [
  {
   "cell_type": "code",
   "execution_count": 70,
   "id": "d7c20a51-8053-434f-a63c-d895c88dfa66",
   "metadata": {},
   "outputs": [],
   "source": [
    "from pydataset import data\n",
    "import pandas as pd\n",
    "import numpy as np\n",
    "import plotly as py\n",
    "from Acquire_exercise import get_iris_data, read_csv, get_titanic_data, get_telco_data\n",
    "from sklearn.model_selection import train_test_split\n"
   ]
  },
  {
   "cell_type": "code",
   "execution_count": 2,
   "id": "2d0db30a-5201-4cdb-8aaf-79a592ce9a0c",
   "metadata": {},
   "outputs": [],
   "source": [
    "df_iris = data('iris')"
   ]
  },
  {
   "cell_type": "markdown",
   "id": "8fc364fb-1e85-4110-9aa5-88e01010d357",
   "metadata": {},
   "source": [
    "#### Print first 3 rows of iris df."
   ]
  },
  {
   "cell_type": "code",
   "execution_count": 3,
   "id": "dd3a50e7-1319-4e03-a115-a77c375fde13",
   "metadata": {},
   "outputs": [
    {
     "data": {
      "text/plain": "   Sepal.Length  Sepal.Width  Petal.Length  Petal.Width Species\n1           5.1          3.5           1.4          0.2  setosa\n2           4.9          3.0           1.4          0.2  setosa\n3           4.7          3.2           1.3          0.2  setosa",
      "text/html": "<div>\n<style scoped>\n    .dataframe tbody tr th:only-of-type {\n        vertical-align: middle;\n    }\n\n    .dataframe tbody tr th {\n        vertical-align: top;\n    }\n\n    .dataframe thead th {\n        text-align: right;\n    }\n</style>\n<table border=\"1\" class=\"dataframe\">\n  <thead>\n    <tr style=\"text-align: right;\">\n      <th></th>\n      <th>Sepal.Length</th>\n      <th>Sepal.Width</th>\n      <th>Petal.Length</th>\n      <th>Petal.Width</th>\n      <th>Species</th>\n    </tr>\n  </thead>\n  <tbody>\n    <tr>\n      <th>1</th>\n      <td>5.1</td>\n      <td>3.5</td>\n      <td>1.4</td>\n      <td>0.2</td>\n      <td>setosa</td>\n    </tr>\n    <tr>\n      <th>2</th>\n      <td>4.9</td>\n      <td>3.0</td>\n      <td>1.4</td>\n      <td>0.2</td>\n      <td>setosa</td>\n    </tr>\n    <tr>\n      <th>3</th>\n      <td>4.7</td>\n      <td>3.2</td>\n      <td>1.3</td>\n      <td>0.2</td>\n      <td>setosa</td>\n    </tr>\n  </tbody>\n</table>\n</div>"
     },
     "execution_count": 3,
     "metadata": {},
     "output_type": "execute_result"
    }
   ],
   "source": [
    "df_iris.head(3)"
   ]
  },
  {
   "cell_type": "markdown",
   "id": "22364ddd-a92e-4f99-ba80-d41858790189",
   "metadata": {},
   "source": [
    "#### print the number of rows and columns (shape)"
   ]
  },
  {
   "cell_type": "code",
   "execution_count": 4,
   "id": "a00b6000-b3c5-4aa1-9e8a-ff94b0ffcb5f",
   "metadata": {},
   "outputs": [
    {
     "data": {
      "text/plain": "(150, 5)"
     },
     "execution_count": 4,
     "metadata": {},
     "output_type": "execute_result"
    }
   ],
   "source": [
    "df_iris.shape"
   ]
  },
  {
   "cell_type": "markdown",
   "id": "9846403a-f2b5-4281-81ed-6ba702d8a1a3",
   "metadata": {},
   "source": [
    "#### print the column names"
   ]
  },
  {
   "cell_type": "code",
   "execution_count": 5,
   "id": "d3f13a41-72b8-4403-b90c-e93262715825",
   "metadata": {},
   "outputs": [
    {
     "data": {
      "text/plain": "Index(['Sepal.Length', 'Sepal.Width', 'Petal.Length', 'Petal.Width',\n       'Species'],\n      dtype='object')"
     },
     "execution_count": 5,
     "metadata": {},
     "output_type": "execute_result"
    }
   ],
   "source": [
    "df_iris.columns"
   ]
  },
  {
   "cell_type": "markdown",
   "id": "bfd3e500-3aa9-47e5-8a23-7a3e6846f1eb",
   "metadata": {},
   "source": [
    "#### print the data type of each column"
   ]
  },
  {
   "cell_type": "code",
   "execution_count": 6,
   "id": "86c5b77d-236b-4697-962e-7afecc28a028",
   "metadata": {},
   "outputs": [
    {
     "name": "stdout",
     "output_type": "stream",
     "text": [
      "<class 'pandas.core.frame.DataFrame'>\n",
      "Int64Index: 150 entries, 1 to 150\n",
      "Data columns (total 5 columns):\n",
      " #   Column        Non-Null Count  Dtype  \n",
      "---  ------        --------------  -----  \n",
      " 0   Sepal.Length  150 non-null    float64\n",
      " 1   Sepal.Width   150 non-null    float64\n",
      " 2   Petal.Length  150 non-null    float64\n",
      " 3   Petal.Width   150 non-null    float64\n",
      " 4   Species       150 non-null    object \n",
      "dtypes: float64(4), object(1)\n",
      "memory usage: 7.0+ KB\n"
     ]
    }
   ],
   "source": [
    "df_iris.info()\n",
    "\n"
   ]
  },
  {
   "cell_type": "markdown",
   "id": "fa62bb41-81db-4f2a-9ea0-afefc4a96610",
   "metadata": {},
   "source": [
    "#### print the summary statistics for each of the numeric variables"
   ]
  },
  {
   "cell_type": "code",
   "execution_count": 7,
   "id": "93cbc0bb-d98c-440f-8cc5-7a62bab18989",
   "metadata": {},
   "outputs": [
    {
     "data": {
      "text/plain": "       Sepal.Length  Sepal.Width  Petal.Length  Petal.Width\ncount    150.000000   150.000000    150.000000   150.000000\nmean       5.843333     3.057333      3.758000     1.199333\nstd        0.828066     0.435866      1.765298     0.762238\nmin        4.300000     2.000000      1.000000     0.100000\n25%        5.100000     2.800000      1.600000     0.300000\n50%        5.800000     3.000000      4.350000     1.300000\n75%        6.400000     3.300000      5.100000     1.800000\nmax        7.900000     4.400000      6.900000     2.500000",
      "text/html": "<div>\n<style scoped>\n    .dataframe tbody tr th:only-of-type {\n        vertical-align: middle;\n    }\n\n    .dataframe tbody tr th {\n        vertical-align: top;\n    }\n\n    .dataframe thead th {\n        text-align: right;\n    }\n</style>\n<table border=\"1\" class=\"dataframe\">\n  <thead>\n    <tr style=\"text-align: right;\">\n      <th></th>\n      <th>Sepal.Length</th>\n      <th>Sepal.Width</th>\n      <th>Petal.Length</th>\n      <th>Petal.Width</th>\n    </tr>\n  </thead>\n  <tbody>\n    <tr>\n      <th>count</th>\n      <td>150.000000</td>\n      <td>150.000000</td>\n      <td>150.000000</td>\n      <td>150.000000</td>\n    </tr>\n    <tr>\n      <th>mean</th>\n      <td>5.843333</td>\n      <td>3.057333</td>\n      <td>3.758000</td>\n      <td>1.199333</td>\n    </tr>\n    <tr>\n      <th>std</th>\n      <td>0.828066</td>\n      <td>0.435866</td>\n      <td>1.765298</td>\n      <td>0.762238</td>\n    </tr>\n    <tr>\n      <th>min</th>\n      <td>4.300000</td>\n      <td>2.000000</td>\n      <td>1.000000</td>\n      <td>0.100000</td>\n    </tr>\n    <tr>\n      <th>25%</th>\n      <td>5.100000</td>\n      <td>2.800000</td>\n      <td>1.600000</td>\n      <td>0.300000</td>\n    </tr>\n    <tr>\n      <th>50%</th>\n      <td>5.800000</td>\n      <td>3.000000</td>\n      <td>4.350000</td>\n      <td>1.300000</td>\n    </tr>\n    <tr>\n      <th>75%</th>\n      <td>6.400000</td>\n      <td>3.300000</td>\n      <td>5.100000</td>\n      <td>1.800000</td>\n    </tr>\n    <tr>\n      <th>max</th>\n      <td>7.900000</td>\n      <td>4.400000</td>\n      <td>6.900000</td>\n      <td>2.500000</td>\n    </tr>\n  </tbody>\n</table>\n</div>"
     },
     "execution_count": 7,
     "metadata": {},
     "output_type": "execute_result"
    }
   ],
   "source": [
    "df_iris.describe()"
   ]
  },
  {
   "cell_type": "markdown",
   "id": "a762d8d4-c3e6-4fdb-a41b-5c7fb602d0c7",
   "metadata": {},
   "source": [
    "## Read the data from this google sheet into a dataframe, df_google."
   ]
  },
  {
   "cell_type": "code",
   "execution_count": 8,
   "id": "e3393d9e-8492-468f-a538-47b6d3e0d139",
   "metadata": {},
   "outputs": [],
   "source": [
    "df_google = read_csv('TRAIN - train.csv')"
   ]
  },
  {
   "cell_type": "code",
   "execution_count": 9,
   "id": "3f379d50-a69a-4e25-970e-dc8390b8bc0f",
   "metadata": {},
   "outputs": [
    {
     "data": {
      "text/plain": "     PassengerId  Survived  Pclass  \\\n0              1         0       3   \n1              2         1       1   \n2              3         1       3   \n3              4         1       1   \n4              5         0       3   \n..           ...       ...     ...   \n886          887         0       2   \n887          888         1       1   \n888          889         0       3   \n889          890         1       1   \n890          891         0       3   \n\n                                                    Name     Sex   Age  SibSp  \\\n0                                Braund, Mr. Owen Harris    male  22.0      1   \n1    Cumings, Mrs. John Bradley (Florence Briggs Thayer)  female  38.0      1   \n2                                 Heikkinen, Miss. Laina  female  26.0      0   \n3           Futrelle, Mrs. Jacques Heath (Lily May Peel)  female  35.0      1   \n4                               Allen, Mr. William Henry    male  35.0      0   \n..                                                   ...     ...   ...    ...   \n886                                Montvila, Rev. Juozas    male  27.0      0   \n887                         Graham, Miss. Margaret Edith  female  19.0      0   \n888             Johnston, Miss. Catherine Helen \"Carrie\"  female   NaN      1   \n889                                Behr, Mr. Karl Howell    male  26.0      0   \n890                                  Dooley, Mr. Patrick    male  32.0      0   \n\n     Parch            Ticket     Fare Cabin Embarked  \n0        0         A/5 21171   7.2500   NaN        S  \n1        0          PC 17599  71.2833   C85        C  \n2        0  STON/O2. 3101282   7.9250   NaN        S  \n3        0            113803  53.1000  C123        S  \n4        0            373450   8.0500   NaN        S  \n..     ...               ...      ...   ...      ...  \n886      0            211536  13.0000   NaN        S  \n887      0            112053  30.0000   B42        S  \n888      2        W./C. 6607  23.4500   NaN        S  \n889      0            111369  30.0000  C148        C  \n890      0            370376   7.7500   NaN        Q  \n\n[891 rows x 12 columns]",
      "text/html": "<div>\n<style scoped>\n    .dataframe tbody tr th:only-of-type {\n        vertical-align: middle;\n    }\n\n    .dataframe tbody tr th {\n        vertical-align: top;\n    }\n\n    .dataframe thead th {\n        text-align: right;\n    }\n</style>\n<table border=\"1\" class=\"dataframe\">\n  <thead>\n    <tr style=\"text-align: right;\">\n      <th></th>\n      <th>PassengerId</th>\n      <th>Survived</th>\n      <th>Pclass</th>\n      <th>Name</th>\n      <th>Sex</th>\n      <th>Age</th>\n      <th>SibSp</th>\n      <th>Parch</th>\n      <th>Ticket</th>\n      <th>Fare</th>\n      <th>Cabin</th>\n      <th>Embarked</th>\n    </tr>\n  </thead>\n  <tbody>\n    <tr>\n      <th>0</th>\n      <td>1</td>\n      <td>0</td>\n      <td>3</td>\n      <td>Braund, Mr. Owen Harris</td>\n      <td>male</td>\n      <td>22.0</td>\n      <td>1</td>\n      <td>0</td>\n      <td>A/5 21171</td>\n      <td>7.2500</td>\n      <td>NaN</td>\n      <td>S</td>\n    </tr>\n    <tr>\n      <th>1</th>\n      <td>2</td>\n      <td>1</td>\n      <td>1</td>\n      <td>Cumings, Mrs. John Bradley (Florence Briggs Thayer)</td>\n      <td>female</td>\n      <td>38.0</td>\n      <td>1</td>\n      <td>0</td>\n      <td>PC 17599</td>\n      <td>71.2833</td>\n      <td>C85</td>\n      <td>C</td>\n    </tr>\n    <tr>\n      <th>2</th>\n      <td>3</td>\n      <td>1</td>\n      <td>3</td>\n      <td>Heikkinen, Miss. Laina</td>\n      <td>female</td>\n      <td>26.0</td>\n      <td>0</td>\n      <td>0</td>\n      <td>STON/O2. 3101282</td>\n      <td>7.9250</td>\n      <td>NaN</td>\n      <td>S</td>\n    </tr>\n    <tr>\n      <th>3</th>\n      <td>4</td>\n      <td>1</td>\n      <td>1</td>\n      <td>Futrelle, Mrs. Jacques Heath (Lily May Peel)</td>\n      <td>female</td>\n      <td>35.0</td>\n      <td>1</td>\n      <td>0</td>\n      <td>113803</td>\n      <td>53.1000</td>\n      <td>C123</td>\n      <td>S</td>\n    </tr>\n    <tr>\n      <th>4</th>\n      <td>5</td>\n      <td>0</td>\n      <td>3</td>\n      <td>Allen, Mr. William Henry</td>\n      <td>male</td>\n      <td>35.0</td>\n      <td>0</td>\n      <td>0</td>\n      <td>373450</td>\n      <td>8.0500</td>\n      <td>NaN</td>\n      <td>S</td>\n    </tr>\n    <tr>\n      <th>...</th>\n      <td>...</td>\n      <td>...</td>\n      <td>...</td>\n      <td>...</td>\n      <td>...</td>\n      <td>...</td>\n      <td>...</td>\n      <td>...</td>\n      <td>...</td>\n      <td>...</td>\n      <td>...</td>\n      <td>...</td>\n    </tr>\n    <tr>\n      <th>886</th>\n      <td>887</td>\n      <td>0</td>\n      <td>2</td>\n      <td>Montvila, Rev. Juozas</td>\n      <td>male</td>\n      <td>27.0</td>\n      <td>0</td>\n      <td>0</td>\n      <td>211536</td>\n      <td>13.0000</td>\n      <td>NaN</td>\n      <td>S</td>\n    </tr>\n    <tr>\n      <th>887</th>\n      <td>888</td>\n      <td>1</td>\n      <td>1</td>\n      <td>Graham, Miss. Margaret Edith</td>\n      <td>female</td>\n      <td>19.0</td>\n      <td>0</td>\n      <td>0</td>\n      <td>112053</td>\n      <td>30.0000</td>\n      <td>B42</td>\n      <td>S</td>\n    </tr>\n    <tr>\n      <th>888</th>\n      <td>889</td>\n      <td>0</td>\n      <td>3</td>\n      <td>Johnston, Miss. Catherine Helen \"Carrie\"</td>\n      <td>female</td>\n      <td>NaN</td>\n      <td>1</td>\n      <td>2</td>\n      <td>W./C. 6607</td>\n      <td>23.4500</td>\n      <td>NaN</td>\n      <td>S</td>\n    </tr>\n    <tr>\n      <th>889</th>\n      <td>890</td>\n      <td>1</td>\n      <td>1</td>\n      <td>Behr, Mr. Karl Howell</td>\n      <td>male</td>\n      <td>26.0</td>\n      <td>0</td>\n      <td>0</td>\n      <td>111369</td>\n      <td>30.0000</td>\n      <td>C148</td>\n      <td>C</td>\n    </tr>\n    <tr>\n      <th>890</th>\n      <td>891</td>\n      <td>0</td>\n      <td>3</td>\n      <td>Dooley, Mr. Patrick</td>\n      <td>male</td>\n      <td>32.0</td>\n      <td>0</td>\n      <td>0</td>\n      <td>370376</td>\n      <td>7.7500</td>\n      <td>NaN</td>\n      <td>Q</td>\n    </tr>\n  </tbody>\n</table>\n<p>891 rows × 12 columns</p>\n</div>"
     },
     "execution_count": 9,
     "metadata": {},
     "output_type": "execute_result"
    }
   ],
   "source": [
    "df_google"
   ]
  },
  {
   "cell_type": "markdown",
   "id": "6c1a26a5-5c1d-41db-b45d-4b4b9bb91219",
   "metadata": {},
   "source": [
    "#### print the first 3 rows"
   ]
  },
  {
   "cell_type": "code",
   "execution_count": 10,
   "id": "57ec7f42-0f6d-4d24-aa4f-1cf097aa7718",
   "metadata": {},
   "outputs": [
    {
     "data": {
      "text/plain": "   PassengerId  Survived  Pclass  \\\n0            1         0       3   \n1            2         1       1   \n2            3         1       3   \n\n                                                  Name     Sex   Age  SibSp  \\\n0                              Braund, Mr. Owen Harris    male  22.0      1   \n1  Cumings, Mrs. John Bradley (Florence Briggs Thayer)  female  38.0      1   \n2                               Heikkinen, Miss. Laina  female  26.0      0   \n\n   Parch            Ticket     Fare Cabin Embarked  \n0      0         A/5 21171   7.2500   NaN        S  \n1      0          PC 17599  71.2833   C85        C  \n2      0  STON/O2. 3101282   7.9250   NaN        S  ",
      "text/html": "<div>\n<style scoped>\n    .dataframe tbody tr th:only-of-type {\n        vertical-align: middle;\n    }\n\n    .dataframe tbody tr th {\n        vertical-align: top;\n    }\n\n    .dataframe thead th {\n        text-align: right;\n    }\n</style>\n<table border=\"1\" class=\"dataframe\">\n  <thead>\n    <tr style=\"text-align: right;\">\n      <th></th>\n      <th>PassengerId</th>\n      <th>Survived</th>\n      <th>Pclass</th>\n      <th>Name</th>\n      <th>Sex</th>\n      <th>Age</th>\n      <th>SibSp</th>\n      <th>Parch</th>\n      <th>Ticket</th>\n      <th>Fare</th>\n      <th>Cabin</th>\n      <th>Embarked</th>\n    </tr>\n  </thead>\n  <tbody>\n    <tr>\n      <th>0</th>\n      <td>1</td>\n      <td>0</td>\n      <td>3</td>\n      <td>Braund, Mr. Owen Harris</td>\n      <td>male</td>\n      <td>22.0</td>\n      <td>1</td>\n      <td>0</td>\n      <td>A/5 21171</td>\n      <td>7.2500</td>\n      <td>NaN</td>\n      <td>S</td>\n    </tr>\n    <tr>\n      <th>1</th>\n      <td>2</td>\n      <td>1</td>\n      <td>1</td>\n      <td>Cumings, Mrs. John Bradley (Florence Briggs Thayer)</td>\n      <td>female</td>\n      <td>38.0</td>\n      <td>1</td>\n      <td>0</td>\n      <td>PC 17599</td>\n      <td>71.2833</td>\n      <td>C85</td>\n      <td>C</td>\n    </tr>\n    <tr>\n      <th>2</th>\n      <td>3</td>\n      <td>1</td>\n      <td>3</td>\n      <td>Heikkinen, Miss. Laina</td>\n      <td>female</td>\n      <td>26.0</td>\n      <td>0</td>\n      <td>0</td>\n      <td>STON/O2. 3101282</td>\n      <td>7.9250</td>\n      <td>NaN</td>\n      <td>S</td>\n    </tr>\n  </tbody>\n</table>\n</div>"
     },
     "execution_count": 10,
     "metadata": {},
     "output_type": "execute_result"
    }
   ],
   "source": [
    "df_google.head(3)"
   ]
  },
  {
   "cell_type": "markdown",
   "id": "0d6cd266-03c8-411f-b01e-84c6c31bc80d",
   "metadata": {},
   "source": [
    "#### print the number of rows and columns"
   ]
  },
  {
   "cell_type": "code",
   "execution_count": 11,
   "id": "a4b9ec21-c13f-4f39-bbd0-4b4cc6f0e8c7",
   "metadata": {},
   "outputs": [
    {
     "data": {
      "text/plain": "(891, 12)"
     },
     "execution_count": 11,
     "metadata": {},
     "output_type": "execute_result"
    }
   ],
   "source": [
    "df_google.shape"
   ]
  },
  {
   "cell_type": "markdown",
   "id": "fd15deeb-06f7-4189-903d-7922c84afdf7",
   "metadata": {},
   "source": [
    "#### Print the column names."
   ]
  },
  {
   "cell_type": "code",
   "execution_count": 12,
   "id": "bfb43ab5-668c-41ef-871e-3251d62e2516",
   "metadata": {},
   "outputs": [
    {
     "data": {
      "text/plain": "Index(['PassengerId', 'Survived', 'Pclass', 'Name', 'Sex', 'Age', 'SibSp',\n       'Parch', 'Ticket', 'Fare', 'Cabin', 'Embarked'],\n      dtype='object')"
     },
     "execution_count": 12,
     "metadata": {},
     "output_type": "execute_result"
    }
   ],
   "source": [
    "df_google.columns"
   ]
  },
  {
   "cell_type": "markdown",
   "id": "51934acb-6216-4332-98c2-5b68b02fe5aa",
   "metadata": {},
   "source": [
    "#### print the data type of each column"
   ]
  },
  {
   "cell_type": "code",
   "execution_count": 13,
   "id": "be683495-fe63-42d7-8ac4-d000442bbfbf",
   "metadata": {},
   "outputs": [
    {
     "name": "stdout",
     "output_type": "stream",
     "text": [
      "<class 'pandas.core.frame.DataFrame'>\n",
      "RangeIndex: 891 entries, 0 to 890\n",
      "Data columns (total 12 columns):\n",
      " #   Column       Non-Null Count  Dtype  \n",
      "---  ------       --------------  -----  \n",
      " 0   PassengerId  891 non-null    int64  \n",
      " 1   Survived     891 non-null    int64  \n",
      " 2   Pclass       891 non-null    int64  \n",
      " 3   Name         891 non-null    object \n",
      " 4   Sex          891 non-null    object \n",
      " 5   Age          714 non-null    float64\n",
      " 6   SibSp        891 non-null    int64  \n",
      " 7   Parch        891 non-null    int64  \n",
      " 8   Ticket       891 non-null    object \n",
      " 9   Fare         891 non-null    float64\n",
      " 10  Cabin        204 non-null    object \n",
      " 11  Embarked     889 non-null    object \n",
      "dtypes: float64(2), int64(5), object(5)\n",
      "memory usage: 83.7+ KB\n"
     ]
    }
   ],
   "source": [
    "df_google.info()"
   ]
  },
  {
   "cell_type": "markdown",
   "id": "30f5bcbe-e054-4cb9-bbda-15f108c09f1c",
   "metadata": {},
   "source": [
    "#### print the summary statistics for each of the numeric variables"
   ]
  },
  {
   "cell_type": "code",
   "execution_count": 14,
   "id": "06eff827-ff16-4679-9576-72f03b9b61fd",
   "metadata": {},
   "outputs": [
    {
     "data": {
      "text/plain": "       PassengerId    Survived      Pclass         Age       SibSp  \\\ncount   891.000000  891.000000  891.000000  714.000000  891.000000   \nmean    446.000000    0.383838    2.308642   29.699118    0.523008   \nstd     257.353842    0.486592    0.836071   14.526497    1.102743   \nmin       1.000000    0.000000    1.000000    0.420000    0.000000   \n25%     223.500000    0.000000    2.000000   20.125000    0.000000   \n50%     446.000000    0.000000    3.000000   28.000000    0.000000   \n75%     668.500000    1.000000    3.000000   38.000000    1.000000   \nmax     891.000000    1.000000    3.000000   80.000000    8.000000   \n\n            Parch        Fare  \ncount  891.000000  891.000000  \nmean     0.381594   32.204208  \nstd      0.806057   49.693429  \nmin      0.000000    0.000000  \n25%      0.000000    7.910400  \n50%      0.000000   14.454200  \n75%      0.000000   31.000000  \nmax      6.000000  512.329200  ",
      "text/html": "<div>\n<style scoped>\n    .dataframe tbody tr th:only-of-type {\n        vertical-align: middle;\n    }\n\n    .dataframe tbody tr th {\n        vertical-align: top;\n    }\n\n    .dataframe thead th {\n        text-align: right;\n    }\n</style>\n<table border=\"1\" class=\"dataframe\">\n  <thead>\n    <tr style=\"text-align: right;\">\n      <th></th>\n      <th>PassengerId</th>\n      <th>Survived</th>\n      <th>Pclass</th>\n      <th>Age</th>\n      <th>SibSp</th>\n      <th>Parch</th>\n      <th>Fare</th>\n    </tr>\n  </thead>\n  <tbody>\n    <tr>\n      <th>count</th>\n      <td>891.000000</td>\n      <td>891.000000</td>\n      <td>891.000000</td>\n      <td>714.000000</td>\n      <td>891.000000</td>\n      <td>891.000000</td>\n      <td>891.000000</td>\n    </tr>\n    <tr>\n      <th>mean</th>\n      <td>446.000000</td>\n      <td>0.383838</td>\n      <td>2.308642</td>\n      <td>29.699118</td>\n      <td>0.523008</td>\n      <td>0.381594</td>\n      <td>32.204208</td>\n    </tr>\n    <tr>\n      <th>std</th>\n      <td>257.353842</td>\n      <td>0.486592</td>\n      <td>0.836071</td>\n      <td>14.526497</td>\n      <td>1.102743</td>\n      <td>0.806057</td>\n      <td>49.693429</td>\n    </tr>\n    <tr>\n      <th>min</th>\n      <td>1.000000</td>\n      <td>0.000000</td>\n      <td>1.000000</td>\n      <td>0.420000</td>\n      <td>0.000000</td>\n      <td>0.000000</td>\n      <td>0.000000</td>\n    </tr>\n    <tr>\n      <th>25%</th>\n      <td>223.500000</td>\n      <td>0.000000</td>\n      <td>2.000000</td>\n      <td>20.125000</td>\n      <td>0.000000</td>\n      <td>0.000000</td>\n      <td>7.910400</td>\n    </tr>\n    <tr>\n      <th>50%</th>\n      <td>446.000000</td>\n      <td>0.000000</td>\n      <td>3.000000</td>\n      <td>28.000000</td>\n      <td>0.000000</td>\n      <td>0.000000</td>\n      <td>14.454200</td>\n    </tr>\n    <tr>\n      <th>75%</th>\n      <td>668.500000</td>\n      <td>1.000000</td>\n      <td>3.000000</td>\n      <td>38.000000</td>\n      <td>1.000000</td>\n      <td>0.000000</td>\n      <td>31.000000</td>\n    </tr>\n    <tr>\n      <th>max</th>\n      <td>891.000000</td>\n      <td>1.000000</td>\n      <td>3.000000</td>\n      <td>80.000000</td>\n      <td>8.000000</td>\n      <td>6.000000</td>\n      <td>512.329200</td>\n    </tr>\n  </tbody>\n</table>\n</div>"
     },
     "execution_count": 14,
     "metadata": {},
     "output_type": "execute_result"
    }
   ],
   "source": [
    "df_google.describe()"
   ]
  },
  {
   "cell_type": "code",
   "execution_count": 15,
   "id": "dd999e65-aa81-4bef-a3fc-2d5175a9c7fe",
   "metadata": {},
   "outputs": [
    {
     "data": {
      "text/plain": "PassengerId    891\nSurvived         2\nPclass           3\nName           891\nSex              2\nAge             88\nSibSp            7\nParch            7\nTicket         681\nFare           248\nCabin          147\nEmbarked         3\ndtype: int64"
     },
     "execution_count": 15,
     "metadata": {},
     "output_type": "execute_result"
    }
   ],
   "source": [
    "df_google.nunique()"
   ]
  },
  {
   "cell_type": "markdown",
   "id": "0c422c40-3a5a-405a-9c2a-5824f9fc8402",
   "metadata": {},
   "source": [
    "## Download the previous exercise's file into an excel (File → Download → Microsoft Excel). Read the downloaded file into a dataframe named df_excel."
   ]
  },
  {
   "cell_type": "code",
   "execution_count": 16,
   "id": "07ec5e07-2591-4c93-ba86-e7797eabcd5e",
   "metadata": {},
   "outputs": [],
   "source": [
    "df_excel = pd.read_excel('train.xlsx')"
   ]
  },
  {
   "cell_type": "code",
   "execution_count": 17,
   "id": "5d04ea90-b0fd-4f73-8fc4-b5483a518f24",
   "metadata": {},
   "outputs": [
    {
     "data": {
      "text/plain": "     PassengerId  Survived  Pclass  \\\n0            1.0       0.0     3.0   \n1            2.0       1.0     1.0   \n2            3.0       1.0     3.0   \n3            4.0       1.0     1.0   \n4            5.0       0.0     3.0   \n..           ...       ...     ...   \n886        887.0       0.0     2.0   \n887        888.0       1.0     1.0   \n888        889.0       0.0     3.0   \n889        890.0       1.0     1.0   \n890        891.0       0.0     3.0   \n\n                                                    Name     Sex   Age  SibSp  \\\n0                                Braund, Mr. Owen Harris    male  22.0    1.0   \n1    Cumings, Mrs. John Bradley (Florence Briggs Thayer)  female  38.0    1.0   \n2                                 Heikkinen, Miss. Laina  female  26.0    0.0   \n3           Futrelle, Mrs. Jacques Heath (Lily May Peel)  female  35.0    1.0   \n4                               Allen, Mr. William Henry    male  35.0    0.0   \n..                                                   ...     ...   ...    ...   \n886                                Montvila, Rev. Juozas    male  27.0    0.0   \n887                         Graham, Miss. Margaret Edith  female  19.0    0.0   \n888             Johnston, Miss. Catherine Helen \"Carrie\"  female   NaN    1.0   \n889                                Behr, Mr. Karl Howell    male  26.0    0.0   \n890                                  Dooley, Mr. Patrick    male  32.0    0.0   \n\n     Parch            Ticket     Fare Cabin Embarked  \n0      0.0         A/5 21171   7.2500   NaN        S  \n1      0.0          PC 17599  71.2833   C85        C  \n2      0.0  STON/O2. 3101282   7.9250   NaN        S  \n3      0.0          113803.0  53.1000  C123        S  \n4      0.0          373450.0   8.0500   NaN        S  \n..     ...               ...      ...   ...      ...  \n886    0.0          211536.0  13.0000   NaN        S  \n887    0.0          112053.0  30.0000   B42        S  \n888    2.0        W./C. 6607  23.4500   NaN        S  \n889    0.0          111369.0  30.0000  C148        C  \n890    0.0          370376.0   7.7500   NaN        Q  \n\n[891 rows x 12 columns]",
      "text/html": "<div>\n<style scoped>\n    .dataframe tbody tr th:only-of-type {\n        vertical-align: middle;\n    }\n\n    .dataframe tbody tr th {\n        vertical-align: top;\n    }\n\n    .dataframe thead th {\n        text-align: right;\n    }\n</style>\n<table border=\"1\" class=\"dataframe\">\n  <thead>\n    <tr style=\"text-align: right;\">\n      <th></th>\n      <th>PassengerId</th>\n      <th>Survived</th>\n      <th>Pclass</th>\n      <th>Name</th>\n      <th>Sex</th>\n      <th>Age</th>\n      <th>SibSp</th>\n      <th>Parch</th>\n      <th>Ticket</th>\n      <th>Fare</th>\n      <th>Cabin</th>\n      <th>Embarked</th>\n    </tr>\n  </thead>\n  <tbody>\n    <tr>\n      <th>0</th>\n      <td>1.0</td>\n      <td>0.0</td>\n      <td>3.0</td>\n      <td>Braund, Mr. Owen Harris</td>\n      <td>male</td>\n      <td>22.0</td>\n      <td>1.0</td>\n      <td>0.0</td>\n      <td>A/5 21171</td>\n      <td>7.2500</td>\n      <td>NaN</td>\n      <td>S</td>\n    </tr>\n    <tr>\n      <th>1</th>\n      <td>2.0</td>\n      <td>1.0</td>\n      <td>1.0</td>\n      <td>Cumings, Mrs. John Bradley (Florence Briggs Thayer)</td>\n      <td>female</td>\n      <td>38.0</td>\n      <td>1.0</td>\n      <td>0.0</td>\n      <td>PC 17599</td>\n      <td>71.2833</td>\n      <td>C85</td>\n      <td>C</td>\n    </tr>\n    <tr>\n      <th>2</th>\n      <td>3.0</td>\n      <td>1.0</td>\n      <td>3.0</td>\n      <td>Heikkinen, Miss. Laina</td>\n      <td>female</td>\n      <td>26.0</td>\n      <td>0.0</td>\n      <td>0.0</td>\n      <td>STON/O2. 3101282</td>\n      <td>7.9250</td>\n      <td>NaN</td>\n      <td>S</td>\n    </tr>\n    <tr>\n      <th>3</th>\n      <td>4.0</td>\n      <td>1.0</td>\n      <td>1.0</td>\n      <td>Futrelle, Mrs. Jacques Heath (Lily May Peel)</td>\n      <td>female</td>\n      <td>35.0</td>\n      <td>1.0</td>\n      <td>0.0</td>\n      <td>113803.0</td>\n      <td>53.1000</td>\n      <td>C123</td>\n      <td>S</td>\n    </tr>\n    <tr>\n      <th>4</th>\n      <td>5.0</td>\n      <td>0.0</td>\n      <td>3.0</td>\n      <td>Allen, Mr. William Henry</td>\n      <td>male</td>\n      <td>35.0</td>\n      <td>0.0</td>\n      <td>0.0</td>\n      <td>373450.0</td>\n      <td>8.0500</td>\n      <td>NaN</td>\n      <td>S</td>\n    </tr>\n    <tr>\n      <th>...</th>\n      <td>...</td>\n      <td>...</td>\n      <td>...</td>\n      <td>...</td>\n      <td>...</td>\n      <td>...</td>\n      <td>...</td>\n      <td>...</td>\n      <td>...</td>\n      <td>...</td>\n      <td>...</td>\n      <td>...</td>\n    </tr>\n    <tr>\n      <th>886</th>\n      <td>887.0</td>\n      <td>0.0</td>\n      <td>2.0</td>\n      <td>Montvila, Rev. Juozas</td>\n      <td>male</td>\n      <td>27.0</td>\n      <td>0.0</td>\n      <td>0.0</td>\n      <td>211536.0</td>\n      <td>13.0000</td>\n      <td>NaN</td>\n      <td>S</td>\n    </tr>\n    <tr>\n      <th>887</th>\n      <td>888.0</td>\n      <td>1.0</td>\n      <td>1.0</td>\n      <td>Graham, Miss. Margaret Edith</td>\n      <td>female</td>\n      <td>19.0</td>\n      <td>0.0</td>\n      <td>0.0</td>\n      <td>112053.0</td>\n      <td>30.0000</td>\n      <td>B42</td>\n      <td>S</td>\n    </tr>\n    <tr>\n      <th>888</th>\n      <td>889.0</td>\n      <td>0.0</td>\n      <td>3.0</td>\n      <td>Johnston, Miss. Catherine Helen \"Carrie\"</td>\n      <td>female</td>\n      <td>NaN</td>\n      <td>1.0</td>\n      <td>2.0</td>\n      <td>W./C. 6607</td>\n      <td>23.4500</td>\n      <td>NaN</td>\n      <td>S</td>\n    </tr>\n    <tr>\n      <th>889</th>\n      <td>890.0</td>\n      <td>1.0</td>\n      <td>1.0</td>\n      <td>Behr, Mr. Karl Howell</td>\n      <td>male</td>\n      <td>26.0</td>\n      <td>0.0</td>\n      <td>0.0</td>\n      <td>111369.0</td>\n      <td>30.0000</td>\n      <td>C148</td>\n      <td>C</td>\n    </tr>\n    <tr>\n      <th>890</th>\n      <td>891.0</td>\n      <td>0.0</td>\n      <td>3.0</td>\n      <td>Dooley, Mr. Patrick</td>\n      <td>male</td>\n      <td>32.0</td>\n      <td>0.0</td>\n      <td>0.0</td>\n      <td>370376.0</td>\n      <td>7.7500</td>\n      <td>NaN</td>\n      <td>Q</td>\n    </tr>\n  </tbody>\n</table>\n<p>891 rows × 12 columns</p>\n</div>"
     },
     "execution_count": 17,
     "metadata": {},
     "output_type": "execute_result"
    }
   ],
   "source": [
    "df_excel"
   ]
  },
  {
   "cell_type": "markdown",
   "id": "bc46d891-a5ab-46e2-8096-c7ae7a02afc7",
   "metadata": {},
   "source": [
    "#### assign the first 100 rows to a new dataframe, df_excel_sample"
   ]
  },
  {
   "cell_type": "code",
   "execution_count": 18,
   "id": "4fea8915-c3ee-468b-aee7-30fb5449ca89",
   "metadata": {},
   "outputs": [],
   "source": [
    "df_excel_sample = df_excel.head(100)\n"
   ]
  },
  {
   "cell_type": "markdown",
   "id": "0d8b6582-a5e7-4c86-9cce-7c30e3a6a622",
   "metadata": {},
   "source": [
    "#### print the number of rows of your original dataframe"
   ]
  },
  {
   "cell_type": "code",
   "execution_count": 19,
   "id": "1bcb61c6-c035-4a05-b912-319dd0cbc5c1",
   "metadata": {},
   "outputs": [
    {
     "data": {
      "text/plain": "891"
     },
     "execution_count": 19,
     "metadata": {},
     "output_type": "execute_result"
    }
   ],
   "source": [
    "len(df_excel)"
   ]
  },
  {
   "cell_type": "markdown",
   "id": "56417469-57fd-46be-b9e9-0bc4ec78f5f5",
   "metadata": {},
   "source": [
    "#### print the first 5 column names"
   ]
  },
  {
   "cell_type": "code",
   "execution_count": 20,
   "id": "e23f900d-07fd-4a03-bd10-3843fcc86db2",
   "metadata": {},
   "outputs": [
    {
     "data": {
      "text/plain": "Index(['PassengerId', 'Survived', 'Pclass', 'Name', 'Sex'], dtype='object')"
     },
     "execution_count": 20,
     "metadata": {},
     "output_type": "execute_result"
    }
   ],
   "source": [
    "df_excel.columns[0:5]"
   ]
  },
  {
   "cell_type": "markdown",
   "id": "06c02ed4-9350-4bc6-801f-633a27a12691",
   "metadata": {},
   "source": [
    "#### print the column names that have a data type of object"
   ]
  },
  {
   "cell_type": "code",
   "execution_count": 21,
   "id": "0aa09307-63ed-4b11-9fd7-28bae8e3c364",
   "metadata": {},
   "outputs": [
    {
     "name": "stdout",
     "output_type": "stream",
     "text": [
      "Name\n",
      "Sex\n",
      "Ticket\n",
      "Cabin\n",
      "Embarked\n"
     ]
    }
   ],
   "source": [
    "for x in df_excel.columns:\n",
    "    if df_excel[x].dtype == 'O':\n",
    "        print(x)\n",
    "        "
   ]
  },
  {
   "cell_type": "markdown",
   "id": "75f618fc-cef7-431a-8d3f-c174af896fe7",
   "metadata": {},
   "source": [
    "#### compute the range for each of the numeric variables."
   ]
  },
  {
   "cell_type": "code",
   "execution_count": 22,
   "id": "3a7e220d-d091-4be0-9e8d-348a5b5db2d3",
   "metadata": {},
   "outputs": [],
   "source": [
    "numeric_vars = []\n",
    "for x in df_excel.columns:\n",
    "    if df_excel[x].dtype != 'O':\n",
    "        numeric_vars.append(x)\n",
    "        "
   ]
  },
  {
   "cell_type": "code",
   "execution_count": 23,
   "id": "8f2e3467-9ba7-4e19-b399-e9e0b48322ab",
   "metadata": {},
   "outputs": [
    {
     "data": {
      "text/plain": "PassengerId    890.0000\nSurvived         1.0000\nPclass           2.0000\nAge             79.5800\nSibSp            8.0000\nParch            6.0000\nFare           512.3292\ndtype: float64"
     },
     "execution_count": 23,
     "metadata": {},
     "output_type": "execute_result"
    }
   ],
   "source": [
    "df_excel[numeric_vars].max() - df_excel[numeric_vars].min()"
   ]
  },
  {
   "cell_type": "markdown",
   "id": "deddfa1b-11b8-45a3-9fbd-a0518be2434f",
   "metadata": {},
   "source": [
    "## Make a new python module, acquire.py to hold the following data aquisition functions:"
   ]
  },
  {
   "cell_type": "code",
   "execution_count": 23,
   "id": "9cc9555e-28c4-4cd8-a7d5-cf4c6f69fc92",
   "metadata": {},
   "outputs": [],
   "source": []
  },
  {
   "cell_type": "markdown",
   "id": "58e10774-0acd-49b1-b3c1-82ab9c76540b",
   "metadata": {},
   "source": [
    "## Prepare exercises\n"
   ]
  },
  {
   "cell_type": "markdown",
   "id": "668277f7-be0a-487a-9e8f-134f85a17c8e",
   "metadata": {},
   "source": [
    "### Using the Iris Data:"
   ]
  },
  {
   "cell_type": "markdown",
   "id": "0b263e74-e414-4c48-a30b-1dce9c8bd971",
   "metadata": {},
   "source": [
    "Use the function defined in acquire.py to load the iris data."
   ]
  },
  {
   "cell_type": "code",
   "execution_count": 77,
   "id": "ca72527e-85f0-4da5-b460-1d97649a50a6",
   "metadata": {},
   "outputs": [],
   "source": [
    "fresh_iris = get_iris_data()"
   ]
  },
  {
   "cell_type": "code",
   "execution_count": 78,
   "id": "80f3380e-264e-45a8-bc2f-b2ca556cfff0",
   "metadata": {},
   "outputs": [
    {
     "data": {
      "text/plain": "   Unnamed: 0  species_id species_name  measurement_id  sepal_length  \\\n0           0           1       setosa               1           5.1   \n1           1           1       setosa               2           4.9   \n2           2           1       setosa               3           4.7   \n3           3           1       setosa               4           4.6   \n4           4           1       setosa               5           5.0   \n\n   sepal_width  petal_length  petal_width  \n0          3.5           1.4          0.2  \n1          3.0           1.4          0.2  \n2          3.2           1.3          0.2  \n3          3.1           1.5          0.2  \n4          3.6           1.4          0.2  ",
      "text/html": "<div>\n<style scoped>\n    .dataframe tbody tr th:only-of-type {\n        vertical-align: middle;\n    }\n\n    .dataframe tbody tr th {\n        vertical-align: top;\n    }\n\n    .dataframe thead th {\n        text-align: right;\n    }\n</style>\n<table border=\"1\" class=\"dataframe\">\n  <thead>\n    <tr style=\"text-align: right;\">\n      <th></th>\n      <th>Unnamed: 0</th>\n      <th>species_id</th>\n      <th>species_name</th>\n      <th>measurement_id</th>\n      <th>sepal_length</th>\n      <th>sepal_width</th>\n      <th>petal_length</th>\n      <th>petal_width</th>\n    </tr>\n  </thead>\n  <tbody>\n    <tr>\n      <th>0</th>\n      <td>0</td>\n      <td>1</td>\n      <td>setosa</td>\n      <td>1</td>\n      <td>5.1</td>\n      <td>3.5</td>\n      <td>1.4</td>\n      <td>0.2</td>\n    </tr>\n    <tr>\n      <th>1</th>\n      <td>1</td>\n      <td>1</td>\n      <td>setosa</td>\n      <td>2</td>\n      <td>4.9</td>\n      <td>3.0</td>\n      <td>1.4</td>\n      <td>0.2</td>\n    </tr>\n    <tr>\n      <th>2</th>\n      <td>2</td>\n      <td>1</td>\n      <td>setosa</td>\n      <td>3</td>\n      <td>4.7</td>\n      <td>3.2</td>\n      <td>1.3</td>\n      <td>0.2</td>\n    </tr>\n    <tr>\n      <th>3</th>\n      <td>3</td>\n      <td>1</td>\n      <td>setosa</td>\n      <td>4</td>\n      <td>4.6</td>\n      <td>3.1</td>\n      <td>1.5</td>\n      <td>0.2</td>\n    </tr>\n    <tr>\n      <th>4</th>\n      <td>4</td>\n      <td>1</td>\n      <td>setosa</td>\n      <td>5</td>\n      <td>5.0</td>\n      <td>3.6</td>\n      <td>1.4</td>\n      <td>0.2</td>\n    </tr>\n  </tbody>\n</table>\n</div>"
     },
     "execution_count": 78,
     "metadata": {},
     "output_type": "execute_result"
    }
   ],
   "source": [
    "fresh_iris.head()"
   ]
  },
  {
   "cell_type": "markdown",
   "id": "6bac2511-2c12-4e28-8232-51acc0cccb4a",
   "metadata": {},
   "source": [
    "Drop the species_id and measurement_id columns."
   ]
  },
  {
   "cell_type": "code",
   "execution_count": 26,
   "id": "217715e7-f918-44e0-8a65-91e38b6112a7",
   "metadata": {},
   "outputs": [],
   "source": [
    "my_iris= fresh_iris.drop(columns = {'species_id','measurement_id','Unnamed: 0'})"
   ]
  },
  {
   "cell_type": "code",
   "execution_count": 27,
   "id": "db4c70f2-6083-4ebb-92ce-4d70e73082b5",
   "metadata": {},
   "outputs": [
    {
     "data": {
      "text/plain": "  species_name  sepal_length  sepal_width  petal_length  petal_width\n0       setosa           5.1          3.5           1.4          0.2\n1       setosa           4.9          3.0           1.4          0.2\n2       setosa           4.7          3.2           1.3          0.2\n3       setosa           4.6          3.1           1.5          0.2\n4       setosa           5.0          3.6           1.4          0.2",
      "text/html": "<div>\n<style scoped>\n    .dataframe tbody tr th:only-of-type {\n        vertical-align: middle;\n    }\n\n    .dataframe tbody tr th {\n        vertical-align: top;\n    }\n\n    .dataframe thead th {\n        text-align: right;\n    }\n</style>\n<table border=\"1\" class=\"dataframe\">\n  <thead>\n    <tr style=\"text-align: right;\">\n      <th></th>\n      <th>species_name</th>\n      <th>sepal_length</th>\n      <th>sepal_width</th>\n      <th>petal_length</th>\n      <th>petal_width</th>\n    </tr>\n  </thead>\n  <tbody>\n    <tr>\n      <th>0</th>\n      <td>setosa</td>\n      <td>5.1</td>\n      <td>3.5</td>\n      <td>1.4</td>\n      <td>0.2</td>\n    </tr>\n    <tr>\n      <th>1</th>\n      <td>setosa</td>\n      <td>4.9</td>\n      <td>3.0</td>\n      <td>1.4</td>\n      <td>0.2</td>\n    </tr>\n    <tr>\n      <th>2</th>\n      <td>setosa</td>\n      <td>4.7</td>\n      <td>3.2</td>\n      <td>1.3</td>\n      <td>0.2</td>\n    </tr>\n    <tr>\n      <th>3</th>\n      <td>setosa</td>\n      <td>4.6</td>\n      <td>3.1</td>\n      <td>1.5</td>\n      <td>0.2</td>\n    </tr>\n    <tr>\n      <th>4</th>\n      <td>setosa</td>\n      <td>5.0</td>\n      <td>3.6</td>\n      <td>1.4</td>\n      <td>0.2</td>\n    </tr>\n  </tbody>\n</table>\n</div>"
     },
     "execution_count": 27,
     "metadata": {},
     "output_type": "execute_result"
    }
   ],
   "source": [
    "my_iris.head()"
   ]
  },
  {
   "cell_type": "markdown",
   "id": "dcf89668-9aa4-4150-ae04-bfac47f39572",
   "metadata": {},
   "source": [
    "Rename the species_name column to just species."
   ]
  },
  {
   "cell_type": "code",
   "execution_count": 28,
   "id": "5e3f2f45-a318-4933-b489-bcdc9e5a3dc4",
   "metadata": {},
   "outputs": [],
   "source": [
    "my_iris = fresh_iris.rename(columns = {'species_name':'species'})"
   ]
  },
  {
   "cell_type": "code",
   "execution_count": 29,
   "id": "80687a0f-a7b8-4f2e-9746-7fa54f6a3c0c",
   "metadata": {},
   "outputs": [
    {
     "data": {
      "text/plain": "   Unnamed: 0  species_id species  measurement_id  sepal_length  sepal_width  \\\n0           0           1  setosa               1           5.1          3.5   \n1           1           1  setosa               2           4.9          3.0   \n2           2           1  setosa               3           4.7          3.2   \n3           3           1  setosa               4           4.6          3.1   \n4           4           1  setosa               5           5.0          3.6   \n\n   petal_length  petal_width  \n0           1.4          0.2  \n1           1.4          0.2  \n2           1.3          0.2  \n3           1.5          0.2  \n4           1.4          0.2  ",
      "text/html": "<div>\n<style scoped>\n    .dataframe tbody tr th:only-of-type {\n        vertical-align: middle;\n    }\n\n    .dataframe tbody tr th {\n        vertical-align: top;\n    }\n\n    .dataframe thead th {\n        text-align: right;\n    }\n</style>\n<table border=\"1\" class=\"dataframe\">\n  <thead>\n    <tr style=\"text-align: right;\">\n      <th></th>\n      <th>Unnamed: 0</th>\n      <th>species_id</th>\n      <th>species</th>\n      <th>measurement_id</th>\n      <th>sepal_length</th>\n      <th>sepal_width</th>\n      <th>petal_length</th>\n      <th>petal_width</th>\n    </tr>\n  </thead>\n  <tbody>\n    <tr>\n      <th>0</th>\n      <td>0</td>\n      <td>1</td>\n      <td>setosa</td>\n      <td>1</td>\n      <td>5.1</td>\n      <td>3.5</td>\n      <td>1.4</td>\n      <td>0.2</td>\n    </tr>\n    <tr>\n      <th>1</th>\n      <td>1</td>\n      <td>1</td>\n      <td>setosa</td>\n      <td>2</td>\n      <td>4.9</td>\n      <td>3.0</td>\n      <td>1.4</td>\n      <td>0.2</td>\n    </tr>\n    <tr>\n      <th>2</th>\n      <td>2</td>\n      <td>1</td>\n      <td>setosa</td>\n      <td>3</td>\n      <td>4.7</td>\n      <td>3.2</td>\n      <td>1.3</td>\n      <td>0.2</td>\n    </tr>\n    <tr>\n      <th>3</th>\n      <td>3</td>\n      <td>1</td>\n      <td>setosa</td>\n      <td>4</td>\n      <td>4.6</td>\n      <td>3.1</td>\n      <td>1.5</td>\n      <td>0.2</td>\n    </tr>\n    <tr>\n      <th>4</th>\n      <td>4</td>\n      <td>1</td>\n      <td>setosa</td>\n      <td>5</td>\n      <td>5.0</td>\n      <td>3.6</td>\n      <td>1.4</td>\n      <td>0.2</td>\n    </tr>\n  </tbody>\n</table>\n</div>"
     },
     "execution_count": 29,
     "metadata": {},
     "output_type": "execute_result"
    }
   ],
   "source": [
    "my_iris.head()"
   ]
  },
  {
   "cell_type": "markdown",
   "id": "21644345-733d-49da-b684-f65b48517be5",
   "metadata": {},
   "source": [
    "Create dummy variables of the species name and concatenate onto the iris dataframe. (This is for practice, we don't always have to encode the target, but if we used species as a feature, we would need to encode it)."
   ]
  },
  {
   "cell_type": "code",
   "execution_count": 30,
   "id": "85d3f332-5b1f-4936-9828-8613d94e5ee7",
   "metadata": {},
   "outputs": [],
   "source": [
    "my_iris['encoded_species'] = fresh_iris['species_name'].map({'setosa':1,'versicolor':2,'virginica':3})"
   ]
  },
  {
   "cell_type": "code",
   "execution_count": 31,
   "id": "b368eade-08fe-415e-b017-934217213fec",
   "metadata": {},
   "outputs": [
    {
     "data": {
      "text/plain": "   Unnamed: 0  species_id species  measurement_id  sepal_length  sepal_width  \\\n0           0           1  setosa               1           5.1          3.5   \n1           1           1  setosa               2           4.9          3.0   \n2           2           1  setosa               3           4.7          3.2   \n3           3           1  setosa               4           4.6          3.1   \n4           4           1  setosa               5           5.0          3.6   \n\n   petal_length  petal_width  encoded_species  \n0           1.4          0.2                1  \n1           1.4          0.2                1  \n2           1.3          0.2                1  \n3           1.5          0.2                1  \n4           1.4          0.2                1  ",
      "text/html": "<div>\n<style scoped>\n    .dataframe tbody tr th:only-of-type {\n        vertical-align: middle;\n    }\n\n    .dataframe tbody tr th {\n        vertical-align: top;\n    }\n\n    .dataframe thead th {\n        text-align: right;\n    }\n</style>\n<table border=\"1\" class=\"dataframe\">\n  <thead>\n    <tr style=\"text-align: right;\">\n      <th></th>\n      <th>Unnamed: 0</th>\n      <th>species_id</th>\n      <th>species</th>\n      <th>measurement_id</th>\n      <th>sepal_length</th>\n      <th>sepal_width</th>\n      <th>petal_length</th>\n      <th>petal_width</th>\n      <th>encoded_species</th>\n    </tr>\n  </thead>\n  <tbody>\n    <tr>\n      <th>0</th>\n      <td>0</td>\n      <td>1</td>\n      <td>setosa</td>\n      <td>1</td>\n      <td>5.1</td>\n      <td>3.5</td>\n      <td>1.4</td>\n      <td>0.2</td>\n      <td>1</td>\n    </tr>\n    <tr>\n      <th>1</th>\n      <td>1</td>\n      <td>1</td>\n      <td>setosa</td>\n      <td>2</td>\n      <td>4.9</td>\n      <td>3.0</td>\n      <td>1.4</td>\n      <td>0.2</td>\n      <td>1</td>\n    </tr>\n    <tr>\n      <th>2</th>\n      <td>2</td>\n      <td>1</td>\n      <td>setosa</td>\n      <td>3</td>\n      <td>4.7</td>\n      <td>3.2</td>\n      <td>1.3</td>\n      <td>0.2</td>\n      <td>1</td>\n    </tr>\n    <tr>\n      <th>3</th>\n      <td>3</td>\n      <td>1</td>\n      <td>setosa</td>\n      <td>4</td>\n      <td>4.6</td>\n      <td>3.1</td>\n      <td>1.5</td>\n      <td>0.2</td>\n      <td>1</td>\n    </tr>\n    <tr>\n      <th>4</th>\n      <td>4</td>\n      <td>1</td>\n      <td>setosa</td>\n      <td>5</td>\n      <td>5.0</td>\n      <td>3.6</td>\n      <td>1.4</td>\n      <td>0.2</td>\n      <td>1</td>\n    </tr>\n  </tbody>\n</table>\n</div>"
     },
     "execution_count": 31,
     "metadata": {},
     "output_type": "execute_result"
    }
   ],
   "source": [
    "my_iris.head()"
   ]
  },
  {
   "cell_type": "markdown",
   "id": "89ef3e03-06fc-490b-b7d1-bee30bfe6492",
   "metadata": {},
   "source": [
    "Create a function named prep_iris that accepts the untransformed iris data, and returns the data with the transformations above applied."
   ]
  },
  {
   "cell_type": "code",
   "execution_count": 32,
   "id": "9db71124-7d7c-419a-bc2b-7ab04b367afc",
   "metadata": {},
   "outputs": [],
   "source": [
    "def prep_iris(fresh_iris):\n",
    "    iris = fresh_iris.drop(columns = {'species_id','measurement_id','Unnamed: 0'})\n",
    "    iris = iris.rename(columns = {'species_name':'species'})\n",
    "    iris['encoded_species'] = iris['species'].map({'setosa':1,'versicolor':2,'virginica':3})\n",
    "    return iris\n",
    "    "
   ]
  },
  {
   "cell_type": "code",
   "execution_count": 33,
   "id": "7d55b487-e4f9-4065-a1ad-1c11e96afe9e",
   "metadata": {},
   "outputs": [
    {
     "data": {
      "text/plain": "  species  sepal_length  sepal_width  petal_length  petal_width  \\\n0  setosa           5.1          3.5           1.4          0.2   \n1  setosa           4.9          3.0           1.4          0.2   \n2  setosa           4.7          3.2           1.3          0.2   \n3  setosa           4.6          3.1           1.5          0.2   \n4  setosa           5.0          3.6           1.4          0.2   \n\n   encoded_species  \n0                1  \n1                1  \n2                1  \n3                1  \n4                1  ",
      "text/html": "<div>\n<style scoped>\n    .dataframe tbody tr th:only-of-type {\n        vertical-align: middle;\n    }\n\n    .dataframe tbody tr th {\n        vertical-align: top;\n    }\n\n    .dataframe thead th {\n        text-align: right;\n    }\n</style>\n<table border=\"1\" class=\"dataframe\">\n  <thead>\n    <tr style=\"text-align: right;\">\n      <th></th>\n      <th>species</th>\n      <th>sepal_length</th>\n      <th>sepal_width</th>\n      <th>petal_length</th>\n      <th>petal_width</th>\n      <th>encoded_species</th>\n    </tr>\n  </thead>\n  <tbody>\n    <tr>\n      <th>0</th>\n      <td>setosa</td>\n      <td>5.1</td>\n      <td>3.5</td>\n      <td>1.4</td>\n      <td>0.2</td>\n      <td>1</td>\n    </tr>\n    <tr>\n      <th>1</th>\n      <td>setosa</td>\n      <td>4.9</td>\n      <td>3.0</td>\n      <td>1.4</td>\n      <td>0.2</td>\n      <td>1</td>\n    </tr>\n    <tr>\n      <th>2</th>\n      <td>setosa</td>\n      <td>4.7</td>\n      <td>3.2</td>\n      <td>1.3</td>\n      <td>0.2</td>\n      <td>1</td>\n    </tr>\n    <tr>\n      <th>3</th>\n      <td>setosa</td>\n      <td>4.6</td>\n      <td>3.1</td>\n      <td>1.5</td>\n      <td>0.2</td>\n      <td>1</td>\n    </tr>\n    <tr>\n      <th>4</th>\n      <td>setosa</td>\n      <td>5.0</td>\n      <td>3.6</td>\n      <td>1.4</td>\n      <td>0.2</td>\n      <td>1</td>\n    </tr>\n  </tbody>\n</table>\n</div>"
     },
     "execution_count": 33,
     "metadata": {},
     "output_type": "execute_result"
    }
   ],
   "source": [
    "prep_iris(fresh_iris).head()"
   ]
  },
  {
   "cell_type": "markdown",
   "id": "7e875105-6425-49f3-ac32-ebff01017d76",
   "metadata": {},
   "source": [
    "### Using the Titanic dataset"
   ]
  },
  {
   "cell_type": "markdown",
   "id": "a95709b2-1d89-43f4-b888-1bc717282e91",
   "metadata": {},
   "source": [
    "Use the function defined in acquire.py to load the Titanic data."
   ]
  },
  {
   "cell_type": "code",
   "execution_count": 34,
   "id": "a390bc28-84ab-4824-8507-f1010b75f31a",
   "metadata": {},
   "outputs": [],
   "source": [
    "FreshTitanic = get_titanic_data()"
   ]
  },
  {
   "cell_type": "code",
   "execution_count": 35,
   "id": "47d2cd0e-9220-4ca3-8374-19af6cbe09e7",
   "metadata": {},
   "outputs": [
    {
     "data": {
      "text/plain": "   Unnamed: 0  passenger_id  survived  pclass     sex   age  sibsp  parch  \\\n0           0             0         0       3    male  22.0      1      0   \n1           1             1         1       1  female  38.0      1      0   \n2           2             2         1       3  female  26.0      0      0   \n3           3             3         1       1  female  35.0      1      0   \n4           4             4         0       3    male  35.0      0      0   \n\n      fare embarked  class deck  embark_town  alone  \n0   7.2500        S  Third  NaN  Southampton      0  \n1  71.2833        C  First    C    Cherbourg      0  \n2   7.9250        S  Third  NaN  Southampton      1  \n3  53.1000        S  First    C  Southampton      0  \n4   8.0500        S  Third  NaN  Southampton      1  ",
      "text/html": "<div>\n<style scoped>\n    .dataframe tbody tr th:only-of-type {\n        vertical-align: middle;\n    }\n\n    .dataframe tbody tr th {\n        vertical-align: top;\n    }\n\n    .dataframe thead th {\n        text-align: right;\n    }\n</style>\n<table border=\"1\" class=\"dataframe\">\n  <thead>\n    <tr style=\"text-align: right;\">\n      <th></th>\n      <th>Unnamed: 0</th>\n      <th>passenger_id</th>\n      <th>survived</th>\n      <th>pclass</th>\n      <th>sex</th>\n      <th>age</th>\n      <th>sibsp</th>\n      <th>parch</th>\n      <th>fare</th>\n      <th>embarked</th>\n      <th>class</th>\n      <th>deck</th>\n      <th>embark_town</th>\n      <th>alone</th>\n    </tr>\n  </thead>\n  <tbody>\n    <tr>\n      <th>0</th>\n      <td>0</td>\n      <td>0</td>\n      <td>0</td>\n      <td>3</td>\n      <td>male</td>\n      <td>22.0</td>\n      <td>1</td>\n      <td>0</td>\n      <td>7.2500</td>\n      <td>S</td>\n      <td>Third</td>\n      <td>NaN</td>\n      <td>Southampton</td>\n      <td>0</td>\n    </tr>\n    <tr>\n      <th>1</th>\n      <td>1</td>\n      <td>1</td>\n      <td>1</td>\n      <td>1</td>\n      <td>female</td>\n      <td>38.0</td>\n      <td>1</td>\n      <td>0</td>\n      <td>71.2833</td>\n      <td>C</td>\n      <td>First</td>\n      <td>C</td>\n      <td>Cherbourg</td>\n      <td>0</td>\n    </tr>\n    <tr>\n      <th>2</th>\n      <td>2</td>\n      <td>2</td>\n      <td>1</td>\n      <td>3</td>\n      <td>female</td>\n      <td>26.0</td>\n      <td>0</td>\n      <td>0</td>\n      <td>7.9250</td>\n      <td>S</td>\n      <td>Third</td>\n      <td>NaN</td>\n      <td>Southampton</td>\n      <td>1</td>\n    </tr>\n    <tr>\n      <th>3</th>\n      <td>3</td>\n      <td>3</td>\n      <td>1</td>\n      <td>1</td>\n      <td>female</td>\n      <td>35.0</td>\n      <td>1</td>\n      <td>0</td>\n      <td>53.1000</td>\n      <td>S</td>\n      <td>First</td>\n      <td>C</td>\n      <td>Southampton</td>\n      <td>0</td>\n    </tr>\n    <tr>\n      <th>4</th>\n      <td>4</td>\n      <td>4</td>\n      <td>0</td>\n      <td>3</td>\n      <td>male</td>\n      <td>35.0</td>\n      <td>0</td>\n      <td>0</td>\n      <td>8.0500</td>\n      <td>S</td>\n      <td>Third</td>\n      <td>NaN</td>\n      <td>Southampton</td>\n      <td>1</td>\n    </tr>\n  </tbody>\n</table>\n</div>"
     },
     "execution_count": 35,
     "metadata": {},
     "output_type": "execute_result"
    }
   ],
   "source": [
    "FreshTitanic.head()"
   ]
  },
  {
   "cell_type": "markdown",
   "id": "3e0673aa-ab8a-4a71-a2c4-c6202e8f0b39",
   "metadata": {},
   "source": [
    "Drop any unnecessary, unhelpful, or duplicated columns."
   ]
  },
  {
   "cell_type": "code",
   "execution_count": 36,
   "id": "4cc18b68-21d5-4b0a-8f92-6d23281a04df",
   "metadata": {},
   "outputs": [],
   "source": [
    "myTitanic = FreshTitanic.drop(columns = {'passenger_id', 'Unnamed: 0'})"
   ]
  },
  {
   "cell_type": "code",
   "execution_count": 37,
   "id": "40a43e4f-637a-4955-a64d-c93229d76405",
   "metadata": {},
   "outputs": [
    {
     "data": {
      "text/plain": "   survived  pclass     sex   age  sibsp  parch     fare embarked  class deck  \\\n0         0       3    male  22.0      1      0   7.2500        S  Third  NaN   \n1         1       1  female  38.0      1      0  71.2833        C  First    C   \n2         1       3  female  26.0      0      0   7.9250        S  Third  NaN   \n3         1       1  female  35.0      1      0  53.1000        S  First    C   \n4         0       3    male  35.0      0      0   8.0500        S  Third  NaN   \n\n   embark_town  alone  \n0  Southampton      0  \n1    Cherbourg      0  \n2  Southampton      1  \n3  Southampton      0  \n4  Southampton      1  ",
      "text/html": "<div>\n<style scoped>\n    .dataframe tbody tr th:only-of-type {\n        vertical-align: middle;\n    }\n\n    .dataframe tbody tr th {\n        vertical-align: top;\n    }\n\n    .dataframe thead th {\n        text-align: right;\n    }\n</style>\n<table border=\"1\" class=\"dataframe\">\n  <thead>\n    <tr style=\"text-align: right;\">\n      <th></th>\n      <th>survived</th>\n      <th>pclass</th>\n      <th>sex</th>\n      <th>age</th>\n      <th>sibsp</th>\n      <th>parch</th>\n      <th>fare</th>\n      <th>embarked</th>\n      <th>class</th>\n      <th>deck</th>\n      <th>embark_town</th>\n      <th>alone</th>\n    </tr>\n  </thead>\n  <tbody>\n    <tr>\n      <th>0</th>\n      <td>0</td>\n      <td>3</td>\n      <td>male</td>\n      <td>22.0</td>\n      <td>1</td>\n      <td>0</td>\n      <td>7.2500</td>\n      <td>S</td>\n      <td>Third</td>\n      <td>NaN</td>\n      <td>Southampton</td>\n      <td>0</td>\n    </tr>\n    <tr>\n      <th>1</th>\n      <td>1</td>\n      <td>1</td>\n      <td>female</td>\n      <td>38.0</td>\n      <td>1</td>\n      <td>0</td>\n      <td>71.2833</td>\n      <td>C</td>\n      <td>First</td>\n      <td>C</td>\n      <td>Cherbourg</td>\n      <td>0</td>\n    </tr>\n    <tr>\n      <th>2</th>\n      <td>1</td>\n      <td>3</td>\n      <td>female</td>\n      <td>26.0</td>\n      <td>0</td>\n      <td>0</td>\n      <td>7.9250</td>\n      <td>S</td>\n      <td>Third</td>\n      <td>NaN</td>\n      <td>Southampton</td>\n      <td>1</td>\n    </tr>\n    <tr>\n      <th>3</th>\n      <td>1</td>\n      <td>1</td>\n      <td>female</td>\n      <td>35.0</td>\n      <td>1</td>\n      <td>0</td>\n      <td>53.1000</td>\n      <td>S</td>\n      <td>First</td>\n      <td>C</td>\n      <td>Southampton</td>\n      <td>0</td>\n    </tr>\n    <tr>\n      <th>4</th>\n      <td>0</td>\n      <td>3</td>\n      <td>male</td>\n      <td>35.0</td>\n      <td>0</td>\n      <td>0</td>\n      <td>8.0500</td>\n      <td>S</td>\n      <td>Third</td>\n      <td>NaN</td>\n      <td>Southampton</td>\n      <td>1</td>\n    </tr>\n  </tbody>\n</table>\n</div>"
     },
     "execution_count": 37,
     "metadata": {},
     "output_type": "execute_result"
    }
   ],
   "source": [
    "myTitanic.head()"
   ]
  },
  {
   "cell_type": "markdown",
   "source": [
    "Encode the categorical columns. Create dummy variables of the categorical columns and concatenate them onto the dataframe.\n",
    "\n"
   ],
   "metadata": {
    "collapsed": false
   }
  },
  {
   "cell_type": "code",
   "execution_count": 38,
   "outputs": [
    {
     "data": {
      "text/plain": "   survived  pclass     sex   age  sibsp  parch     fare embarked  class deck  \\\n0         0       3    male  22.0      1      0   7.2500        S  Third  NaN   \n1         1       1  female  38.0      1      0  71.2833        C  First    C   \n2         1       3  female  26.0      0      0   7.9250        S  Third  NaN   \n3         1       1  female  35.0      1      0  53.1000        S  First    C   \n4         0       3    male  35.0      0      0   8.0500        S  Third  NaN   \n\n   embark_town  alone  encoded_class  \n0  Southampton      0              3  \n1    Cherbourg      0              1  \n2  Southampton      1              3  \n3  Southampton      0              1  \n4  Southampton      1              3  ",
      "text/html": "<div>\n<style scoped>\n    .dataframe tbody tr th:only-of-type {\n        vertical-align: middle;\n    }\n\n    .dataframe tbody tr th {\n        vertical-align: top;\n    }\n\n    .dataframe thead th {\n        text-align: right;\n    }\n</style>\n<table border=\"1\" class=\"dataframe\">\n  <thead>\n    <tr style=\"text-align: right;\">\n      <th></th>\n      <th>survived</th>\n      <th>pclass</th>\n      <th>sex</th>\n      <th>age</th>\n      <th>sibsp</th>\n      <th>parch</th>\n      <th>fare</th>\n      <th>embarked</th>\n      <th>class</th>\n      <th>deck</th>\n      <th>embark_town</th>\n      <th>alone</th>\n      <th>encoded_class</th>\n    </tr>\n  </thead>\n  <tbody>\n    <tr>\n      <th>0</th>\n      <td>0</td>\n      <td>3</td>\n      <td>male</td>\n      <td>22.0</td>\n      <td>1</td>\n      <td>0</td>\n      <td>7.2500</td>\n      <td>S</td>\n      <td>Third</td>\n      <td>NaN</td>\n      <td>Southampton</td>\n      <td>0</td>\n      <td>3</td>\n    </tr>\n    <tr>\n      <th>1</th>\n      <td>1</td>\n      <td>1</td>\n      <td>female</td>\n      <td>38.0</td>\n      <td>1</td>\n      <td>0</td>\n      <td>71.2833</td>\n      <td>C</td>\n      <td>First</td>\n      <td>C</td>\n      <td>Cherbourg</td>\n      <td>0</td>\n      <td>1</td>\n    </tr>\n    <tr>\n      <th>2</th>\n      <td>1</td>\n      <td>3</td>\n      <td>female</td>\n      <td>26.0</td>\n      <td>0</td>\n      <td>0</td>\n      <td>7.9250</td>\n      <td>S</td>\n      <td>Third</td>\n      <td>NaN</td>\n      <td>Southampton</td>\n      <td>1</td>\n      <td>3</td>\n    </tr>\n    <tr>\n      <th>3</th>\n      <td>1</td>\n      <td>1</td>\n      <td>female</td>\n      <td>35.0</td>\n      <td>1</td>\n      <td>0</td>\n      <td>53.1000</td>\n      <td>S</td>\n      <td>First</td>\n      <td>C</td>\n      <td>Southampton</td>\n      <td>0</td>\n      <td>1</td>\n    </tr>\n    <tr>\n      <th>4</th>\n      <td>0</td>\n      <td>3</td>\n      <td>male</td>\n      <td>35.0</td>\n      <td>0</td>\n      <td>0</td>\n      <td>8.0500</td>\n      <td>S</td>\n      <td>Third</td>\n      <td>NaN</td>\n      <td>Southampton</td>\n      <td>1</td>\n      <td>3</td>\n    </tr>\n  </tbody>\n</table>\n</div>"
     },
     "execution_count": 38,
     "metadata": {},
     "output_type": "execute_result"
    }
   ],
   "source": [
    "myTitanic['encoded_class'] = myTitanic['class'].map({'First': 1, 'Second': 2, 'Third': 3})\n",
    "myTitanic.head()"
   ],
   "metadata": {
    "collapsed": false
   }
  },
  {
   "cell_type": "markdown",
   "source": [
    "Create a function named prep_titanic that accepts the raw titanic data, and returns the data with the transformations above applied."
   ],
   "metadata": {
    "collapsed": false
   }
  },
  {
   "cell_type": "code",
   "execution_count": 39,
   "outputs": [],
   "source": [
    "def prep_titanic(FreshTitanic):\n",
    "    Titanic = FreshTitanic.drop(columns = {'passenger_id', 'Unnamed: 0'})\n",
    "    Titanic['encoded_class'] = FreshTitanic['class'].map({'First': 1, 'Second': 2, 'Third': 3})\n",
    "    return Titanic\n"
   ],
   "metadata": {
    "collapsed": false
   }
  },
  {
   "cell_type": "code",
   "execution_count": 40,
   "outputs": [
    {
     "data": {
      "text/plain": "     survived  pclass     sex   age  sibsp  parch     fare embarked   class  \\\n0           0       3    male  22.0      1      0   7.2500        S   Third   \n1           1       1  female  38.0      1      0  71.2833        C   First   \n2           1       3  female  26.0      0      0   7.9250        S   Third   \n3           1       1  female  35.0      1      0  53.1000        S   First   \n4           0       3    male  35.0      0      0   8.0500        S   Third   \n..        ...     ...     ...   ...    ...    ...      ...      ...     ...   \n886         0       2    male  27.0      0      0  13.0000        S  Second   \n887         1       1  female  19.0      0      0  30.0000        S   First   \n888         0       3  female   NaN      1      2  23.4500        S   Third   \n889         1       1    male  26.0      0      0  30.0000        C   First   \n890         0       3    male  32.0      0      0   7.7500        Q   Third   \n\n    deck  embark_town  alone  encoded_class  \n0    NaN  Southampton      0              3  \n1      C    Cherbourg      0              1  \n2    NaN  Southampton      1              3  \n3      C  Southampton      0              1  \n4    NaN  Southampton      1              3  \n..   ...          ...    ...            ...  \n886  NaN  Southampton      1              2  \n887    B  Southampton      1              1  \n888  NaN  Southampton      0              3  \n889    C    Cherbourg      1              1  \n890  NaN   Queenstown      1              3  \n\n[891 rows x 13 columns]",
      "text/html": "<div>\n<style scoped>\n    .dataframe tbody tr th:only-of-type {\n        vertical-align: middle;\n    }\n\n    .dataframe tbody tr th {\n        vertical-align: top;\n    }\n\n    .dataframe thead th {\n        text-align: right;\n    }\n</style>\n<table border=\"1\" class=\"dataframe\">\n  <thead>\n    <tr style=\"text-align: right;\">\n      <th></th>\n      <th>survived</th>\n      <th>pclass</th>\n      <th>sex</th>\n      <th>age</th>\n      <th>sibsp</th>\n      <th>parch</th>\n      <th>fare</th>\n      <th>embarked</th>\n      <th>class</th>\n      <th>deck</th>\n      <th>embark_town</th>\n      <th>alone</th>\n      <th>encoded_class</th>\n    </tr>\n  </thead>\n  <tbody>\n    <tr>\n      <th>0</th>\n      <td>0</td>\n      <td>3</td>\n      <td>male</td>\n      <td>22.0</td>\n      <td>1</td>\n      <td>0</td>\n      <td>7.2500</td>\n      <td>S</td>\n      <td>Third</td>\n      <td>NaN</td>\n      <td>Southampton</td>\n      <td>0</td>\n      <td>3</td>\n    </tr>\n    <tr>\n      <th>1</th>\n      <td>1</td>\n      <td>1</td>\n      <td>female</td>\n      <td>38.0</td>\n      <td>1</td>\n      <td>0</td>\n      <td>71.2833</td>\n      <td>C</td>\n      <td>First</td>\n      <td>C</td>\n      <td>Cherbourg</td>\n      <td>0</td>\n      <td>1</td>\n    </tr>\n    <tr>\n      <th>2</th>\n      <td>1</td>\n      <td>3</td>\n      <td>female</td>\n      <td>26.0</td>\n      <td>0</td>\n      <td>0</td>\n      <td>7.9250</td>\n      <td>S</td>\n      <td>Third</td>\n      <td>NaN</td>\n      <td>Southampton</td>\n      <td>1</td>\n      <td>3</td>\n    </tr>\n    <tr>\n      <th>3</th>\n      <td>1</td>\n      <td>1</td>\n      <td>female</td>\n      <td>35.0</td>\n      <td>1</td>\n      <td>0</td>\n      <td>53.1000</td>\n      <td>S</td>\n      <td>First</td>\n      <td>C</td>\n      <td>Southampton</td>\n      <td>0</td>\n      <td>1</td>\n    </tr>\n    <tr>\n      <th>4</th>\n      <td>0</td>\n      <td>3</td>\n      <td>male</td>\n      <td>35.0</td>\n      <td>0</td>\n      <td>0</td>\n      <td>8.0500</td>\n      <td>S</td>\n      <td>Third</td>\n      <td>NaN</td>\n      <td>Southampton</td>\n      <td>1</td>\n      <td>3</td>\n    </tr>\n    <tr>\n      <th>...</th>\n      <td>...</td>\n      <td>...</td>\n      <td>...</td>\n      <td>...</td>\n      <td>...</td>\n      <td>...</td>\n      <td>...</td>\n      <td>...</td>\n      <td>...</td>\n      <td>...</td>\n      <td>...</td>\n      <td>...</td>\n      <td>...</td>\n    </tr>\n    <tr>\n      <th>886</th>\n      <td>0</td>\n      <td>2</td>\n      <td>male</td>\n      <td>27.0</td>\n      <td>0</td>\n      <td>0</td>\n      <td>13.0000</td>\n      <td>S</td>\n      <td>Second</td>\n      <td>NaN</td>\n      <td>Southampton</td>\n      <td>1</td>\n      <td>2</td>\n    </tr>\n    <tr>\n      <th>887</th>\n      <td>1</td>\n      <td>1</td>\n      <td>female</td>\n      <td>19.0</td>\n      <td>0</td>\n      <td>0</td>\n      <td>30.0000</td>\n      <td>S</td>\n      <td>First</td>\n      <td>B</td>\n      <td>Southampton</td>\n      <td>1</td>\n      <td>1</td>\n    </tr>\n    <tr>\n      <th>888</th>\n      <td>0</td>\n      <td>3</td>\n      <td>female</td>\n      <td>NaN</td>\n      <td>1</td>\n      <td>2</td>\n      <td>23.4500</td>\n      <td>S</td>\n      <td>Third</td>\n      <td>NaN</td>\n      <td>Southampton</td>\n      <td>0</td>\n      <td>3</td>\n    </tr>\n    <tr>\n      <th>889</th>\n      <td>1</td>\n      <td>1</td>\n      <td>male</td>\n      <td>26.0</td>\n      <td>0</td>\n      <td>0</td>\n      <td>30.0000</td>\n      <td>C</td>\n      <td>First</td>\n      <td>C</td>\n      <td>Cherbourg</td>\n      <td>1</td>\n      <td>1</td>\n    </tr>\n    <tr>\n      <th>890</th>\n      <td>0</td>\n      <td>3</td>\n      <td>male</td>\n      <td>32.0</td>\n      <td>0</td>\n      <td>0</td>\n      <td>7.7500</td>\n      <td>Q</td>\n      <td>Third</td>\n      <td>NaN</td>\n      <td>Queenstown</td>\n      <td>1</td>\n      <td>3</td>\n    </tr>\n  </tbody>\n</table>\n<p>891 rows × 13 columns</p>\n</div>"
     },
     "execution_count": 40,
     "metadata": {},
     "output_type": "execute_result"
    }
   ],
   "source": [
    "prep_titanic(FreshTitanic)"
   ],
   "metadata": {
    "collapsed": false
   }
  },
  {
   "cell_type": "markdown",
   "source": [
    "Using the Telco dataset"
   ],
   "metadata": {
    "collapsed": false
   }
  },
  {
   "cell_type": "markdown",
   "source": [
    "Use the function defined in acquire.py to load the Telco data."
   ],
   "metadata": {
    "collapsed": false
   }
  },
  {
   "cell_type": "code",
   "execution_count": 57,
   "outputs": [
    {
     "data": {
      "text/plain": "      Unnamed: 0  internet_service_type_id  contract_type_id customer_id  \\\n0              0                         1                 2  0002-ORFBO   \n1              1                         1                 1  0003-MKNFE   \n2              2                         2                 1  0004-TLHLJ   \n3              3                         2                 1  0011-IGKFF   \n4              4                         2                 1  0013-EXCHZ   \n...          ...                       ...               ...         ...   \n7038        7038                         1                 2  9987-LUTYD   \n7039        7039                         2                 1  9992-RRAMN   \n7040        7040                         1                 1  9992-UJOEL   \n7041        7041                         1                 3  9993-LHIEB   \n7042        7042                         1                 3  9995-HOTOH   \n\n      gender  senior_citizen partner dependents  tenure phone_service  ...  \\\n0     Female               0     Yes        Yes       9           Yes  ...   \n1       Male               0      No         No       9           Yes  ...   \n2       Male               0      No         No       4           Yes  ...   \n3       Male               1     Yes         No      13           Yes  ...   \n4     Female               1     Yes         No       3           Yes  ...   \n...      ...             ...     ...        ...     ...           ...  ...   \n7038  Female               0      No         No      13           Yes  ...   \n7039    Male               0     Yes         No      22           Yes  ...   \n7040    Male               0      No         No       2           Yes  ...   \n7041    Male               0     Yes        Yes      67           Yes  ...   \n7042    Male               0     Yes        Yes      63            No  ...   \n\n     paperless_billing payment_type_id monthly_charges total_charges churn  \\\n0                  Yes               2           65.60         593.3    No   \n1                   No               2           59.90         542.4    No   \n2                  Yes               1           73.90        280.85   Yes   \n3                  Yes               1           98.00       1237.85   Yes   \n4                  Yes               2           83.90         267.4   Yes   \n...                ...             ...             ...           ...   ...   \n7038                No               2           55.15         742.9    No   \n7039               Yes               1           85.10        1873.7   Yes   \n7040               Yes               2           50.30         92.75    No   \n7041                No               2           67.85       4627.65    No   \n7042                No               1           59.00        3707.6    No   \n\n     payment_type_id.1 monthly_charges.1 total_charges.1   contract_type  \\\n0                    2             65.60           593.3        One year   \n1                    2             59.90           542.4  Month-to-month   \n2                    1             73.90          280.85  Month-to-month   \n3                    1             98.00         1237.85  Month-to-month   \n4                    2             83.90           267.4  Month-to-month   \n...                ...               ...             ...             ...   \n7038                 2             55.15           742.9        One year   \n7039                 1             85.10          1873.7  Month-to-month   \n7040                 2             50.30           92.75  Month-to-month   \n7041                 2             67.85         4627.65        Two year   \n7042                 1             59.00          3707.6        Two year   \n\n      internet_service_type  \n0                       DSL  \n1                       DSL  \n2               Fiber optic  \n3               Fiber optic  \n4               Fiber optic  \n...                     ...  \n7038                    DSL  \n7039            Fiber optic  \n7040                    DSL  \n7041                    DSL  \n7042                    DSL  \n\n[7043 rows x 27 columns]",
      "text/html": "<div>\n<style scoped>\n    .dataframe tbody tr th:only-of-type {\n        vertical-align: middle;\n    }\n\n    .dataframe tbody tr th {\n        vertical-align: top;\n    }\n\n    .dataframe thead th {\n        text-align: right;\n    }\n</style>\n<table border=\"1\" class=\"dataframe\">\n  <thead>\n    <tr style=\"text-align: right;\">\n      <th></th>\n      <th>Unnamed: 0</th>\n      <th>internet_service_type_id</th>\n      <th>contract_type_id</th>\n      <th>customer_id</th>\n      <th>gender</th>\n      <th>senior_citizen</th>\n      <th>partner</th>\n      <th>dependents</th>\n      <th>tenure</th>\n      <th>phone_service</th>\n      <th>...</th>\n      <th>paperless_billing</th>\n      <th>payment_type_id</th>\n      <th>monthly_charges</th>\n      <th>total_charges</th>\n      <th>churn</th>\n      <th>payment_type_id.1</th>\n      <th>monthly_charges.1</th>\n      <th>total_charges.1</th>\n      <th>contract_type</th>\n      <th>internet_service_type</th>\n    </tr>\n  </thead>\n  <tbody>\n    <tr>\n      <th>0</th>\n      <td>0</td>\n      <td>1</td>\n      <td>2</td>\n      <td>0002-ORFBO</td>\n      <td>Female</td>\n      <td>0</td>\n      <td>Yes</td>\n      <td>Yes</td>\n      <td>9</td>\n      <td>Yes</td>\n      <td>...</td>\n      <td>Yes</td>\n      <td>2</td>\n      <td>65.60</td>\n      <td>593.3</td>\n      <td>No</td>\n      <td>2</td>\n      <td>65.60</td>\n      <td>593.3</td>\n      <td>One year</td>\n      <td>DSL</td>\n    </tr>\n    <tr>\n      <th>1</th>\n      <td>1</td>\n      <td>1</td>\n      <td>1</td>\n      <td>0003-MKNFE</td>\n      <td>Male</td>\n      <td>0</td>\n      <td>No</td>\n      <td>No</td>\n      <td>9</td>\n      <td>Yes</td>\n      <td>...</td>\n      <td>No</td>\n      <td>2</td>\n      <td>59.90</td>\n      <td>542.4</td>\n      <td>No</td>\n      <td>2</td>\n      <td>59.90</td>\n      <td>542.4</td>\n      <td>Month-to-month</td>\n      <td>DSL</td>\n    </tr>\n    <tr>\n      <th>2</th>\n      <td>2</td>\n      <td>2</td>\n      <td>1</td>\n      <td>0004-TLHLJ</td>\n      <td>Male</td>\n      <td>0</td>\n      <td>No</td>\n      <td>No</td>\n      <td>4</td>\n      <td>Yes</td>\n      <td>...</td>\n      <td>Yes</td>\n      <td>1</td>\n      <td>73.90</td>\n      <td>280.85</td>\n      <td>Yes</td>\n      <td>1</td>\n      <td>73.90</td>\n      <td>280.85</td>\n      <td>Month-to-month</td>\n      <td>Fiber optic</td>\n    </tr>\n    <tr>\n      <th>3</th>\n      <td>3</td>\n      <td>2</td>\n      <td>1</td>\n      <td>0011-IGKFF</td>\n      <td>Male</td>\n      <td>1</td>\n      <td>Yes</td>\n      <td>No</td>\n      <td>13</td>\n      <td>Yes</td>\n      <td>...</td>\n      <td>Yes</td>\n      <td>1</td>\n      <td>98.00</td>\n      <td>1237.85</td>\n      <td>Yes</td>\n      <td>1</td>\n      <td>98.00</td>\n      <td>1237.85</td>\n      <td>Month-to-month</td>\n      <td>Fiber optic</td>\n    </tr>\n    <tr>\n      <th>4</th>\n      <td>4</td>\n      <td>2</td>\n      <td>1</td>\n      <td>0013-EXCHZ</td>\n      <td>Female</td>\n      <td>1</td>\n      <td>Yes</td>\n      <td>No</td>\n      <td>3</td>\n      <td>Yes</td>\n      <td>...</td>\n      <td>Yes</td>\n      <td>2</td>\n      <td>83.90</td>\n      <td>267.4</td>\n      <td>Yes</td>\n      <td>2</td>\n      <td>83.90</td>\n      <td>267.4</td>\n      <td>Month-to-month</td>\n      <td>Fiber optic</td>\n    </tr>\n    <tr>\n      <th>...</th>\n      <td>...</td>\n      <td>...</td>\n      <td>...</td>\n      <td>...</td>\n      <td>...</td>\n      <td>...</td>\n      <td>...</td>\n      <td>...</td>\n      <td>...</td>\n      <td>...</td>\n      <td>...</td>\n      <td>...</td>\n      <td>...</td>\n      <td>...</td>\n      <td>...</td>\n      <td>...</td>\n      <td>...</td>\n      <td>...</td>\n      <td>...</td>\n      <td>...</td>\n      <td>...</td>\n    </tr>\n    <tr>\n      <th>7038</th>\n      <td>7038</td>\n      <td>1</td>\n      <td>2</td>\n      <td>9987-LUTYD</td>\n      <td>Female</td>\n      <td>0</td>\n      <td>No</td>\n      <td>No</td>\n      <td>13</td>\n      <td>Yes</td>\n      <td>...</td>\n      <td>No</td>\n      <td>2</td>\n      <td>55.15</td>\n      <td>742.9</td>\n      <td>No</td>\n      <td>2</td>\n      <td>55.15</td>\n      <td>742.9</td>\n      <td>One year</td>\n      <td>DSL</td>\n    </tr>\n    <tr>\n      <th>7039</th>\n      <td>7039</td>\n      <td>2</td>\n      <td>1</td>\n      <td>9992-RRAMN</td>\n      <td>Male</td>\n      <td>0</td>\n      <td>Yes</td>\n      <td>No</td>\n      <td>22</td>\n      <td>Yes</td>\n      <td>...</td>\n      <td>Yes</td>\n      <td>1</td>\n      <td>85.10</td>\n      <td>1873.7</td>\n      <td>Yes</td>\n      <td>1</td>\n      <td>85.10</td>\n      <td>1873.7</td>\n      <td>Month-to-month</td>\n      <td>Fiber optic</td>\n    </tr>\n    <tr>\n      <th>7040</th>\n      <td>7040</td>\n      <td>1</td>\n      <td>1</td>\n      <td>9992-UJOEL</td>\n      <td>Male</td>\n      <td>0</td>\n      <td>No</td>\n      <td>No</td>\n      <td>2</td>\n      <td>Yes</td>\n      <td>...</td>\n      <td>Yes</td>\n      <td>2</td>\n      <td>50.30</td>\n      <td>92.75</td>\n      <td>No</td>\n      <td>2</td>\n      <td>50.30</td>\n      <td>92.75</td>\n      <td>Month-to-month</td>\n      <td>DSL</td>\n    </tr>\n    <tr>\n      <th>7041</th>\n      <td>7041</td>\n      <td>1</td>\n      <td>3</td>\n      <td>9993-LHIEB</td>\n      <td>Male</td>\n      <td>0</td>\n      <td>Yes</td>\n      <td>Yes</td>\n      <td>67</td>\n      <td>Yes</td>\n      <td>...</td>\n      <td>No</td>\n      <td>2</td>\n      <td>67.85</td>\n      <td>4627.65</td>\n      <td>No</td>\n      <td>2</td>\n      <td>67.85</td>\n      <td>4627.65</td>\n      <td>Two year</td>\n      <td>DSL</td>\n    </tr>\n    <tr>\n      <th>7042</th>\n      <td>7042</td>\n      <td>1</td>\n      <td>3</td>\n      <td>9995-HOTOH</td>\n      <td>Male</td>\n      <td>0</td>\n      <td>Yes</td>\n      <td>Yes</td>\n      <td>63</td>\n      <td>No</td>\n      <td>...</td>\n      <td>No</td>\n      <td>1</td>\n      <td>59.00</td>\n      <td>3707.6</td>\n      <td>No</td>\n      <td>1</td>\n      <td>59.00</td>\n      <td>3707.6</td>\n      <td>Two year</td>\n      <td>DSL</td>\n    </tr>\n  </tbody>\n</table>\n<p>7043 rows × 27 columns</p>\n</div>"
     },
     "execution_count": 57,
     "metadata": {},
     "output_type": "execute_result"
    }
   ],
   "source": [
    "FreshTelco = get_telco_data()\n",
    "FreshTelco"
   ],
   "metadata": {
    "collapsed": false
   }
  },
  {
   "cell_type": "markdown",
   "source": [
    "Drop any unnecessary, unhelpful, or duplicated columns. This could mean dropping foreign key columns but keeping the corresponding string values, for example."
   ],
   "metadata": {
    "collapsed": false
   }
  },
  {
   "cell_type": "code",
   "execution_count": 58,
   "outputs": [],
   "source": [
    "df = FreshTelco.T.drop_duplicates().T\n",
    "df = df.drop(columns = {'internet_service_type', 'customer_id','Unnamed: 0'})"
   ],
   "metadata": {
    "collapsed": false
   }
  },
  {
   "cell_type": "code",
   "execution_count": 59,
   "outputs": [
    {
     "data": {
      "text/plain": "     internet_service_type_id contract_type_id  gender senior_citizen partner  \\\n0                           1                2  Female              0     Yes   \n1                           1                1    Male              0      No   \n2                           2                1    Male              0      No   \n3                           2                1    Male              1     Yes   \n4                           2                1  Female              1     Yes   \n...                       ...              ...     ...            ...     ...   \n7038                        1                2  Female              0      No   \n7039                        2                1    Male              0     Yes   \n7040                        1                1    Male              0      No   \n7041                        1                3    Male              0     Yes   \n7042                        1                3    Male              0     Yes   \n\n     dependents tenure phone_service    multiple_lines online_security  ...  \\\n0           Yes      9           Yes                No              No  ...   \n1            No      9           Yes               Yes              No  ...   \n2            No      4           Yes                No              No  ...   \n3            No     13           Yes                No              No  ...   \n4            No      3           Yes                No              No  ...   \n...         ...    ...           ...               ...             ...  ...   \n7038         No     13           Yes                No             Yes  ...   \n7039         No     22           Yes               Yes              No  ...   \n7040         No      2           Yes                No              No  ...   \n7041        Yes     67           Yes                No             Yes  ...   \n7042        Yes     63            No  No phone service             Yes  ...   \n\n     device_protection tech_support streaming_tv streaming_movies  \\\n0                   No          Yes          Yes               No   \n1                   No           No           No              Yes   \n2                  Yes           No           No               No   \n3                  Yes           No          Yes              Yes   \n4                   No          Yes          Yes               No   \n...                ...          ...          ...              ...   \n7038                No          Yes           No               No   \n7039                No           No           No              Yes   \n7040                No           No           No               No   \n7041               Yes          Yes           No              Yes   \n7042               Yes           No          Yes              Yes   \n\n     paperless_billing payment_type_id monthly_charges total_charges churn  \\\n0                  Yes               2            65.6         593.3    No   \n1                   No               2            59.9         542.4    No   \n2                  Yes               1            73.9        280.85   Yes   \n3                  Yes               1            98.0       1237.85   Yes   \n4                  Yes               2            83.9         267.4   Yes   \n...                ...             ...             ...           ...   ...   \n7038                No               2           55.15         742.9    No   \n7039               Yes               1            85.1        1873.7   Yes   \n7040               Yes               2            50.3         92.75    No   \n7041                No               2           67.85       4627.65    No   \n7042                No               1            59.0        3707.6    No   \n\n       contract_type  \n0           One year  \n1     Month-to-month  \n2     Month-to-month  \n3     Month-to-month  \n4     Month-to-month  \n...              ...  \n7038        One year  \n7039  Month-to-month  \n7040  Month-to-month  \n7041        Two year  \n7042        Two year  \n\n[7043 rows x 21 columns]",
      "text/html": "<div>\n<style scoped>\n    .dataframe tbody tr th:only-of-type {\n        vertical-align: middle;\n    }\n\n    .dataframe tbody tr th {\n        vertical-align: top;\n    }\n\n    .dataframe thead th {\n        text-align: right;\n    }\n</style>\n<table border=\"1\" class=\"dataframe\">\n  <thead>\n    <tr style=\"text-align: right;\">\n      <th></th>\n      <th>internet_service_type_id</th>\n      <th>contract_type_id</th>\n      <th>gender</th>\n      <th>senior_citizen</th>\n      <th>partner</th>\n      <th>dependents</th>\n      <th>tenure</th>\n      <th>phone_service</th>\n      <th>multiple_lines</th>\n      <th>online_security</th>\n      <th>...</th>\n      <th>device_protection</th>\n      <th>tech_support</th>\n      <th>streaming_tv</th>\n      <th>streaming_movies</th>\n      <th>paperless_billing</th>\n      <th>payment_type_id</th>\n      <th>monthly_charges</th>\n      <th>total_charges</th>\n      <th>churn</th>\n      <th>contract_type</th>\n    </tr>\n  </thead>\n  <tbody>\n    <tr>\n      <th>0</th>\n      <td>1</td>\n      <td>2</td>\n      <td>Female</td>\n      <td>0</td>\n      <td>Yes</td>\n      <td>Yes</td>\n      <td>9</td>\n      <td>Yes</td>\n      <td>No</td>\n      <td>No</td>\n      <td>...</td>\n      <td>No</td>\n      <td>Yes</td>\n      <td>Yes</td>\n      <td>No</td>\n      <td>Yes</td>\n      <td>2</td>\n      <td>65.6</td>\n      <td>593.3</td>\n      <td>No</td>\n      <td>One year</td>\n    </tr>\n    <tr>\n      <th>1</th>\n      <td>1</td>\n      <td>1</td>\n      <td>Male</td>\n      <td>0</td>\n      <td>No</td>\n      <td>No</td>\n      <td>9</td>\n      <td>Yes</td>\n      <td>Yes</td>\n      <td>No</td>\n      <td>...</td>\n      <td>No</td>\n      <td>No</td>\n      <td>No</td>\n      <td>Yes</td>\n      <td>No</td>\n      <td>2</td>\n      <td>59.9</td>\n      <td>542.4</td>\n      <td>No</td>\n      <td>Month-to-month</td>\n    </tr>\n    <tr>\n      <th>2</th>\n      <td>2</td>\n      <td>1</td>\n      <td>Male</td>\n      <td>0</td>\n      <td>No</td>\n      <td>No</td>\n      <td>4</td>\n      <td>Yes</td>\n      <td>No</td>\n      <td>No</td>\n      <td>...</td>\n      <td>Yes</td>\n      <td>No</td>\n      <td>No</td>\n      <td>No</td>\n      <td>Yes</td>\n      <td>1</td>\n      <td>73.9</td>\n      <td>280.85</td>\n      <td>Yes</td>\n      <td>Month-to-month</td>\n    </tr>\n    <tr>\n      <th>3</th>\n      <td>2</td>\n      <td>1</td>\n      <td>Male</td>\n      <td>1</td>\n      <td>Yes</td>\n      <td>No</td>\n      <td>13</td>\n      <td>Yes</td>\n      <td>No</td>\n      <td>No</td>\n      <td>...</td>\n      <td>Yes</td>\n      <td>No</td>\n      <td>Yes</td>\n      <td>Yes</td>\n      <td>Yes</td>\n      <td>1</td>\n      <td>98.0</td>\n      <td>1237.85</td>\n      <td>Yes</td>\n      <td>Month-to-month</td>\n    </tr>\n    <tr>\n      <th>4</th>\n      <td>2</td>\n      <td>1</td>\n      <td>Female</td>\n      <td>1</td>\n      <td>Yes</td>\n      <td>No</td>\n      <td>3</td>\n      <td>Yes</td>\n      <td>No</td>\n      <td>No</td>\n      <td>...</td>\n      <td>No</td>\n      <td>Yes</td>\n      <td>Yes</td>\n      <td>No</td>\n      <td>Yes</td>\n      <td>2</td>\n      <td>83.9</td>\n      <td>267.4</td>\n      <td>Yes</td>\n      <td>Month-to-month</td>\n    </tr>\n    <tr>\n      <th>...</th>\n      <td>...</td>\n      <td>...</td>\n      <td>...</td>\n      <td>...</td>\n      <td>...</td>\n      <td>...</td>\n      <td>...</td>\n      <td>...</td>\n      <td>...</td>\n      <td>...</td>\n      <td>...</td>\n      <td>...</td>\n      <td>...</td>\n      <td>...</td>\n      <td>...</td>\n      <td>...</td>\n      <td>...</td>\n      <td>...</td>\n      <td>...</td>\n      <td>...</td>\n      <td>...</td>\n    </tr>\n    <tr>\n      <th>7038</th>\n      <td>1</td>\n      <td>2</td>\n      <td>Female</td>\n      <td>0</td>\n      <td>No</td>\n      <td>No</td>\n      <td>13</td>\n      <td>Yes</td>\n      <td>No</td>\n      <td>Yes</td>\n      <td>...</td>\n      <td>No</td>\n      <td>Yes</td>\n      <td>No</td>\n      <td>No</td>\n      <td>No</td>\n      <td>2</td>\n      <td>55.15</td>\n      <td>742.9</td>\n      <td>No</td>\n      <td>One year</td>\n    </tr>\n    <tr>\n      <th>7039</th>\n      <td>2</td>\n      <td>1</td>\n      <td>Male</td>\n      <td>0</td>\n      <td>Yes</td>\n      <td>No</td>\n      <td>22</td>\n      <td>Yes</td>\n      <td>Yes</td>\n      <td>No</td>\n      <td>...</td>\n      <td>No</td>\n      <td>No</td>\n      <td>No</td>\n      <td>Yes</td>\n      <td>Yes</td>\n      <td>1</td>\n      <td>85.1</td>\n      <td>1873.7</td>\n      <td>Yes</td>\n      <td>Month-to-month</td>\n    </tr>\n    <tr>\n      <th>7040</th>\n      <td>1</td>\n      <td>1</td>\n      <td>Male</td>\n      <td>0</td>\n      <td>No</td>\n      <td>No</td>\n      <td>2</td>\n      <td>Yes</td>\n      <td>No</td>\n      <td>No</td>\n      <td>...</td>\n      <td>No</td>\n      <td>No</td>\n      <td>No</td>\n      <td>No</td>\n      <td>Yes</td>\n      <td>2</td>\n      <td>50.3</td>\n      <td>92.75</td>\n      <td>No</td>\n      <td>Month-to-month</td>\n    </tr>\n    <tr>\n      <th>7041</th>\n      <td>1</td>\n      <td>3</td>\n      <td>Male</td>\n      <td>0</td>\n      <td>Yes</td>\n      <td>Yes</td>\n      <td>67</td>\n      <td>Yes</td>\n      <td>No</td>\n      <td>Yes</td>\n      <td>...</td>\n      <td>Yes</td>\n      <td>Yes</td>\n      <td>No</td>\n      <td>Yes</td>\n      <td>No</td>\n      <td>2</td>\n      <td>67.85</td>\n      <td>4627.65</td>\n      <td>No</td>\n      <td>Two year</td>\n    </tr>\n    <tr>\n      <th>7042</th>\n      <td>1</td>\n      <td>3</td>\n      <td>Male</td>\n      <td>0</td>\n      <td>Yes</td>\n      <td>Yes</td>\n      <td>63</td>\n      <td>No</td>\n      <td>No phone service</td>\n      <td>Yes</td>\n      <td>...</td>\n      <td>Yes</td>\n      <td>No</td>\n      <td>Yes</td>\n      <td>Yes</td>\n      <td>No</td>\n      <td>1</td>\n      <td>59.0</td>\n      <td>3707.6</td>\n      <td>No</td>\n      <td>Two year</td>\n    </tr>\n  </tbody>\n</table>\n<p>7043 rows × 21 columns</p>\n</div>"
     },
     "execution_count": 59,
     "metadata": {},
     "output_type": "execute_result"
    }
   ],
   "source": [
    "df"
   ],
   "metadata": {
    "collapsed": false
   }
  },
  {
   "cell_type": "markdown",
   "source": [
    "Encode the categorical columns. Create dummy variables of the categorical columns and concatenate them onto the dataframe."
   ],
   "metadata": {
    "collapsed": false
   }
  },
  {
   "cell_type": "code",
   "execution_count": 60,
   "outputs": [],
   "source": [
    "df['is_female'] = df.gender.map({'Female': 1, 'Male': 0})\n",
    "df['has_partner'] = df.partner.map({'Yes': 1, 'No': 0})\n",
    "df['has_dependents'] = df.dependents.map({'Yes': 1, 'No': 0})\n",
    "df['has_phone_service'] = df.phone_service.map({'Yes': 1, 'No': 0})\n",
    "df['uses_paperless_billing'] = df.paperless_billing.map({'Yes': 1, 'No': 0})\n",
    "df['did_churn'] = df.churn.map({'Yes': 1, 'No': 0})\n",
    "df['has_mult_lines'] = df.multiple_lines.map({'No' : 0, 'Yes' : 1,'No phone': 2 })\n",
    "df['has_online_security'] = df.online_security.map({'No' : 0, 'Yes' : 1, 'No Internet Service' : 2})\n",
    "df['has_online_backup'] = df.online_backup.map({'No' : 0, 'Yes' : 1, 'No Internet Service' : 2})\n",
    "df['has_device_protection'] = df.device_protection.map({'No' : 0, 'Yes' : 1, 'No Internet Service' : 2})\n",
    "df['has_tech_support'] = df.tech_support.map({'No' : 0, 'Yes' : 1, 'No Internet Service' : 2})\n",
    "df['can_stream_tv'] = df.streaming_tv.map({'No' : 0, 'Yes' : 1, 'No Internet Service' : 2})\n",
    "df['can_stream_movie'] = df.streaming_movies.map({'No' : 0, 'Yes' : 1, 'No Internet Service' : 2})\n"
   ],
   "metadata": {
    "collapsed": false
   }
  },
  {
   "cell_type": "code",
   "execution_count": 61,
   "outputs": [
    {
     "data": {
      "text/plain": "     internet_service_type_id contract_type_id  gender senior_citizen partner  \\\n0                           1                2  Female              0     Yes   \n1                           1                1    Male              0      No   \n2                           2                1    Male              0      No   \n3                           2                1    Male              1     Yes   \n4                           2                1  Female              1     Yes   \n...                       ...              ...     ...            ...     ...   \n7038                        1                2  Female              0      No   \n7039                        2                1    Male              0     Yes   \n7040                        1                1    Male              0      No   \n7041                        1                3    Male              0     Yes   \n7042                        1                3    Male              0     Yes   \n\n     dependents tenure phone_service    multiple_lines online_security  ...  \\\n0           Yes      9           Yes                No              No  ...   \n1            No      9           Yes               Yes              No  ...   \n2            No      4           Yes                No              No  ...   \n3            No     13           Yes                No              No  ...   \n4            No      3           Yes                No              No  ...   \n...         ...    ...           ...               ...             ...  ...   \n7038         No     13           Yes                No             Yes  ...   \n7039         No     22           Yes               Yes              No  ...   \n7040         No      2           Yes                No              No  ...   \n7041        Yes     67           Yes                No             Yes  ...   \n7042        Yes     63            No  No phone service             Yes  ...   \n\n     has_phone_service uses_paperless_billing did_churn has_mult_lines  \\\n0                    1                      1         0            0.0   \n1                    1                      0         0            1.0   \n2                    1                      1         1            0.0   \n3                    1                      1         1            0.0   \n4                    1                      1         1            0.0   \n...                ...                    ...       ...            ...   \n7038                 1                      0         0            0.0   \n7039                 1                      1         1            1.0   \n7040                 1                      1         0            0.0   \n7041                 1                      0         0            0.0   \n7042                 0                      0         0            NaN   \n\n     has_online_security has_online_backup has_device_protection  \\\n0                    0.0               1.0                   0.0   \n1                    0.0               0.0                   0.0   \n2                    0.0               0.0                   1.0   \n3                    0.0               1.0                   1.0   \n4                    0.0               0.0                   0.0   \n...                  ...               ...                   ...   \n7038                 1.0               0.0                   0.0   \n7039                 0.0               0.0                   0.0   \n7040                 0.0               1.0                   0.0   \n7041                 1.0               0.0                   1.0   \n7042                 1.0               1.0                   1.0   \n\n     has_tech_support can_stream_tv can_stream_movie  \n0                 1.0           1.0              0.0  \n1                 0.0           0.0              1.0  \n2                 0.0           0.0              0.0  \n3                 0.0           1.0              1.0  \n4                 1.0           1.0              0.0  \n...               ...           ...              ...  \n7038              1.0           0.0              0.0  \n7039              0.0           0.0              1.0  \n7040              0.0           0.0              0.0  \n7041              1.0           0.0              1.0  \n7042              0.0           1.0              1.0  \n\n[7043 rows x 34 columns]",
      "text/html": "<div>\n<style scoped>\n    .dataframe tbody tr th:only-of-type {\n        vertical-align: middle;\n    }\n\n    .dataframe tbody tr th {\n        vertical-align: top;\n    }\n\n    .dataframe thead th {\n        text-align: right;\n    }\n</style>\n<table border=\"1\" class=\"dataframe\">\n  <thead>\n    <tr style=\"text-align: right;\">\n      <th></th>\n      <th>internet_service_type_id</th>\n      <th>contract_type_id</th>\n      <th>gender</th>\n      <th>senior_citizen</th>\n      <th>partner</th>\n      <th>dependents</th>\n      <th>tenure</th>\n      <th>phone_service</th>\n      <th>multiple_lines</th>\n      <th>online_security</th>\n      <th>...</th>\n      <th>has_phone_service</th>\n      <th>uses_paperless_billing</th>\n      <th>did_churn</th>\n      <th>has_mult_lines</th>\n      <th>has_online_security</th>\n      <th>has_online_backup</th>\n      <th>has_device_protection</th>\n      <th>has_tech_support</th>\n      <th>can_stream_tv</th>\n      <th>can_stream_movie</th>\n    </tr>\n  </thead>\n  <tbody>\n    <tr>\n      <th>0</th>\n      <td>1</td>\n      <td>2</td>\n      <td>Female</td>\n      <td>0</td>\n      <td>Yes</td>\n      <td>Yes</td>\n      <td>9</td>\n      <td>Yes</td>\n      <td>No</td>\n      <td>No</td>\n      <td>...</td>\n      <td>1</td>\n      <td>1</td>\n      <td>0</td>\n      <td>0.0</td>\n      <td>0.0</td>\n      <td>1.0</td>\n      <td>0.0</td>\n      <td>1.0</td>\n      <td>1.0</td>\n      <td>0.0</td>\n    </tr>\n    <tr>\n      <th>1</th>\n      <td>1</td>\n      <td>1</td>\n      <td>Male</td>\n      <td>0</td>\n      <td>No</td>\n      <td>No</td>\n      <td>9</td>\n      <td>Yes</td>\n      <td>Yes</td>\n      <td>No</td>\n      <td>...</td>\n      <td>1</td>\n      <td>0</td>\n      <td>0</td>\n      <td>1.0</td>\n      <td>0.0</td>\n      <td>0.0</td>\n      <td>0.0</td>\n      <td>0.0</td>\n      <td>0.0</td>\n      <td>1.0</td>\n    </tr>\n    <tr>\n      <th>2</th>\n      <td>2</td>\n      <td>1</td>\n      <td>Male</td>\n      <td>0</td>\n      <td>No</td>\n      <td>No</td>\n      <td>4</td>\n      <td>Yes</td>\n      <td>No</td>\n      <td>No</td>\n      <td>...</td>\n      <td>1</td>\n      <td>1</td>\n      <td>1</td>\n      <td>0.0</td>\n      <td>0.0</td>\n      <td>0.0</td>\n      <td>1.0</td>\n      <td>0.0</td>\n      <td>0.0</td>\n      <td>0.0</td>\n    </tr>\n    <tr>\n      <th>3</th>\n      <td>2</td>\n      <td>1</td>\n      <td>Male</td>\n      <td>1</td>\n      <td>Yes</td>\n      <td>No</td>\n      <td>13</td>\n      <td>Yes</td>\n      <td>No</td>\n      <td>No</td>\n      <td>...</td>\n      <td>1</td>\n      <td>1</td>\n      <td>1</td>\n      <td>0.0</td>\n      <td>0.0</td>\n      <td>1.0</td>\n      <td>1.0</td>\n      <td>0.0</td>\n      <td>1.0</td>\n      <td>1.0</td>\n    </tr>\n    <tr>\n      <th>4</th>\n      <td>2</td>\n      <td>1</td>\n      <td>Female</td>\n      <td>1</td>\n      <td>Yes</td>\n      <td>No</td>\n      <td>3</td>\n      <td>Yes</td>\n      <td>No</td>\n      <td>No</td>\n      <td>...</td>\n      <td>1</td>\n      <td>1</td>\n      <td>1</td>\n      <td>0.0</td>\n      <td>0.0</td>\n      <td>0.0</td>\n      <td>0.0</td>\n      <td>1.0</td>\n      <td>1.0</td>\n      <td>0.0</td>\n    </tr>\n    <tr>\n      <th>...</th>\n      <td>...</td>\n      <td>...</td>\n      <td>...</td>\n      <td>...</td>\n      <td>...</td>\n      <td>...</td>\n      <td>...</td>\n      <td>...</td>\n      <td>...</td>\n      <td>...</td>\n      <td>...</td>\n      <td>...</td>\n      <td>...</td>\n      <td>...</td>\n      <td>...</td>\n      <td>...</td>\n      <td>...</td>\n      <td>...</td>\n      <td>...</td>\n      <td>...</td>\n      <td>...</td>\n    </tr>\n    <tr>\n      <th>7038</th>\n      <td>1</td>\n      <td>2</td>\n      <td>Female</td>\n      <td>0</td>\n      <td>No</td>\n      <td>No</td>\n      <td>13</td>\n      <td>Yes</td>\n      <td>No</td>\n      <td>Yes</td>\n      <td>...</td>\n      <td>1</td>\n      <td>0</td>\n      <td>0</td>\n      <td>0.0</td>\n      <td>1.0</td>\n      <td>0.0</td>\n      <td>0.0</td>\n      <td>1.0</td>\n      <td>0.0</td>\n      <td>0.0</td>\n    </tr>\n    <tr>\n      <th>7039</th>\n      <td>2</td>\n      <td>1</td>\n      <td>Male</td>\n      <td>0</td>\n      <td>Yes</td>\n      <td>No</td>\n      <td>22</td>\n      <td>Yes</td>\n      <td>Yes</td>\n      <td>No</td>\n      <td>...</td>\n      <td>1</td>\n      <td>1</td>\n      <td>1</td>\n      <td>1.0</td>\n      <td>0.0</td>\n      <td>0.0</td>\n      <td>0.0</td>\n      <td>0.0</td>\n      <td>0.0</td>\n      <td>1.0</td>\n    </tr>\n    <tr>\n      <th>7040</th>\n      <td>1</td>\n      <td>1</td>\n      <td>Male</td>\n      <td>0</td>\n      <td>No</td>\n      <td>No</td>\n      <td>2</td>\n      <td>Yes</td>\n      <td>No</td>\n      <td>No</td>\n      <td>...</td>\n      <td>1</td>\n      <td>1</td>\n      <td>0</td>\n      <td>0.0</td>\n      <td>0.0</td>\n      <td>1.0</td>\n      <td>0.0</td>\n      <td>0.0</td>\n      <td>0.0</td>\n      <td>0.0</td>\n    </tr>\n    <tr>\n      <th>7041</th>\n      <td>1</td>\n      <td>3</td>\n      <td>Male</td>\n      <td>0</td>\n      <td>Yes</td>\n      <td>Yes</td>\n      <td>67</td>\n      <td>Yes</td>\n      <td>No</td>\n      <td>Yes</td>\n      <td>...</td>\n      <td>1</td>\n      <td>0</td>\n      <td>0</td>\n      <td>0.0</td>\n      <td>1.0</td>\n      <td>0.0</td>\n      <td>1.0</td>\n      <td>1.0</td>\n      <td>0.0</td>\n      <td>1.0</td>\n    </tr>\n    <tr>\n      <th>7042</th>\n      <td>1</td>\n      <td>3</td>\n      <td>Male</td>\n      <td>0</td>\n      <td>Yes</td>\n      <td>Yes</td>\n      <td>63</td>\n      <td>No</td>\n      <td>No phone service</td>\n      <td>Yes</td>\n      <td>...</td>\n      <td>0</td>\n      <td>0</td>\n      <td>0</td>\n      <td>NaN</td>\n      <td>1.0</td>\n      <td>1.0</td>\n      <td>1.0</td>\n      <td>0.0</td>\n      <td>1.0</td>\n      <td>1.0</td>\n    </tr>\n  </tbody>\n</table>\n<p>7043 rows × 34 columns</p>\n</div>"
     },
     "execution_count": 61,
     "metadata": {},
     "output_type": "execute_result"
    }
   ],
   "source": [
    "df"
   ],
   "metadata": {
    "collapsed": false
   }
  },
  {
   "cell_type": "code",
   "execution_count": 62,
   "outputs": [],
   "source": [
    "def prep_telco_data(FreshTelco):\n",
    "    df = FreshTelco.T.drop_duplicates().T\n",
    "    df = df.drop(columns = {'internet_service_type', 'customer_id','Unnamed: 0'})\n",
    "    df['is_female'] = df.gender.map({'Female': 1, 'Male': 0})\n",
    "    df['has_partner'] = df.partner.map({'Yes': 1, 'No': 0})\n",
    "    df['has_dependents'] = df.dependents.map({'Yes': 1, 'No': 0})\n",
    "    df['has_phone_service'] = df.phone_service.map({'Yes': 1, 'No': 0})\n",
    "    df['uses_paperless_billing'] = df.paperless_billing.map({'Yes': 1, 'No': 0})\n",
    "    df['did_churn'] = df.churn.map({'Yes': 1, 'No': 0})\n",
    "    df['has_mult_lines'] = df.multiple_lines.map({'No' : 0, 'Yes' : 1,'No phone': 2 })\n",
    "    df['has_online_security'] = df.online_security.map({'No' : 0, 'Yes' : 1, 'No Internet Service' : 2})\n",
    "    df['has_online_backup'] = df.online_backup.map({'No' : 0, 'Yes' : 1, 'No Internet Service' : 2})\n",
    "    df['has_device_protection'] = df.device_protection.map({'No' : 0, 'Yes' : 1, 'No Internet Service' : 2})\n",
    "    df['has_tech_support'] = df.tech_support.map({'No' : 0, 'Yes' : 1, 'No Internet Service' : 2})\n",
    "    df['can_stream_tv'] = df.streaming_tv.map({'No' : 0, 'Yes' : 1, 'No Internet Service' : 2})\n",
    "    df['can_stream_movie'] = df.streaming_movies.map({'No' : 0, 'Yes' : 1, 'No Internet Service' : 2})\n",
    "    return df\n"
   ],
   "metadata": {
    "collapsed": false
   }
  },
  {
   "cell_type": "code",
   "execution_count": 63,
   "outputs": [
    {
     "data": {
      "text/plain": "     internet_service_type_id contract_type_id  gender senior_citizen partner  \\\n0                           1                2  Female              0     Yes   \n1                           1                1    Male              0      No   \n2                           2                1    Male              0      No   \n3                           2                1    Male              1     Yes   \n4                           2                1  Female              1     Yes   \n...                       ...              ...     ...            ...     ...   \n7038                        1                2  Female              0      No   \n7039                        2                1    Male              0     Yes   \n7040                        1                1    Male              0      No   \n7041                        1                3    Male              0     Yes   \n7042                        1                3    Male              0     Yes   \n\n     dependents tenure phone_service    multiple_lines online_security  ...  \\\n0           Yes      9           Yes                No              No  ...   \n1            No      9           Yes               Yes              No  ...   \n2            No      4           Yes                No              No  ...   \n3            No     13           Yes                No              No  ...   \n4            No      3           Yes                No              No  ...   \n...         ...    ...           ...               ...             ...  ...   \n7038         No     13           Yes                No             Yes  ...   \n7039         No     22           Yes               Yes              No  ...   \n7040         No      2           Yes                No              No  ...   \n7041        Yes     67           Yes                No             Yes  ...   \n7042        Yes     63            No  No phone service             Yes  ...   \n\n     has_phone_service uses_paperless_billing did_churn has_mult_lines  \\\n0                    1                      1         0            0.0   \n1                    1                      0         0            1.0   \n2                    1                      1         1            0.0   \n3                    1                      1         1            0.0   \n4                    1                      1         1            0.0   \n...                ...                    ...       ...            ...   \n7038                 1                      0         0            0.0   \n7039                 1                      1         1            1.0   \n7040                 1                      1         0            0.0   \n7041                 1                      0         0            0.0   \n7042                 0                      0         0            NaN   \n\n     has_online_security has_online_backup has_device_protection  \\\n0                    0.0               1.0                   0.0   \n1                    0.0               0.0                   0.0   \n2                    0.0               0.0                   1.0   \n3                    0.0               1.0                   1.0   \n4                    0.0               0.0                   0.0   \n...                  ...               ...                   ...   \n7038                 1.0               0.0                   0.0   \n7039                 0.0               0.0                   0.0   \n7040                 0.0               1.0                   0.0   \n7041                 1.0               0.0                   1.0   \n7042                 1.0               1.0                   1.0   \n\n     has_tech_support can_stream_tv can_stream_movie  \n0                 1.0           1.0              0.0  \n1                 0.0           0.0              1.0  \n2                 0.0           0.0              0.0  \n3                 0.0           1.0              1.0  \n4                 1.0           1.0              0.0  \n...               ...           ...              ...  \n7038              1.0           0.0              0.0  \n7039              0.0           0.0              1.0  \n7040              0.0           0.0              0.0  \n7041              1.0           0.0              1.0  \n7042              0.0           1.0              1.0  \n\n[7043 rows x 34 columns]",
      "text/html": "<div>\n<style scoped>\n    .dataframe tbody tr th:only-of-type {\n        vertical-align: middle;\n    }\n\n    .dataframe tbody tr th {\n        vertical-align: top;\n    }\n\n    .dataframe thead th {\n        text-align: right;\n    }\n</style>\n<table border=\"1\" class=\"dataframe\">\n  <thead>\n    <tr style=\"text-align: right;\">\n      <th></th>\n      <th>internet_service_type_id</th>\n      <th>contract_type_id</th>\n      <th>gender</th>\n      <th>senior_citizen</th>\n      <th>partner</th>\n      <th>dependents</th>\n      <th>tenure</th>\n      <th>phone_service</th>\n      <th>multiple_lines</th>\n      <th>online_security</th>\n      <th>...</th>\n      <th>has_phone_service</th>\n      <th>uses_paperless_billing</th>\n      <th>did_churn</th>\n      <th>has_mult_lines</th>\n      <th>has_online_security</th>\n      <th>has_online_backup</th>\n      <th>has_device_protection</th>\n      <th>has_tech_support</th>\n      <th>can_stream_tv</th>\n      <th>can_stream_movie</th>\n    </tr>\n  </thead>\n  <tbody>\n    <tr>\n      <th>0</th>\n      <td>1</td>\n      <td>2</td>\n      <td>Female</td>\n      <td>0</td>\n      <td>Yes</td>\n      <td>Yes</td>\n      <td>9</td>\n      <td>Yes</td>\n      <td>No</td>\n      <td>No</td>\n      <td>...</td>\n      <td>1</td>\n      <td>1</td>\n      <td>0</td>\n      <td>0.0</td>\n      <td>0.0</td>\n      <td>1.0</td>\n      <td>0.0</td>\n      <td>1.0</td>\n      <td>1.0</td>\n      <td>0.0</td>\n    </tr>\n    <tr>\n      <th>1</th>\n      <td>1</td>\n      <td>1</td>\n      <td>Male</td>\n      <td>0</td>\n      <td>No</td>\n      <td>No</td>\n      <td>9</td>\n      <td>Yes</td>\n      <td>Yes</td>\n      <td>No</td>\n      <td>...</td>\n      <td>1</td>\n      <td>0</td>\n      <td>0</td>\n      <td>1.0</td>\n      <td>0.0</td>\n      <td>0.0</td>\n      <td>0.0</td>\n      <td>0.0</td>\n      <td>0.0</td>\n      <td>1.0</td>\n    </tr>\n    <tr>\n      <th>2</th>\n      <td>2</td>\n      <td>1</td>\n      <td>Male</td>\n      <td>0</td>\n      <td>No</td>\n      <td>No</td>\n      <td>4</td>\n      <td>Yes</td>\n      <td>No</td>\n      <td>No</td>\n      <td>...</td>\n      <td>1</td>\n      <td>1</td>\n      <td>1</td>\n      <td>0.0</td>\n      <td>0.0</td>\n      <td>0.0</td>\n      <td>1.0</td>\n      <td>0.0</td>\n      <td>0.0</td>\n      <td>0.0</td>\n    </tr>\n    <tr>\n      <th>3</th>\n      <td>2</td>\n      <td>1</td>\n      <td>Male</td>\n      <td>1</td>\n      <td>Yes</td>\n      <td>No</td>\n      <td>13</td>\n      <td>Yes</td>\n      <td>No</td>\n      <td>No</td>\n      <td>...</td>\n      <td>1</td>\n      <td>1</td>\n      <td>1</td>\n      <td>0.0</td>\n      <td>0.0</td>\n      <td>1.0</td>\n      <td>1.0</td>\n      <td>0.0</td>\n      <td>1.0</td>\n      <td>1.0</td>\n    </tr>\n    <tr>\n      <th>4</th>\n      <td>2</td>\n      <td>1</td>\n      <td>Female</td>\n      <td>1</td>\n      <td>Yes</td>\n      <td>No</td>\n      <td>3</td>\n      <td>Yes</td>\n      <td>No</td>\n      <td>No</td>\n      <td>...</td>\n      <td>1</td>\n      <td>1</td>\n      <td>1</td>\n      <td>0.0</td>\n      <td>0.0</td>\n      <td>0.0</td>\n      <td>0.0</td>\n      <td>1.0</td>\n      <td>1.0</td>\n      <td>0.0</td>\n    </tr>\n    <tr>\n      <th>...</th>\n      <td>...</td>\n      <td>...</td>\n      <td>...</td>\n      <td>...</td>\n      <td>...</td>\n      <td>...</td>\n      <td>...</td>\n      <td>...</td>\n      <td>...</td>\n      <td>...</td>\n      <td>...</td>\n      <td>...</td>\n      <td>...</td>\n      <td>...</td>\n      <td>...</td>\n      <td>...</td>\n      <td>...</td>\n      <td>...</td>\n      <td>...</td>\n      <td>...</td>\n      <td>...</td>\n    </tr>\n    <tr>\n      <th>7038</th>\n      <td>1</td>\n      <td>2</td>\n      <td>Female</td>\n      <td>0</td>\n      <td>No</td>\n      <td>No</td>\n      <td>13</td>\n      <td>Yes</td>\n      <td>No</td>\n      <td>Yes</td>\n      <td>...</td>\n      <td>1</td>\n      <td>0</td>\n      <td>0</td>\n      <td>0.0</td>\n      <td>1.0</td>\n      <td>0.0</td>\n      <td>0.0</td>\n      <td>1.0</td>\n      <td>0.0</td>\n      <td>0.0</td>\n    </tr>\n    <tr>\n      <th>7039</th>\n      <td>2</td>\n      <td>1</td>\n      <td>Male</td>\n      <td>0</td>\n      <td>Yes</td>\n      <td>No</td>\n      <td>22</td>\n      <td>Yes</td>\n      <td>Yes</td>\n      <td>No</td>\n      <td>...</td>\n      <td>1</td>\n      <td>1</td>\n      <td>1</td>\n      <td>1.0</td>\n      <td>0.0</td>\n      <td>0.0</td>\n      <td>0.0</td>\n      <td>0.0</td>\n      <td>0.0</td>\n      <td>1.0</td>\n    </tr>\n    <tr>\n      <th>7040</th>\n      <td>1</td>\n      <td>1</td>\n      <td>Male</td>\n      <td>0</td>\n      <td>No</td>\n      <td>No</td>\n      <td>2</td>\n      <td>Yes</td>\n      <td>No</td>\n      <td>No</td>\n      <td>...</td>\n      <td>1</td>\n      <td>1</td>\n      <td>0</td>\n      <td>0.0</td>\n      <td>0.0</td>\n      <td>1.0</td>\n      <td>0.0</td>\n      <td>0.0</td>\n      <td>0.0</td>\n      <td>0.0</td>\n    </tr>\n    <tr>\n      <th>7041</th>\n      <td>1</td>\n      <td>3</td>\n      <td>Male</td>\n      <td>0</td>\n      <td>Yes</td>\n      <td>Yes</td>\n      <td>67</td>\n      <td>Yes</td>\n      <td>No</td>\n      <td>Yes</td>\n      <td>...</td>\n      <td>1</td>\n      <td>0</td>\n      <td>0</td>\n      <td>0.0</td>\n      <td>1.0</td>\n      <td>0.0</td>\n      <td>1.0</td>\n      <td>1.0</td>\n      <td>0.0</td>\n      <td>1.0</td>\n    </tr>\n    <tr>\n      <th>7042</th>\n      <td>1</td>\n      <td>3</td>\n      <td>Male</td>\n      <td>0</td>\n      <td>Yes</td>\n      <td>Yes</td>\n      <td>63</td>\n      <td>No</td>\n      <td>No phone service</td>\n      <td>Yes</td>\n      <td>...</td>\n      <td>0</td>\n      <td>0</td>\n      <td>0</td>\n      <td>NaN</td>\n      <td>1.0</td>\n      <td>1.0</td>\n      <td>1.0</td>\n      <td>0.0</td>\n      <td>1.0</td>\n      <td>1.0</td>\n    </tr>\n  </tbody>\n</table>\n<p>7043 rows × 34 columns</p>\n</div>"
     },
     "execution_count": 63,
     "metadata": {},
     "output_type": "execute_result"
    }
   ],
   "source": [
    "prep_telco_data(FreshTelco)"
   ],
   "metadata": {
    "collapsed": false
   }
  },
  {
   "cell_type": "markdown",
   "source": [
    "Split your data"
   ],
   "metadata": {
    "collapsed": false
   }
  },
  {
   "cell_type": "markdown",
   "source": [
    "Write a function to split your data into train, test and validate datasets. Add this function to prepare.py."
   ],
   "metadata": {
    "collapsed": false
   }
  },
  {
   "cell_type": "code",
   "execution_count": null,
   "outputs": [],
   "source": [],
   "metadata": {
    "collapsed": false
   }
  },
  {
   "cell_type": "code",
   "execution_count": 71,
   "outputs": [],
   "source": [
    "def my_train_test_split(df, target):\n",
    "\n",
    "    train, test = train_test_split(df, test_size=.2, random_state=123, stratify=df[target])\n",
    "    train, validate = train_test_split(train, test_size=.25, random_state=123, stratify=train[target])\n",
    "\n",
    "    return train, validate, test"
   ],
   "metadata": {
    "collapsed": false
   }
  },
  {
   "cell_type": "code",
   "execution_count": 81,
   "outputs": [],
   "source": [
    "train,validate,test = my_train_test_split(prep_telco_data(FreshTelco), 'did_churn')"
   ],
   "metadata": {
    "collapsed": false
   }
  },
  {
   "cell_type": "code",
   "execution_count": 79,
   "outputs": [],
   "source": [
    "train,validate,test = my_train_test_split(prep_iris(fresh_iris), 'species')"
   ],
   "metadata": {
    "collapsed": false
   }
  },
  {
   "cell_type": "code",
   "execution_count": 80,
   "outputs": [],
   "source": [
    "train,validate,test = my_train_test_split(prep_titanic(FreshTitanic), 'survived')"
   ],
   "metadata": {
    "collapsed": false
   }
  },
  {
   "cell_type": "code",
   "execution_count": 82,
   "outputs": [
    {
     "data": {
      "text/plain": "     internet_service_type_id contract_type_id  gender senior_citizen partner  \\\n5911                        1                2    Male              0      No   \n2479                        3                2  Female              0     Yes   \n5889                        1                1  Female              0      No   \n6087                        1                3    Male              0      No   \n785                         2                2  Female              0      No   \n...                       ...              ...     ...            ...     ...   \n6102                        2                1  Female              0     Yes   \n356                         1                1  Female              1      No   \n1756                        2                1    Male              0      No   \n2127                        1                3    Male              0      No   \n3586                        1                2  Female              0      No   \n\n     dependents tenure phone_service    multiple_lines      online_security  \\\n5911        Yes     26            No  No phone service                   No   \n2479         No     47           Yes               Yes  No internet service   \n5889         No      1           Yes                No                   No   \n6087         No     69            No  No phone service                  Yes   \n785          No     51           Yes                No                   No   \n...         ...    ...           ...               ...                  ...   \n6102         No      2           Yes                No                   No   \n356          No     52            No  No phone service                   No   \n1756         No      4           Yes                No                   No   \n2127         No     35           Yes               Yes                  Yes   \n3586         No     10           Yes                No                   No   \n\n      ... has_phone_service uses_paperless_billing did_churn has_mult_lines  \\\n5911  ...                 0                      1         0            NaN   \n2479  ...                 1                      0         0            1.0   \n5889  ...                 1                      1         1            0.0   \n6087  ...                 0                      1         0            NaN   \n785   ...                 1                      0         0            0.0   \n...   ...               ...                    ...       ...            ...   \n6102  ...                 1                      0         1            0.0   \n356   ...                 0                      1         0            NaN   \n1756  ...                 1                      1         1            0.0   \n2127  ...                 1                      0         0            1.0   \n3586  ...                 1                      0         0            0.0   \n\n     has_online_security has_online_backup has_device_protection  \\\n5911                 0.0               1.0                   0.0   \n2479                 NaN               NaN                   NaN   \n5889                 0.0               0.0                   1.0   \n6087                 1.0               1.0                   0.0   \n785                  0.0               0.0                   0.0   \n...                  ...               ...                   ...   \n6102                 0.0               1.0                   1.0   \n356                  0.0               1.0                   1.0   \n1756                 0.0               0.0                   0.0   \n2127                 1.0               0.0                   0.0   \n3586                 0.0               1.0                   0.0   \n\n     has_tech_support can_stream_tv can_stream_movie  \n5911              0.0           1.0              0.0  \n2479              NaN           NaN              NaN  \n5889              0.0           0.0              0.0  \n6087              1.0           1.0              1.0  \n785               0.0           1.0              1.0  \n...               ...           ...              ...  \n6102              0.0           0.0              0.0  \n356               1.0           1.0              0.0  \n1756              0.0           0.0              0.0  \n2127              0.0           0.0              0.0  \n3586              1.0           0.0              1.0  \n\n[4225 rows x 34 columns]",
      "text/html": "<div>\n<style scoped>\n    .dataframe tbody tr th:only-of-type {\n        vertical-align: middle;\n    }\n\n    .dataframe tbody tr th {\n        vertical-align: top;\n    }\n\n    .dataframe thead th {\n        text-align: right;\n    }\n</style>\n<table border=\"1\" class=\"dataframe\">\n  <thead>\n    <tr style=\"text-align: right;\">\n      <th></th>\n      <th>internet_service_type_id</th>\n      <th>contract_type_id</th>\n      <th>gender</th>\n      <th>senior_citizen</th>\n      <th>partner</th>\n      <th>dependents</th>\n      <th>tenure</th>\n      <th>phone_service</th>\n      <th>multiple_lines</th>\n      <th>online_security</th>\n      <th>...</th>\n      <th>has_phone_service</th>\n      <th>uses_paperless_billing</th>\n      <th>did_churn</th>\n      <th>has_mult_lines</th>\n      <th>has_online_security</th>\n      <th>has_online_backup</th>\n      <th>has_device_protection</th>\n      <th>has_tech_support</th>\n      <th>can_stream_tv</th>\n      <th>can_stream_movie</th>\n    </tr>\n  </thead>\n  <tbody>\n    <tr>\n      <th>5911</th>\n      <td>1</td>\n      <td>2</td>\n      <td>Male</td>\n      <td>0</td>\n      <td>No</td>\n      <td>Yes</td>\n      <td>26</td>\n      <td>No</td>\n      <td>No phone service</td>\n      <td>No</td>\n      <td>...</td>\n      <td>0</td>\n      <td>1</td>\n      <td>0</td>\n      <td>NaN</td>\n      <td>0.0</td>\n      <td>1.0</td>\n      <td>0.0</td>\n      <td>0.0</td>\n      <td>1.0</td>\n      <td>0.0</td>\n    </tr>\n    <tr>\n      <th>2479</th>\n      <td>3</td>\n      <td>2</td>\n      <td>Female</td>\n      <td>0</td>\n      <td>Yes</td>\n      <td>No</td>\n      <td>47</td>\n      <td>Yes</td>\n      <td>Yes</td>\n      <td>No internet service</td>\n      <td>...</td>\n      <td>1</td>\n      <td>0</td>\n      <td>0</td>\n      <td>1.0</td>\n      <td>NaN</td>\n      <td>NaN</td>\n      <td>NaN</td>\n      <td>NaN</td>\n      <td>NaN</td>\n      <td>NaN</td>\n    </tr>\n    <tr>\n      <th>5889</th>\n      <td>1</td>\n      <td>1</td>\n      <td>Female</td>\n      <td>0</td>\n      <td>No</td>\n      <td>No</td>\n      <td>1</td>\n      <td>Yes</td>\n      <td>No</td>\n      <td>No</td>\n      <td>...</td>\n      <td>1</td>\n      <td>1</td>\n      <td>1</td>\n      <td>0.0</td>\n      <td>0.0</td>\n      <td>0.0</td>\n      <td>1.0</td>\n      <td>0.0</td>\n      <td>0.0</td>\n      <td>0.0</td>\n    </tr>\n    <tr>\n      <th>6087</th>\n      <td>1</td>\n      <td>3</td>\n      <td>Male</td>\n      <td>0</td>\n      <td>No</td>\n      <td>No</td>\n      <td>69</td>\n      <td>No</td>\n      <td>No phone service</td>\n      <td>Yes</td>\n      <td>...</td>\n      <td>0</td>\n      <td>1</td>\n      <td>0</td>\n      <td>NaN</td>\n      <td>1.0</td>\n      <td>1.0</td>\n      <td>0.0</td>\n      <td>1.0</td>\n      <td>1.0</td>\n      <td>1.0</td>\n    </tr>\n    <tr>\n      <th>785</th>\n      <td>2</td>\n      <td>2</td>\n      <td>Female</td>\n      <td>0</td>\n      <td>No</td>\n      <td>No</td>\n      <td>51</td>\n      <td>Yes</td>\n      <td>No</td>\n      <td>No</td>\n      <td>...</td>\n      <td>1</td>\n      <td>0</td>\n      <td>0</td>\n      <td>0.0</td>\n      <td>0.0</td>\n      <td>0.0</td>\n      <td>0.0</td>\n      <td>0.0</td>\n      <td>1.0</td>\n      <td>1.0</td>\n    </tr>\n    <tr>\n      <th>...</th>\n      <td>...</td>\n      <td>...</td>\n      <td>...</td>\n      <td>...</td>\n      <td>...</td>\n      <td>...</td>\n      <td>...</td>\n      <td>...</td>\n      <td>...</td>\n      <td>...</td>\n      <td>...</td>\n      <td>...</td>\n      <td>...</td>\n      <td>...</td>\n      <td>...</td>\n      <td>...</td>\n      <td>...</td>\n      <td>...</td>\n      <td>...</td>\n      <td>...</td>\n      <td>...</td>\n    </tr>\n    <tr>\n      <th>6102</th>\n      <td>2</td>\n      <td>1</td>\n      <td>Female</td>\n      <td>0</td>\n      <td>Yes</td>\n      <td>No</td>\n      <td>2</td>\n      <td>Yes</td>\n      <td>No</td>\n      <td>No</td>\n      <td>...</td>\n      <td>1</td>\n      <td>0</td>\n      <td>1</td>\n      <td>0.0</td>\n      <td>0.0</td>\n      <td>1.0</td>\n      <td>1.0</td>\n      <td>0.0</td>\n      <td>0.0</td>\n      <td>0.0</td>\n    </tr>\n    <tr>\n      <th>356</th>\n      <td>1</td>\n      <td>1</td>\n      <td>Female</td>\n      <td>1</td>\n      <td>No</td>\n      <td>No</td>\n      <td>52</td>\n      <td>No</td>\n      <td>No phone service</td>\n      <td>No</td>\n      <td>...</td>\n      <td>0</td>\n      <td>1</td>\n      <td>0</td>\n      <td>NaN</td>\n      <td>0.0</td>\n      <td>1.0</td>\n      <td>1.0</td>\n      <td>1.0</td>\n      <td>1.0</td>\n      <td>0.0</td>\n    </tr>\n    <tr>\n      <th>1756</th>\n      <td>2</td>\n      <td>1</td>\n      <td>Male</td>\n      <td>0</td>\n      <td>No</td>\n      <td>No</td>\n      <td>4</td>\n      <td>Yes</td>\n      <td>No</td>\n      <td>No</td>\n      <td>...</td>\n      <td>1</td>\n      <td>1</td>\n      <td>1</td>\n      <td>0.0</td>\n      <td>0.0</td>\n      <td>0.0</td>\n      <td>0.0</td>\n      <td>0.0</td>\n      <td>0.0</td>\n      <td>0.0</td>\n    </tr>\n    <tr>\n      <th>2127</th>\n      <td>1</td>\n      <td>3</td>\n      <td>Male</td>\n      <td>0</td>\n      <td>No</td>\n      <td>No</td>\n      <td>35</td>\n      <td>Yes</td>\n      <td>Yes</td>\n      <td>Yes</td>\n      <td>...</td>\n      <td>1</td>\n      <td>0</td>\n      <td>0</td>\n      <td>1.0</td>\n      <td>1.0</td>\n      <td>0.0</td>\n      <td>0.0</td>\n      <td>0.0</td>\n      <td>0.0</td>\n      <td>0.0</td>\n    </tr>\n    <tr>\n      <th>3586</th>\n      <td>1</td>\n      <td>2</td>\n      <td>Female</td>\n      <td>0</td>\n      <td>No</td>\n      <td>No</td>\n      <td>10</td>\n      <td>Yes</td>\n      <td>No</td>\n      <td>No</td>\n      <td>...</td>\n      <td>1</td>\n      <td>0</td>\n      <td>0</td>\n      <td>0.0</td>\n      <td>0.0</td>\n      <td>1.0</td>\n      <td>0.0</td>\n      <td>1.0</td>\n      <td>0.0</td>\n      <td>1.0</td>\n    </tr>\n  </tbody>\n</table>\n<p>4225 rows × 34 columns</p>\n</div>"
     },
     "execution_count": 82,
     "metadata": {},
     "output_type": "execute_result"
    }
   ],
   "source": [
    "train"
   ],
   "metadata": {
    "collapsed": false
   }
  },
  {
   "cell_type": "code",
   "execution_count": 83,
   "outputs": [
    {
     "data": {
      "text/plain": "     internet_service_type_id contract_type_id  gender senior_citizen partner  \\\n3554                        2                2  Female              0      No   \n2063                        1                2  Female              0      No   \n1737                        2                1    Male              1     Yes   \n5894                        3                3  Female              0     Yes   \n209                         2                1  Female              1     Yes   \n...                       ...              ...     ...            ...     ...   \n2529                        2                1  Female              1     Yes   \n6540                        2                1    Male              0     Yes   \n5765                        2                3    Male              0     Yes   \n6959                        1                3  Female              0      No   \n3108                        2                2  Female              0     Yes   \n\n     dependents tenure phone_service multiple_lines      online_security  ...  \\\n3554         No     56           Yes            Yes                   No  ...   \n2063         No     67           Yes             No                  Yes  ...   \n1737         No     17           Yes             No                   No  ...   \n5894        Yes     45           Yes            Yes  No internet service  ...   \n209          No     68           Yes            Yes                   No  ...   \n...         ...    ...           ...            ...                  ...  ...   \n2529         No     14           Yes            Yes                   No  ...   \n6540        Yes     13           Yes            Yes                   No  ...   \n5765         No     72           Yes            Yes                   No  ...   \n6959        Yes     34           Yes             No                  Yes  ...   \n3108         No     61           Yes            Yes                   No  ...   \n\n     has_phone_service uses_paperless_billing did_churn has_mult_lines  \\\n3554                 1                      1         0            1.0   \n2063                 1                      0         0            0.0   \n1737                 1                      1         1            0.0   \n5894                 1                      1         0            1.0   \n209                  1                      1         1            1.0   \n...                ...                    ...       ...            ...   \n2529                 1                      1         1            1.0   \n6540                 1                      1         1            1.0   \n5765                 1                      1         0            1.0   \n6959                 1                      0         0            0.0   \n3108                 1                      0         0            1.0   \n\n     has_online_security has_online_backup has_device_protection  \\\n3554                 0.0               1.0                   1.0   \n2063                 1.0               1.0                   0.0   \n1737                 0.0               1.0                   0.0   \n5894                 NaN               NaN                   NaN   \n209                  0.0               1.0                   0.0   \n...                  ...               ...                   ...   \n2529                 0.0               1.0                   0.0   \n6540                 0.0               0.0                   0.0   \n5765                 0.0               1.0                   1.0   \n6959                 1.0               0.0                   1.0   \n3108                 0.0               0.0                   0.0   \n\n     has_tech_support can_stream_tv can_stream_movie  \n3554              0.0           1.0              1.0  \n2063              1.0           0.0              0.0  \n1737              0.0           0.0              0.0  \n5894              NaN           NaN              NaN  \n209               0.0           1.0              1.0  \n...               ...           ...              ...  \n2529              0.0           1.0              1.0  \n6540              0.0           0.0              0.0  \n5765              0.0           1.0              1.0  \n6959              1.0           1.0              0.0  \n3108              1.0           1.0              1.0  \n\n[1409 rows x 34 columns]",
      "text/html": "<div>\n<style scoped>\n    .dataframe tbody tr th:only-of-type {\n        vertical-align: middle;\n    }\n\n    .dataframe tbody tr th {\n        vertical-align: top;\n    }\n\n    .dataframe thead th {\n        text-align: right;\n    }\n</style>\n<table border=\"1\" class=\"dataframe\">\n  <thead>\n    <tr style=\"text-align: right;\">\n      <th></th>\n      <th>internet_service_type_id</th>\n      <th>contract_type_id</th>\n      <th>gender</th>\n      <th>senior_citizen</th>\n      <th>partner</th>\n      <th>dependents</th>\n      <th>tenure</th>\n      <th>phone_service</th>\n      <th>multiple_lines</th>\n      <th>online_security</th>\n      <th>...</th>\n      <th>has_phone_service</th>\n      <th>uses_paperless_billing</th>\n      <th>did_churn</th>\n      <th>has_mult_lines</th>\n      <th>has_online_security</th>\n      <th>has_online_backup</th>\n      <th>has_device_protection</th>\n      <th>has_tech_support</th>\n      <th>can_stream_tv</th>\n      <th>can_stream_movie</th>\n    </tr>\n  </thead>\n  <tbody>\n    <tr>\n      <th>3554</th>\n      <td>2</td>\n      <td>2</td>\n      <td>Female</td>\n      <td>0</td>\n      <td>No</td>\n      <td>No</td>\n      <td>56</td>\n      <td>Yes</td>\n      <td>Yes</td>\n      <td>No</td>\n      <td>...</td>\n      <td>1</td>\n      <td>1</td>\n      <td>0</td>\n      <td>1.0</td>\n      <td>0.0</td>\n      <td>1.0</td>\n      <td>1.0</td>\n      <td>0.0</td>\n      <td>1.0</td>\n      <td>1.0</td>\n    </tr>\n    <tr>\n      <th>2063</th>\n      <td>1</td>\n      <td>2</td>\n      <td>Female</td>\n      <td>0</td>\n      <td>No</td>\n      <td>No</td>\n      <td>67</td>\n      <td>Yes</td>\n      <td>No</td>\n      <td>Yes</td>\n      <td>...</td>\n      <td>1</td>\n      <td>0</td>\n      <td>0</td>\n      <td>0.0</td>\n      <td>1.0</td>\n      <td>1.0</td>\n      <td>0.0</td>\n      <td>1.0</td>\n      <td>0.0</td>\n      <td>0.0</td>\n    </tr>\n    <tr>\n      <th>1737</th>\n      <td>2</td>\n      <td>1</td>\n      <td>Male</td>\n      <td>1</td>\n      <td>Yes</td>\n      <td>No</td>\n      <td>17</td>\n      <td>Yes</td>\n      <td>No</td>\n      <td>No</td>\n      <td>...</td>\n      <td>1</td>\n      <td>1</td>\n      <td>1</td>\n      <td>0.0</td>\n      <td>0.0</td>\n      <td>1.0</td>\n      <td>0.0</td>\n      <td>0.0</td>\n      <td>0.0</td>\n      <td>0.0</td>\n    </tr>\n    <tr>\n      <th>5894</th>\n      <td>3</td>\n      <td>3</td>\n      <td>Female</td>\n      <td>0</td>\n      <td>Yes</td>\n      <td>Yes</td>\n      <td>45</td>\n      <td>Yes</td>\n      <td>Yes</td>\n      <td>No internet service</td>\n      <td>...</td>\n      <td>1</td>\n      <td>1</td>\n      <td>0</td>\n      <td>1.0</td>\n      <td>NaN</td>\n      <td>NaN</td>\n      <td>NaN</td>\n      <td>NaN</td>\n      <td>NaN</td>\n      <td>NaN</td>\n    </tr>\n    <tr>\n      <th>209</th>\n      <td>2</td>\n      <td>1</td>\n      <td>Female</td>\n      <td>1</td>\n      <td>Yes</td>\n      <td>No</td>\n      <td>68</td>\n      <td>Yes</td>\n      <td>Yes</td>\n      <td>No</td>\n      <td>...</td>\n      <td>1</td>\n      <td>1</td>\n      <td>1</td>\n      <td>1.0</td>\n      <td>0.0</td>\n      <td>1.0</td>\n      <td>0.0</td>\n      <td>0.0</td>\n      <td>1.0</td>\n      <td>1.0</td>\n    </tr>\n    <tr>\n      <th>...</th>\n      <td>...</td>\n      <td>...</td>\n      <td>...</td>\n      <td>...</td>\n      <td>...</td>\n      <td>...</td>\n      <td>...</td>\n      <td>...</td>\n      <td>...</td>\n      <td>...</td>\n      <td>...</td>\n      <td>...</td>\n      <td>...</td>\n      <td>...</td>\n      <td>...</td>\n      <td>...</td>\n      <td>...</td>\n      <td>...</td>\n      <td>...</td>\n      <td>...</td>\n      <td>...</td>\n    </tr>\n    <tr>\n      <th>2529</th>\n      <td>2</td>\n      <td>1</td>\n      <td>Female</td>\n      <td>1</td>\n      <td>Yes</td>\n      <td>No</td>\n      <td>14</td>\n      <td>Yes</td>\n      <td>Yes</td>\n      <td>No</td>\n      <td>...</td>\n      <td>1</td>\n      <td>1</td>\n      <td>1</td>\n      <td>1.0</td>\n      <td>0.0</td>\n      <td>1.0</td>\n      <td>0.0</td>\n      <td>0.0</td>\n      <td>1.0</td>\n      <td>1.0</td>\n    </tr>\n    <tr>\n      <th>6540</th>\n      <td>2</td>\n      <td>1</td>\n      <td>Male</td>\n      <td>0</td>\n      <td>Yes</td>\n      <td>Yes</td>\n      <td>13</td>\n      <td>Yes</td>\n      <td>Yes</td>\n      <td>No</td>\n      <td>...</td>\n      <td>1</td>\n      <td>1</td>\n      <td>1</td>\n      <td>1.0</td>\n      <td>0.0</td>\n      <td>0.0</td>\n      <td>0.0</td>\n      <td>0.0</td>\n      <td>0.0</td>\n      <td>0.0</td>\n    </tr>\n    <tr>\n      <th>5765</th>\n      <td>2</td>\n      <td>3</td>\n      <td>Male</td>\n      <td>0</td>\n      <td>Yes</td>\n      <td>No</td>\n      <td>72</td>\n      <td>Yes</td>\n      <td>Yes</td>\n      <td>No</td>\n      <td>...</td>\n      <td>1</td>\n      <td>1</td>\n      <td>0</td>\n      <td>1.0</td>\n      <td>0.0</td>\n      <td>1.0</td>\n      <td>1.0</td>\n      <td>0.0</td>\n      <td>1.0</td>\n      <td>1.0</td>\n    </tr>\n    <tr>\n      <th>6959</th>\n      <td>1</td>\n      <td>3</td>\n      <td>Female</td>\n      <td>0</td>\n      <td>No</td>\n      <td>Yes</td>\n      <td>34</td>\n      <td>Yes</td>\n      <td>No</td>\n      <td>Yes</td>\n      <td>...</td>\n      <td>1</td>\n      <td>0</td>\n      <td>0</td>\n      <td>0.0</td>\n      <td>1.0</td>\n      <td>0.0</td>\n      <td>1.0</td>\n      <td>1.0</td>\n      <td>1.0</td>\n      <td>0.0</td>\n    </tr>\n    <tr>\n      <th>3108</th>\n      <td>2</td>\n      <td>2</td>\n      <td>Female</td>\n      <td>0</td>\n      <td>Yes</td>\n      <td>No</td>\n      <td>61</td>\n      <td>Yes</td>\n      <td>Yes</td>\n      <td>No</td>\n      <td>...</td>\n      <td>1</td>\n      <td>0</td>\n      <td>0</td>\n      <td>1.0</td>\n      <td>0.0</td>\n      <td>0.0</td>\n      <td>0.0</td>\n      <td>1.0</td>\n      <td>1.0</td>\n      <td>1.0</td>\n    </tr>\n  </tbody>\n</table>\n<p>1409 rows × 34 columns</p>\n</div>"
     },
     "execution_count": 83,
     "metadata": {},
     "output_type": "execute_result"
    }
   ],
   "source": [
    "validate"
   ],
   "metadata": {
    "collapsed": false
   }
  },
  {
   "cell_type": "code",
   "execution_count": 84,
   "outputs": [
    {
     "data": {
      "text/plain": "     internet_service_type_id contract_type_id  gender senior_citizen partner  \\\n3160                        2                2  Female              0     Yes   \n1577                        1                3  Female              0     Yes   \n6823                        2                1  Female              0      No   \n3615                        2                1    Male              0      No   \n882                         2                1  Female              1      No   \n...                       ...              ...     ...            ...     ...   \n1097                        1                1  Female              0      No   \n6441                        1                1    Male              0      No   \n5985                        3                3  Female              0      No   \n2452                        1                3    Male              0     Yes   \n983                         2                1    Male              0      No   \n\n     dependents tenure phone_service    multiple_lines      online_security  \\\n3160        Yes     51           Yes               Yes                  Yes   \n1577         No     65           Yes                No                  Yes   \n6823         No     18           Yes                No                  Yes   \n3615         No     25           Yes                No                  Yes   \n882          No      4           Yes               Yes                   No   \n...         ...    ...           ...               ...                  ...   \n1097         No      2           Yes                No                   No   \n6441         No      1           Yes                No                   No   \n5985         No     67           Yes               Yes  No internet service   \n2452        Yes     72            No  No phone service                  Yes   \n983          No     11           Yes                No                   No   \n\n      ... has_phone_service uses_paperless_billing did_churn has_mult_lines  \\\n3160  ...                 1                      1         0            1.0   \n1577  ...                 1                      0         0            0.0   \n6823  ...                 1                      1         1            0.0   \n3615  ...                 1                      1         0            0.0   \n882   ...                 1                      1         1            1.0   \n...   ...               ...                    ...       ...            ...   \n1097  ...                 1                      0         1            0.0   \n6441  ...                 1                      1         1            0.0   \n5985  ...                 1                      1         0            1.0   \n2452  ...                 0                      0         0            NaN   \n983   ...                 1                      1         1            0.0   \n\n     has_online_security has_online_backup has_device_protection  \\\n3160                 1.0               0.0                   0.0   \n1577                 1.0               1.0                   1.0   \n6823                 1.0               0.0                   0.0   \n3615                 1.0               0.0                   1.0   \n882                  0.0               0.0                   1.0   \n...                  ...               ...                   ...   \n1097                 0.0               0.0                   1.0   \n6441                 0.0               0.0                   0.0   \n5985                 NaN               NaN                   NaN   \n2452                 1.0               1.0                   1.0   \n983                  0.0               1.0                   0.0   \n\n     has_tech_support can_stream_tv can_stream_movie  \n3160              1.0           1.0              0.0  \n1577              0.0           0.0              1.0  \n6823              0.0           1.0              1.0  \n3615              1.0           1.0              1.0  \n882               0.0           0.0              1.0  \n...               ...           ...              ...  \n1097              1.0           1.0              1.0  \n6441              0.0           0.0              0.0  \n5985              NaN           NaN              NaN  \n2452              0.0           0.0              0.0  \n983               0.0           0.0              0.0  \n\n[1409 rows x 34 columns]",
      "text/html": "<div>\n<style scoped>\n    .dataframe tbody tr th:only-of-type {\n        vertical-align: middle;\n    }\n\n    .dataframe tbody tr th {\n        vertical-align: top;\n    }\n\n    .dataframe thead th {\n        text-align: right;\n    }\n</style>\n<table border=\"1\" class=\"dataframe\">\n  <thead>\n    <tr style=\"text-align: right;\">\n      <th></th>\n      <th>internet_service_type_id</th>\n      <th>contract_type_id</th>\n      <th>gender</th>\n      <th>senior_citizen</th>\n      <th>partner</th>\n      <th>dependents</th>\n      <th>tenure</th>\n      <th>phone_service</th>\n      <th>multiple_lines</th>\n      <th>online_security</th>\n      <th>...</th>\n      <th>has_phone_service</th>\n      <th>uses_paperless_billing</th>\n      <th>did_churn</th>\n      <th>has_mult_lines</th>\n      <th>has_online_security</th>\n      <th>has_online_backup</th>\n      <th>has_device_protection</th>\n      <th>has_tech_support</th>\n      <th>can_stream_tv</th>\n      <th>can_stream_movie</th>\n    </tr>\n  </thead>\n  <tbody>\n    <tr>\n      <th>3160</th>\n      <td>2</td>\n      <td>2</td>\n      <td>Female</td>\n      <td>0</td>\n      <td>Yes</td>\n      <td>Yes</td>\n      <td>51</td>\n      <td>Yes</td>\n      <td>Yes</td>\n      <td>Yes</td>\n      <td>...</td>\n      <td>1</td>\n      <td>1</td>\n      <td>0</td>\n      <td>1.0</td>\n      <td>1.0</td>\n      <td>0.0</td>\n      <td>0.0</td>\n      <td>1.0</td>\n      <td>1.0</td>\n      <td>0.0</td>\n    </tr>\n    <tr>\n      <th>1577</th>\n      <td>1</td>\n      <td>3</td>\n      <td>Female</td>\n      <td>0</td>\n      <td>Yes</td>\n      <td>No</td>\n      <td>65</td>\n      <td>Yes</td>\n      <td>No</td>\n      <td>Yes</td>\n      <td>...</td>\n      <td>1</td>\n      <td>0</td>\n      <td>0</td>\n      <td>0.0</td>\n      <td>1.0</td>\n      <td>1.0</td>\n      <td>1.0</td>\n      <td>0.0</td>\n      <td>0.0</td>\n      <td>1.0</td>\n    </tr>\n    <tr>\n      <th>6823</th>\n      <td>2</td>\n      <td>1</td>\n      <td>Female</td>\n      <td>0</td>\n      <td>No</td>\n      <td>No</td>\n      <td>18</td>\n      <td>Yes</td>\n      <td>No</td>\n      <td>Yes</td>\n      <td>...</td>\n      <td>1</td>\n      <td>1</td>\n      <td>1</td>\n      <td>0.0</td>\n      <td>1.0</td>\n      <td>0.0</td>\n      <td>0.0</td>\n      <td>0.0</td>\n      <td>1.0</td>\n      <td>1.0</td>\n    </tr>\n    <tr>\n      <th>3615</th>\n      <td>2</td>\n      <td>1</td>\n      <td>Male</td>\n      <td>0</td>\n      <td>No</td>\n      <td>No</td>\n      <td>25</td>\n      <td>Yes</td>\n      <td>No</td>\n      <td>Yes</td>\n      <td>...</td>\n      <td>1</td>\n      <td>1</td>\n      <td>0</td>\n      <td>0.0</td>\n      <td>1.0</td>\n      <td>0.0</td>\n      <td>1.0</td>\n      <td>1.0</td>\n      <td>1.0</td>\n      <td>1.0</td>\n    </tr>\n    <tr>\n      <th>882</th>\n      <td>2</td>\n      <td>1</td>\n      <td>Female</td>\n      <td>1</td>\n      <td>No</td>\n      <td>No</td>\n      <td>4</td>\n      <td>Yes</td>\n      <td>Yes</td>\n      <td>No</td>\n      <td>...</td>\n      <td>1</td>\n      <td>1</td>\n      <td>1</td>\n      <td>1.0</td>\n      <td>0.0</td>\n      <td>0.0</td>\n      <td>1.0</td>\n      <td>0.0</td>\n      <td>0.0</td>\n      <td>1.0</td>\n    </tr>\n    <tr>\n      <th>...</th>\n      <td>...</td>\n      <td>...</td>\n      <td>...</td>\n      <td>...</td>\n      <td>...</td>\n      <td>...</td>\n      <td>...</td>\n      <td>...</td>\n      <td>...</td>\n      <td>...</td>\n      <td>...</td>\n      <td>...</td>\n      <td>...</td>\n      <td>...</td>\n      <td>...</td>\n      <td>...</td>\n      <td>...</td>\n      <td>...</td>\n      <td>...</td>\n      <td>...</td>\n      <td>...</td>\n    </tr>\n    <tr>\n      <th>1097</th>\n      <td>1</td>\n      <td>1</td>\n      <td>Female</td>\n      <td>0</td>\n      <td>No</td>\n      <td>No</td>\n      <td>2</td>\n      <td>Yes</td>\n      <td>No</td>\n      <td>No</td>\n      <td>...</td>\n      <td>1</td>\n      <td>0</td>\n      <td>1</td>\n      <td>0.0</td>\n      <td>0.0</td>\n      <td>0.0</td>\n      <td>1.0</td>\n      <td>1.0</td>\n      <td>1.0</td>\n      <td>1.0</td>\n    </tr>\n    <tr>\n      <th>6441</th>\n      <td>1</td>\n      <td>1</td>\n      <td>Male</td>\n      <td>0</td>\n      <td>No</td>\n      <td>No</td>\n      <td>1</td>\n      <td>Yes</td>\n      <td>No</td>\n      <td>No</td>\n      <td>...</td>\n      <td>1</td>\n      <td>1</td>\n      <td>1</td>\n      <td>0.0</td>\n      <td>0.0</td>\n      <td>0.0</td>\n      <td>0.0</td>\n      <td>0.0</td>\n      <td>0.0</td>\n      <td>0.0</td>\n    </tr>\n    <tr>\n      <th>5985</th>\n      <td>3</td>\n      <td>3</td>\n      <td>Female</td>\n      <td>0</td>\n      <td>No</td>\n      <td>No</td>\n      <td>67</td>\n      <td>Yes</td>\n      <td>Yes</td>\n      <td>No internet service</td>\n      <td>...</td>\n      <td>1</td>\n      <td>1</td>\n      <td>0</td>\n      <td>1.0</td>\n      <td>NaN</td>\n      <td>NaN</td>\n      <td>NaN</td>\n      <td>NaN</td>\n      <td>NaN</td>\n      <td>NaN</td>\n    </tr>\n    <tr>\n      <th>2452</th>\n      <td>1</td>\n      <td>3</td>\n      <td>Male</td>\n      <td>0</td>\n      <td>Yes</td>\n      <td>Yes</td>\n      <td>72</td>\n      <td>No</td>\n      <td>No phone service</td>\n      <td>Yes</td>\n      <td>...</td>\n      <td>0</td>\n      <td>0</td>\n      <td>0</td>\n      <td>NaN</td>\n      <td>1.0</td>\n      <td>1.0</td>\n      <td>1.0</td>\n      <td>0.0</td>\n      <td>0.0</td>\n      <td>0.0</td>\n    </tr>\n    <tr>\n      <th>983</th>\n      <td>2</td>\n      <td>1</td>\n      <td>Male</td>\n      <td>0</td>\n      <td>No</td>\n      <td>No</td>\n      <td>11</td>\n      <td>Yes</td>\n      <td>No</td>\n      <td>No</td>\n      <td>...</td>\n      <td>1</td>\n      <td>1</td>\n      <td>1</td>\n      <td>0.0</td>\n      <td>0.0</td>\n      <td>1.0</td>\n      <td>0.0</td>\n      <td>0.0</td>\n      <td>0.0</td>\n      <td>0.0</td>\n    </tr>\n  </tbody>\n</table>\n<p>1409 rows × 34 columns</p>\n</div>"
     },
     "execution_count": 84,
     "metadata": {},
     "output_type": "execute_result"
    }
   ],
   "source": [
    "test"
   ],
   "metadata": {
    "collapsed": false
   }
  },
  {
   "cell_type": "code",
   "execution_count": null,
   "outputs": [],
   "source": [],
   "metadata": {
    "collapsed": false
   }
  },
  {
   "cell_type": "code",
   "execution_count": null,
   "outputs": [],
   "source": [],
   "metadata": {
    "collapsed": false
   }
  }
 ],
 "metadata": {
  "kernelspec": {
   "display_name": "Python 3 (ipykernel)",
   "language": "python",
   "name": "python3"
  },
  "language_info": {
   "codemirror_mode": {
    "name": "ipython",
    "version": 3
   },
   "file_extension": ".py",
   "mimetype": "text/x-python",
   "name": "python",
   "nbconvert_exporter": "python",
   "pygments_lexer": "ipython3",
   "version": "3.9.12"
  }
 },
 "nbformat": 4,
 "nbformat_minor": 5
}
