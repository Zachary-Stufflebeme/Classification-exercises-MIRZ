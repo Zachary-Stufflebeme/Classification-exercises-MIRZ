{
 "cells": [
  {
   "cell_type": "code",
   "execution_count": 85,
   "outputs": [],
   "source": [
    "# ignore warnings\n",
    "import warnings\n",
    "warnings.filterwarnings(\"ignore\")\n",
    "\n",
    "import numpy as np\n",
    "\n",
    "from pydataset import data\n",
    "\n",
    "from sklearn.model_selection import train_test_split\n",
    "from sklearn.tree import DecisionTreeClassifier, plot_tree\n",
    "from sklearn.metrics import classification_report\n",
    "from sklearn.metrics import confusion_matrix\n",
    "from sklearn.ensemble import RandomForestClassifier\n",
    "\n",
    "import matplotlib.pyplot as plt\n",
    "import seaborn as sns\n",
    "from Acquire_MIRZ import get_connection, read_csv\n",
    "from Prepare_mirz import prep_titanic, my_train_test_split, prep_telco_data\n",
    "import pandas as pd\n",
    "import numpy as np\n",
    "from sklearn.neighbors import KNeighborsClassifier\n",
    "\n",
    "\n",
    "\n"
   ],
   "metadata": {
    "collapsed": false
   }
  },
  {
   "cell_type": "markdown",
   "source": [
    "What is your baseline prediction? What is your baseline accuracy? remember: your baseline prediction for a classification problem is predicting the most prevelant class in the training dataset (the mode). When you make those predictions, what is your accuracy? This is your baseline accuracy."
   ],
   "metadata": {
    "collapsed": false
   }
  },
  {
   "cell_type": "code",
   "execution_count": 34,
   "outputs": [],
   "source": [
    "uglytitanic = read_csv('Titanic.csv')"
   ],
   "metadata": {
    "collapsed": false
   }
  },
  {
   "cell_type": "code",
   "execution_count": 35,
   "outputs": [],
   "source": [
    "myTitanic = prep_titanic(uglytitanic)"
   ],
   "metadata": {
    "collapsed": false
   }
  },
  {
   "cell_type": "code",
   "execution_count": 36,
   "outputs": [
    {
     "data": {
      "text/plain": "0    424\n1    288\nName: survived, dtype: int64"
     },
     "execution_count": 36,
     "metadata": {},
     "output_type": "execute_result"
    }
   ],
   "source": [
    "myTitanic.survived.value_counts()"
   ],
   "metadata": {
    "collapsed": false
   }
  },
  {
   "cell_type": "code",
   "execution_count": 37,
   "outputs": [
    {
     "data": {
      "text/plain": "     survived  pclass   age  sibsp  parch     fare  alone  is_male  Cherbourg  \\\n0           0       3  22.0      1      0   7.2500      0        1        0.0   \n1           1       1  38.0      1      0  71.2833      0        0        1.0   \n2           1       3  26.0      0      0   7.9250      1        0        0.0   \n3           1       1  35.0      1      0  53.1000      0        0        0.0   \n4           0       3  35.0      0      0   8.0500      1        1        0.0   \n..        ...     ...   ...    ...    ...      ...    ...      ...        ...   \n885         0       3  39.0      0      5  29.1250      0        0        0.0   \n886         0       2  27.0      0      0  13.0000      1        1        0.0   \n887         1       1  19.0      0      0  30.0000      1        0        0.0   \n889         1       1  26.0      0      0  30.0000      1        1        1.0   \n890         0       3  32.0      0      0   7.7500      1        1        0.0   \n\n     Southampton  Queenstown  \n0            1.0         0.0  \n1            0.0         0.0  \n2            1.0         0.0  \n3            1.0         0.0  \n4            1.0         0.0  \n..           ...         ...  \n885          0.0         1.0  \n886          1.0         0.0  \n887          1.0         0.0  \n889          0.0         0.0  \n890          0.0         1.0  \n\n[712 rows x 11 columns]",
      "text/html": "<div>\n<style scoped>\n    .dataframe tbody tr th:only-of-type {\n        vertical-align: middle;\n    }\n\n    .dataframe tbody tr th {\n        vertical-align: top;\n    }\n\n    .dataframe thead th {\n        text-align: right;\n    }\n</style>\n<table border=\"1\" class=\"dataframe\">\n  <thead>\n    <tr style=\"text-align: right;\">\n      <th></th>\n      <th>survived</th>\n      <th>pclass</th>\n      <th>age</th>\n      <th>sibsp</th>\n      <th>parch</th>\n      <th>fare</th>\n      <th>alone</th>\n      <th>is_male</th>\n      <th>Cherbourg</th>\n      <th>Southampton</th>\n      <th>Queenstown</th>\n    </tr>\n  </thead>\n  <tbody>\n    <tr>\n      <th>0</th>\n      <td>0</td>\n      <td>3</td>\n      <td>22.0</td>\n      <td>1</td>\n      <td>0</td>\n      <td>7.2500</td>\n      <td>0</td>\n      <td>1</td>\n      <td>0.0</td>\n      <td>1.0</td>\n      <td>0.0</td>\n    </tr>\n    <tr>\n      <th>1</th>\n      <td>1</td>\n      <td>1</td>\n      <td>38.0</td>\n      <td>1</td>\n      <td>0</td>\n      <td>71.2833</td>\n      <td>0</td>\n      <td>0</td>\n      <td>1.0</td>\n      <td>0.0</td>\n      <td>0.0</td>\n    </tr>\n    <tr>\n      <th>2</th>\n      <td>1</td>\n      <td>3</td>\n      <td>26.0</td>\n      <td>0</td>\n      <td>0</td>\n      <td>7.9250</td>\n      <td>1</td>\n      <td>0</td>\n      <td>0.0</td>\n      <td>1.0</td>\n      <td>0.0</td>\n    </tr>\n    <tr>\n      <th>3</th>\n      <td>1</td>\n      <td>1</td>\n      <td>35.0</td>\n      <td>1</td>\n      <td>0</td>\n      <td>53.1000</td>\n      <td>0</td>\n      <td>0</td>\n      <td>0.0</td>\n      <td>1.0</td>\n      <td>0.0</td>\n    </tr>\n    <tr>\n      <th>4</th>\n      <td>0</td>\n      <td>3</td>\n      <td>35.0</td>\n      <td>0</td>\n      <td>0</td>\n      <td>8.0500</td>\n      <td>1</td>\n      <td>1</td>\n      <td>0.0</td>\n      <td>1.0</td>\n      <td>0.0</td>\n    </tr>\n    <tr>\n      <th>...</th>\n      <td>...</td>\n      <td>...</td>\n      <td>...</td>\n      <td>...</td>\n      <td>...</td>\n      <td>...</td>\n      <td>...</td>\n      <td>...</td>\n      <td>...</td>\n      <td>...</td>\n      <td>...</td>\n    </tr>\n    <tr>\n      <th>885</th>\n      <td>0</td>\n      <td>3</td>\n      <td>39.0</td>\n      <td>0</td>\n      <td>5</td>\n      <td>29.1250</td>\n      <td>0</td>\n      <td>0</td>\n      <td>0.0</td>\n      <td>0.0</td>\n      <td>1.0</td>\n    </tr>\n    <tr>\n      <th>886</th>\n      <td>0</td>\n      <td>2</td>\n      <td>27.0</td>\n      <td>0</td>\n      <td>0</td>\n      <td>13.0000</td>\n      <td>1</td>\n      <td>1</td>\n      <td>0.0</td>\n      <td>1.0</td>\n      <td>0.0</td>\n    </tr>\n    <tr>\n      <th>887</th>\n      <td>1</td>\n      <td>1</td>\n      <td>19.0</td>\n      <td>0</td>\n      <td>0</td>\n      <td>30.0000</td>\n      <td>1</td>\n      <td>0</td>\n      <td>0.0</td>\n      <td>1.0</td>\n      <td>0.0</td>\n    </tr>\n    <tr>\n      <th>889</th>\n      <td>1</td>\n      <td>1</td>\n      <td>26.0</td>\n      <td>0</td>\n      <td>0</td>\n      <td>30.0000</td>\n      <td>1</td>\n      <td>1</td>\n      <td>1.0</td>\n      <td>0.0</td>\n      <td>0.0</td>\n    </tr>\n    <tr>\n      <th>890</th>\n      <td>0</td>\n      <td>3</td>\n      <td>32.0</td>\n      <td>0</td>\n      <td>0</td>\n      <td>7.7500</td>\n      <td>1</td>\n      <td>1</td>\n      <td>0.0</td>\n      <td>0.0</td>\n      <td>1.0</td>\n    </tr>\n  </tbody>\n</table>\n<p>712 rows × 11 columns</p>\n</div>"
     },
     "execution_count": 37,
     "metadata": {},
     "output_type": "execute_result"
    }
   ],
   "source": [
    "myTitanic"
   ],
   "metadata": {
    "collapsed": false
   }
  },
  {
   "cell_type": "code",
   "execution_count": 38,
   "outputs": [
    {
     "data": {
      "text/plain": "0    424\n1    288\nName: survived, dtype: int64"
     },
     "execution_count": 38,
     "metadata": {},
     "output_type": "execute_result"
    }
   ],
   "source": [
    "myTitanic.survived.value_counts()"
   ],
   "metadata": {
    "collapsed": false
   }
  },
  {
   "cell_type": "code",
   "execution_count": 39,
   "outputs": [
    {
     "data": {
      "text/plain": "0.5955056179775281"
     },
     "execution_count": 39,
     "metadata": {},
     "output_type": "execute_result"
    }
   ],
   "source": [
    "baseline = len(myTitanic[myTitanic.survived == 0]) / len(myTitanic)\n",
    "baseline"
   ],
   "metadata": {
    "collapsed": false
   }
  },
  {
   "cell_type": "markdown",
   "source": [
    "Fit the decision tree classifier to your training sample and transform (i.e. make predictions on the training sample"
   ],
   "metadata": {
    "collapsed": false
   }
  },
  {
   "cell_type": "code",
   "execution_count": 40,
   "outputs": [],
   "source": [
    "train,validate,test = my_train_test_split(myTitanic,'survived')\n",
    "x_train = train.drop(columns = 'survived')\n",
    "y_train = train.survived\n",
    "x_validate = validate.drop(columns = 'survived')\n",
    "y_validate = validate.survived"
   ],
   "metadata": {
    "collapsed": false
   }
  },
  {
   "cell_type": "code",
   "execution_count": 41,
   "outputs": [],
   "source": [
    "DTC = DecisionTreeClassifier(max_depth = 5)\n",
    "DTC = DTC.fit(x_train,y_train)\n"
   ],
   "metadata": {
    "collapsed": false
   }
  },
  {
   "cell_type": "code",
   "execution_count": 42,
   "outputs": [],
   "source": [
    "y_predictions = DTC.predict(x_train)"
   ],
   "metadata": {
    "collapsed": false
   }
  },
  {
   "cell_type": "markdown",
   "source": [
    "Evaluate your in-sample results using the model score, confusion matrix, and classification report."
   ],
   "metadata": {
    "collapsed": false
   }
  },
  {
   "cell_type": "code",
   "execution_count": 43,
   "outputs": [
    {
     "data": {
      "text/plain": "0.8544600938967136"
     },
     "execution_count": 43,
     "metadata": {},
     "output_type": "execute_result"
    }
   ],
   "source": [
    "DTC.score(x_train,y_train)"
   ],
   "metadata": {
    "collapsed": false
   }
  },
  {
   "cell_type": "code",
   "execution_count": 44,
   "outputs": [
    {
     "name": "stdout",
     "output_type": "stream",
     "text": [
      "              precision    recall  f1-score   support\n",
      "\n",
      "           0       0.83      0.95      0.89       254\n",
      "           1       0.91      0.71      0.80       172\n",
      "\n",
      "    accuracy                           0.85       426\n",
      "   macro avg       0.87      0.83      0.84       426\n",
      "weighted avg       0.86      0.85      0.85       426\n",
      "\n"
     ]
    }
   ],
   "source": [
    "print(classification_report(y_train,y_predictions))"
   ],
   "metadata": {
    "collapsed": false
   }
  },
  {
   "cell_type": "code",
   "execution_count": 45,
   "outputs": [
    {
     "data": {
      "text/plain": "     0    1\n0  242   12\n1   50  122",
      "text/html": "<div>\n<style scoped>\n    .dataframe tbody tr th:only-of-type {\n        vertical-align: middle;\n    }\n\n    .dataframe tbody tr th {\n        vertical-align: top;\n    }\n\n    .dataframe thead th {\n        text-align: right;\n    }\n</style>\n<table border=\"1\" class=\"dataframe\">\n  <thead>\n    <tr style=\"text-align: right;\">\n      <th></th>\n      <th>0</th>\n      <th>1</th>\n    </tr>\n  </thead>\n  <tbody>\n    <tr>\n      <th>0</th>\n      <td>242</td>\n      <td>12</td>\n    </tr>\n    <tr>\n      <th>1</th>\n      <td>50</td>\n      <td>122</td>\n    </tr>\n  </tbody>\n</table>\n</div>"
     },
     "execution_count": 45,
     "metadata": {},
     "output_type": "execute_result"
    }
   ],
   "source": [
    "labels = sorted(y_train.unique())\n",
    "pd.DataFrame(confusion_matrix(y_train, y_predictions), index=labels, columns=labels)"
   ],
   "metadata": {
    "collapsed": false
   }
  },
  {
   "cell_type": "markdown",
   "source": [
    "Compute: Accuracy, true positive rate, false positive rate, true negative rate, false negative rate, precision, recall, f1-score, and support."
   ],
   "metadata": {
    "collapsed": false
   }
  },
  {
   "cell_type": "code",
   "execution_count": 102,
   "outputs": [
    {
     "name": "stdout",
     "output_type": "stream",
     "text": [
      "Accuracy =  0.8544600938967136 TPR =  0.9104477611940298 TNR =  0.8287671232876712 FPR = 0.17123287671232876 FNR =  0.08955223880597014 Precision =  0.7093023255813954 Recall =  0.9104477611940298 F1 =  32.0 Survived =  122 Died =  242\n"
     ]
    }
   ],
   "source": [
    "Accuracy = (242 + 122) / (242 + 122 + 12 + 50)\n",
    "TPR = 122 /(122 + 12)\n",
    "TNR = 242 / (50 + 242)\n",
    "FPR = 50/ (50 + 242)\n",
    "FNR = 12 / (12 + 122)\n",
    "precision = 122 / (122 + 50)\n",
    "recall = 122 / (122 + 12)\n",
    "f1 = 122/ 122 + (.5 * (50 + 12))\n",
    "support_S = 122\n",
    "support_D = 242\n",
    "\n",
    "print('Accuracy = ', Accuracy , 'TPR = ', TPR , 'TNR = ', TNR , 'FPR =', FPR , 'FNR = ', FNR ,'Precision = ' , precision , 'Recall = ' , recall , 'F1 = ',  f1, 'Survived = ' , support_S , 'Died = ' , support_D )"
   ],
   "metadata": {
    "collapsed": false
   }
  },
  {
   "cell_type": "markdown",
   "source": [
    "Run through steps 2-4 using a different max_depth value."
   ],
   "metadata": {
    "collapsed": false
   }
  },
  {
   "cell_type": "code",
   "execution_count": 47,
   "outputs": [],
   "source": [
    "DTC2 = DecisionTreeClassifier(max_depth = 8)"
   ],
   "metadata": {
    "collapsed": false
   }
  },
  {
   "cell_type": "code",
   "execution_count": 48,
   "outputs": [
    {
     "data": {
      "text/plain": "DecisionTreeClassifier(max_depth=8)"
     },
     "execution_count": 48,
     "metadata": {},
     "output_type": "execute_result"
    }
   ],
   "source": [
    "DTC2.fit(x_train,y_train)"
   ],
   "metadata": {
    "collapsed": false
   }
  },
  {
   "cell_type": "code",
   "execution_count": 49,
   "outputs": [
    {
     "data": {
      "text/plain": "array([0, 0, 0, 1, 0, 1, 0, 1, 0, 1, 1, 1, 0, 0, 0, 0, 0, 0, 1, 0, 1, 0,\n       0, 0, 0, 1, 0, 0, 0, 0, 1, 0, 1, 0, 0, 0, 0, 0, 1, 0, 1, 1, 0, 0,\n       1, 0, 1, 0, 1, 1, 0, 1, 0, 1, 1, 0, 1, 0, 0, 0, 0, 0, 0, 0, 0, 0,\n       1, 0, 0, 1, 1, 1, 0, 1, 1, 1, 1, 0, 0, 0, 0, 1, 1, 0, 0, 0, 1, 0,\n       1, 1, 1, 0, 1, 0, 0, 1, 1, 1, 0, 1, 0, 1, 0, 0, 1, 0, 0, 1, 0, 0,\n       0, 0, 0, 1, 0, 0, 0, 0, 0, 0, 1, 0, 0, 0, 0, 0, 1, 1, 0, 0, 1, 0,\n       0, 0, 0, 0, 1, 1, 1, 0, 0, 0, 1, 0, 0, 1, 0, 0, 1, 0, 0, 0, 1, 0,\n       0, 0, 1, 0, 0, 0, 0, 0, 0, 0, 1, 0, 1, 1, 1, 1, 0, 1, 1, 0, 0, 0,\n       0, 0, 0, 0, 1, 0, 0, 0, 0, 1, 0, 0, 0, 0, 0, 0, 0, 0, 0, 1, 1, 0,\n       0, 0, 1, 0, 0, 1, 0, 0, 0, 0, 0, 0, 0, 1, 0, 1, 0, 0, 1, 1, 0, 1,\n       0, 0, 0, 0, 1, 0, 0, 0, 0, 0, 1, 1, 0, 1, 0, 0, 0, 0, 1, 0, 0, 0,\n       0, 1, 1, 0, 0, 0, 1, 0, 0, 1, 1, 0, 1, 1, 0, 1, 1, 0, 0, 0, 1, 0,\n       0, 0, 0, 0, 0, 0, 0, 0, 0, 0, 1, 0, 1, 1, 0, 1, 0, 0, 1, 0, 1, 0,\n       0, 0, 1, 0, 0, 1, 0, 1, 1, 0, 1, 0, 1, 1, 0, 0, 0, 0, 1, 0, 0, 0,\n       1, 1, 0, 1, 0, 0, 0, 1, 0, 0, 1, 1, 0, 0, 1, 1, 1, 0, 0, 0, 0, 0,\n       0, 0, 1, 1, 0, 1, 0, 0, 0, 1, 0, 0, 0, 0, 0, 0, 1, 0, 0, 0, 1, 1,\n       0, 0, 0, 0, 0, 1, 0, 0, 1, 0, 1, 1, 0, 0, 0, 0, 0, 1, 1, 0, 1, 1,\n       0, 1, 0, 0, 0, 1, 1, 1, 0, 0, 0, 0, 1, 0, 1, 0, 1, 0, 1, 1, 0, 0,\n       0, 0, 0, 1, 0, 1, 0, 0, 0, 0, 0, 0, 0, 0, 1, 1, 1, 0, 0, 0, 0, 0,\n       1, 1, 1, 1, 1, 1, 0, 0])"
     },
     "execution_count": 49,
     "metadata": {},
     "output_type": "execute_result"
    }
   ],
   "source": [
    "y_predictions2 = DTC2.predict(x_train)\n",
    "y_predictions2"
   ],
   "metadata": {
    "collapsed": false
   }
  },
  {
   "cell_type": "code",
   "execution_count": 50,
   "outputs": [
    {
     "data": {
      "text/plain": "0.9295774647887324"
     },
     "execution_count": 50,
     "metadata": {},
     "output_type": "execute_result"
    }
   ],
   "source": [
    "DTC2.score(x_train,y_train)"
   ],
   "metadata": {
    "collapsed": false
   }
  },
  {
   "cell_type": "code",
   "execution_count": 51,
   "outputs": [
    {
     "name": "stdout",
     "output_type": "stream",
     "text": [
      "              precision    recall  f1-score   support\n",
      "\n",
      "           0       0.90      0.99      0.94       254\n",
      "           1       0.98      0.84      0.91       172\n",
      "\n",
      "    accuracy                           0.93       426\n",
      "   macro avg       0.94      0.92      0.92       426\n",
      "weighted avg       0.93      0.93      0.93       426\n",
      "\n"
     ]
    }
   ],
   "source": [
    "print(classification_report(y_train,y_predictions2))"
   ],
   "metadata": {
    "collapsed": false
   }
  },
  {
   "cell_type": "code",
   "execution_count": 52,
   "outputs": [
    {
     "data": {
      "text/plain": "     0    1\n0  251    3\n1   27  145",
      "text/html": "<div>\n<style scoped>\n    .dataframe tbody tr th:only-of-type {\n        vertical-align: middle;\n    }\n\n    .dataframe tbody tr th {\n        vertical-align: top;\n    }\n\n    .dataframe thead th {\n        text-align: right;\n    }\n</style>\n<table border=\"1\" class=\"dataframe\">\n  <thead>\n    <tr style=\"text-align: right;\">\n      <th></th>\n      <th>0</th>\n      <th>1</th>\n    </tr>\n  </thead>\n  <tbody>\n    <tr>\n      <th>0</th>\n      <td>251</td>\n      <td>3</td>\n    </tr>\n    <tr>\n      <th>1</th>\n      <td>27</td>\n      <td>145</td>\n    </tr>\n  </tbody>\n</table>\n</div>"
     },
     "execution_count": 52,
     "metadata": {},
     "output_type": "execute_result"
    }
   ],
   "source": [
    "labels = sorted(y_train.unique())\n",
    "pd.DataFrame(confusion_matrix(y_train, y_predictions2))"
   ],
   "metadata": {
    "collapsed": false
   }
  },
  {
   "cell_type": "code",
   "execution_count": 101,
   "outputs": [
    {
     "name": "stdout",
     "output_type": "stream",
     "text": [
      "Accuracy =  0.9295774647887324 TPR =  0.9797297297297297 TNR =  0.9028776978417267 FPR = 0.09712230215827339 FNR =  0.02027027027027027 Precision =  0.8430232558139535 Recall =  0.9797297297297297 F1 =  16.0 Survived =  145 Died =  251\n"
     ]
    }
   ],
   "source": [
    "Accuracy = (251 + 145) / (251 + 145 + 3 + 27)\n",
    "TPR = 145 /(145 + 3)\n",
    "TNR = 251 / (27 + 251)\n",
    "FPR = 27/ (27 + 251)\n",
    "FNR = 3 / (3 + 145)\n",
    "precision = 145 / (145 + 27)\n",
    "recall = 145 / (145 + 3)\n",
    "f1 = 145/ 145 + (.5 * (27 + 3))\n",
    "support_S = 145\n",
    "support_D = 251\n",
    "\n",
    "print('Accuracy = ', Accuracy , 'TPR = ', TPR , 'TNR = ', TNR , 'FPR =', FPR , 'FNR = ', FNR ,'Precision = ' , precision , 'Recall = ' , recall , 'F1 = ',  f1, 'Survived = ' , support_S , 'Died = ' , support_D )"
   ],
   "metadata": {
    "collapsed": false
   }
  },
  {
   "cell_type": "markdown",
   "source": [
    "2nd model works better on in-Sample-data\n"
   ],
   "metadata": {
    "collapsed": false
   }
  },
  {
   "cell_type": "code",
   "execution_count": 54,
   "outputs": [
    {
     "data": {
      "text/plain": "0.7692307692307693"
     },
     "execution_count": 54,
     "metadata": {},
     "output_type": "execute_result"
    }
   ],
   "source": [
    "DTC.score(x_validate,y_validate)"
   ],
   "metadata": {
    "collapsed": false
   }
  },
  {
   "cell_type": "code",
   "execution_count": 55,
   "outputs": [
    {
     "data": {
      "text/plain": "0.7622377622377622"
     },
     "execution_count": 55,
     "metadata": {},
     "output_type": "execute_result"
    }
   ],
   "source": [
    "DTC2.score(x_validate,y_validate)"
   ],
   "metadata": {
    "collapsed": false
   }
  },
  {
   "cell_type": "markdown",
   "source": [
    "first model works better on out of sample data."
   ],
   "metadata": {
    "collapsed": false
   }
  },
  {
   "cell_type": "code",
   "execution_count": 56,
   "outputs": [],
   "source": [
    "uglytelco = read_csv('Telco.csv')"
   ],
   "metadata": {
    "collapsed": false
   }
  },
  {
   "cell_type": "code",
   "execution_count": 57,
   "outputs": [],
   "source": [
    "telco = prep_telco_data(uglytelco)"
   ],
   "metadata": {
    "collapsed": false
   }
  },
  {
   "cell_type": "code",
   "execution_count": 58,
   "outputs": [],
   "source": [
    "telco = telco.dropna()"
   ],
   "metadata": {
    "collapsed": false
   }
  },
  {
   "cell_type": "code",
   "execution_count": 59,
   "outputs": [
    {
     "data": {
      "text/plain": "0    3249\n1    1586\nName: did_churn, dtype: int64"
     },
     "execution_count": 59,
     "metadata": {},
     "output_type": "execute_result"
    }
   ],
   "source": [
    "telco.did_churn.value_counts()"
   ],
   "metadata": {
    "collapsed": false
   }
  },
  {
   "cell_type": "code",
   "execution_count": 60,
   "outputs": [],
   "source": [
    "baseline = 3249/ len(telco)"
   ],
   "metadata": {
    "collapsed": false
   }
  },
  {
   "cell_type": "code",
   "execution_count": 61,
   "outputs": [
    {
     "data": {
      "text/plain": "0.6719751809720786"
     },
     "execution_count": 61,
     "metadata": {},
     "output_type": "execute_result"
    }
   ],
   "source": [
    "baseline"
   ],
   "metadata": {
    "collapsed": false
   }
  },
  {
   "cell_type": "code",
   "execution_count": 62,
   "outputs": [],
   "source": [
    "train,validate,test = my_train_test_split(telco,'did_churn')\n",
    "x_train = train.drop(columns = 'did_churn')\n",
    "y_train = train.did_churn\n",
    "x_validate = validate.drop(columns = 'did_churn')\n",
    "y_validate = validate.did_churn"
   ],
   "metadata": {
    "collapsed": false
   }
  },
  {
   "cell_type": "code",
   "execution_count": 63,
   "outputs": [
    {
     "ename": "ValueError",
     "evalue": "could not convert string to float: ''",
     "output_type": "error",
     "traceback": [
      "\u001B[0;31m---------------------------------------------------------------------------\u001B[0m",
      "\u001B[0;31mValueError\u001B[0m                                Traceback (most recent call last)",
      "Input \u001B[0;32mIn [63]\u001B[0m, in \u001B[0;36m<cell line: 2>\u001B[0;34m()\u001B[0m\n\u001B[1;32m      1\u001B[0m DTC \u001B[38;5;241m=\u001B[39m DecisionTreeClassifier(max_depth \u001B[38;5;241m=\u001B[39m \u001B[38;5;241m5\u001B[39m)\n\u001B[0;32m----> 2\u001B[0m DTC \u001B[38;5;241m=\u001B[39m \u001B[43mDTC\u001B[49m\u001B[38;5;241;43m.\u001B[39;49m\u001B[43mfit\u001B[49m\u001B[43m(\u001B[49m\u001B[43mx_train\u001B[49m\u001B[43m,\u001B[49m\u001B[43my_train\u001B[49m\u001B[43m)\u001B[49m\n",
      "File \u001B[0;32m/usr/local/anaconda3/lib/python3.9/site-packages/sklearn/tree/_classes.py:937\u001B[0m, in \u001B[0;36mDecisionTreeClassifier.fit\u001B[0;34m(self, X, y, sample_weight, check_input, X_idx_sorted)\u001B[0m\n\u001B[1;32m    899\u001B[0m \u001B[38;5;28;01mdef\u001B[39;00m \u001B[38;5;21mfit\u001B[39m(\n\u001B[1;32m    900\u001B[0m     \u001B[38;5;28mself\u001B[39m, X, y, sample_weight\u001B[38;5;241m=\u001B[39m\u001B[38;5;28;01mNone\u001B[39;00m, check_input\u001B[38;5;241m=\u001B[39m\u001B[38;5;28;01mTrue\u001B[39;00m, X_idx_sorted\u001B[38;5;241m=\u001B[39m\u001B[38;5;124m\"\u001B[39m\u001B[38;5;124mdeprecated\u001B[39m\u001B[38;5;124m\"\u001B[39m\n\u001B[1;32m    901\u001B[0m ):\n\u001B[1;32m    902\u001B[0m     \u001B[38;5;124;03m\"\"\"Build a decision tree classifier from the training set (X, y).\u001B[39;00m\n\u001B[1;32m    903\u001B[0m \n\u001B[1;32m    904\u001B[0m \u001B[38;5;124;03m    Parameters\u001B[39;00m\n\u001B[0;32m   (...)\u001B[0m\n\u001B[1;32m    934\u001B[0m \u001B[38;5;124;03m        Fitted estimator.\u001B[39;00m\n\u001B[1;32m    935\u001B[0m \u001B[38;5;124;03m    \"\"\"\u001B[39;00m\n\u001B[0;32m--> 937\u001B[0m     \u001B[38;5;28;43msuper\u001B[39;49m\u001B[43m(\u001B[49m\u001B[43m)\u001B[49m\u001B[38;5;241;43m.\u001B[39;49m\u001B[43mfit\u001B[49m\u001B[43m(\u001B[49m\n\u001B[1;32m    938\u001B[0m \u001B[43m        \u001B[49m\u001B[43mX\u001B[49m\u001B[43m,\u001B[49m\n\u001B[1;32m    939\u001B[0m \u001B[43m        \u001B[49m\u001B[43my\u001B[49m\u001B[43m,\u001B[49m\n\u001B[1;32m    940\u001B[0m \u001B[43m        \u001B[49m\u001B[43msample_weight\u001B[49m\u001B[38;5;241;43m=\u001B[39;49m\u001B[43msample_weight\u001B[49m\u001B[43m,\u001B[49m\n\u001B[1;32m    941\u001B[0m \u001B[43m        \u001B[49m\u001B[43mcheck_input\u001B[49m\u001B[38;5;241;43m=\u001B[39;49m\u001B[43mcheck_input\u001B[49m\u001B[43m,\u001B[49m\n\u001B[1;32m    942\u001B[0m \u001B[43m        \u001B[49m\u001B[43mX_idx_sorted\u001B[49m\u001B[38;5;241;43m=\u001B[39;49m\u001B[43mX_idx_sorted\u001B[49m\u001B[43m,\u001B[49m\n\u001B[1;32m    943\u001B[0m \u001B[43m    \u001B[49m\u001B[43m)\u001B[49m\n\u001B[1;32m    944\u001B[0m     \u001B[38;5;28;01mreturn\u001B[39;00m \u001B[38;5;28mself\u001B[39m\n",
      "File \u001B[0;32m/usr/local/anaconda3/lib/python3.9/site-packages/sklearn/tree/_classes.py:165\u001B[0m, in \u001B[0;36mBaseDecisionTree.fit\u001B[0;34m(self, X, y, sample_weight, check_input, X_idx_sorted)\u001B[0m\n\u001B[1;32m    163\u001B[0m check_X_params \u001B[38;5;241m=\u001B[39m \u001B[38;5;28mdict\u001B[39m(dtype\u001B[38;5;241m=\u001B[39mDTYPE, accept_sparse\u001B[38;5;241m=\u001B[39m\u001B[38;5;124m\"\u001B[39m\u001B[38;5;124mcsc\u001B[39m\u001B[38;5;124m\"\u001B[39m)\n\u001B[1;32m    164\u001B[0m check_y_params \u001B[38;5;241m=\u001B[39m \u001B[38;5;28mdict\u001B[39m(ensure_2d\u001B[38;5;241m=\u001B[39m\u001B[38;5;28;01mFalse\u001B[39;00m, dtype\u001B[38;5;241m=\u001B[39m\u001B[38;5;28;01mNone\u001B[39;00m)\n\u001B[0;32m--> 165\u001B[0m X, y \u001B[38;5;241m=\u001B[39m \u001B[38;5;28;43mself\u001B[39;49m\u001B[38;5;241;43m.\u001B[39;49m\u001B[43m_validate_data\u001B[49m\u001B[43m(\u001B[49m\n\u001B[1;32m    166\u001B[0m \u001B[43m    \u001B[49m\u001B[43mX\u001B[49m\u001B[43m,\u001B[49m\u001B[43m \u001B[49m\u001B[43my\u001B[49m\u001B[43m,\u001B[49m\u001B[43m \u001B[49m\u001B[43mvalidate_separately\u001B[49m\u001B[38;5;241;43m=\u001B[39;49m\u001B[43m(\u001B[49m\u001B[43mcheck_X_params\u001B[49m\u001B[43m,\u001B[49m\u001B[43m \u001B[49m\u001B[43mcheck_y_params\u001B[49m\u001B[43m)\u001B[49m\n\u001B[1;32m    167\u001B[0m \u001B[43m\u001B[49m\u001B[43m)\u001B[49m\n\u001B[1;32m    168\u001B[0m \u001B[38;5;28;01mif\u001B[39;00m issparse(X):\n\u001B[1;32m    169\u001B[0m     X\u001B[38;5;241m.\u001B[39msort_indices()\n",
      "File \u001B[0;32m/usr/local/anaconda3/lib/python3.9/site-packages/sklearn/base.py:578\u001B[0m, in \u001B[0;36mBaseEstimator._validate_data\u001B[0;34m(self, X, y, reset, validate_separately, **check_params)\u001B[0m\n\u001B[1;32m    572\u001B[0m \u001B[38;5;28;01mif\u001B[39;00m validate_separately:\n\u001B[1;32m    573\u001B[0m     \u001B[38;5;66;03m# We need this because some estimators validate X and y\u001B[39;00m\n\u001B[1;32m    574\u001B[0m     \u001B[38;5;66;03m# separately, and in general, separately calling check_array()\u001B[39;00m\n\u001B[1;32m    575\u001B[0m     \u001B[38;5;66;03m# on X and y isn't equivalent to just calling check_X_y()\u001B[39;00m\n\u001B[1;32m    576\u001B[0m     \u001B[38;5;66;03m# :(\u001B[39;00m\n\u001B[1;32m    577\u001B[0m     check_X_params, check_y_params \u001B[38;5;241m=\u001B[39m validate_separately\n\u001B[0;32m--> 578\u001B[0m     X \u001B[38;5;241m=\u001B[39m \u001B[43mcheck_array\u001B[49m\u001B[43m(\u001B[49m\u001B[43mX\u001B[49m\u001B[43m,\u001B[49m\u001B[43m \u001B[49m\u001B[38;5;241;43m*\u001B[39;49m\u001B[38;5;241;43m*\u001B[39;49m\u001B[43mcheck_X_params\u001B[49m\u001B[43m)\u001B[49m\n\u001B[1;32m    579\u001B[0m     y \u001B[38;5;241m=\u001B[39m check_array(y, \u001B[38;5;241m*\u001B[39m\u001B[38;5;241m*\u001B[39mcheck_y_params)\n\u001B[1;32m    580\u001B[0m \u001B[38;5;28;01melse\u001B[39;00m:\n",
      "File \u001B[0;32m/usr/local/anaconda3/lib/python3.9/site-packages/sklearn/utils/validation.py:746\u001B[0m, in \u001B[0;36mcheck_array\u001B[0;34m(array, accept_sparse, accept_large_sparse, dtype, order, copy, force_all_finite, ensure_2d, allow_nd, ensure_min_samples, ensure_min_features, estimator)\u001B[0m\n\u001B[1;32m    744\u001B[0m         array \u001B[38;5;241m=\u001B[39m array\u001B[38;5;241m.\u001B[39mastype(dtype, casting\u001B[38;5;241m=\u001B[39m\u001B[38;5;124m\"\u001B[39m\u001B[38;5;124munsafe\u001B[39m\u001B[38;5;124m\"\u001B[39m, copy\u001B[38;5;241m=\u001B[39m\u001B[38;5;28;01mFalse\u001B[39;00m)\n\u001B[1;32m    745\u001B[0m     \u001B[38;5;28;01melse\u001B[39;00m:\n\u001B[0;32m--> 746\u001B[0m         array \u001B[38;5;241m=\u001B[39m \u001B[43mnp\u001B[49m\u001B[38;5;241;43m.\u001B[39;49m\u001B[43masarray\u001B[49m\u001B[43m(\u001B[49m\u001B[43marray\u001B[49m\u001B[43m,\u001B[49m\u001B[43m \u001B[49m\u001B[43morder\u001B[49m\u001B[38;5;241;43m=\u001B[39;49m\u001B[43morder\u001B[49m\u001B[43m,\u001B[49m\u001B[43m \u001B[49m\u001B[43mdtype\u001B[49m\u001B[38;5;241;43m=\u001B[39;49m\u001B[43mdtype\u001B[49m\u001B[43m)\u001B[49m\n\u001B[1;32m    747\u001B[0m \u001B[38;5;28;01mexcept\u001B[39;00m ComplexWarning \u001B[38;5;28;01mas\u001B[39;00m complex_warning:\n\u001B[1;32m    748\u001B[0m     \u001B[38;5;28;01mraise\u001B[39;00m \u001B[38;5;167;01mValueError\u001B[39;00m(\n\u001B[1;32m    749\u001B[0m         \u001B[38;5;124m\"\u001B[39m\u001B[38;5;124mComplex data not supported\u001B[39m\u001B[38;5;130;01m\\n\u001B[39;00m\u001B[38;5;132;01m{}\u001B[39;00m\u001B[38;5;130;01m\\n\u001B[39;00m\u001B[38;5;124m\"\u001B[39m\u001B[38;5;241m.\u001B[39mformat(array)\n\u001B[1;32m    750\u001B[0m     ) \u001B[38;5;28;01mfrom\u001B[39;00m \u001B[38;5;21;01mcomplex_warning\u001B[39;00m\n",
      "File \u001B[0;32m/usr/local/anaconda3/lib/python3.9/site-packages/pandas/core/generic.py:2064\u001B[0m, in \u001B[0;36mNDFrame.__array__\u001B[0;34m(self, dtype)\u001B[0m\n\u001B[1;32m   2063\u001B[0m \u001B[38;5;28;01mdef\u001B[39;00m \u001B[38;5;21m__array__\u001B[39m(\u001B[38;5;28mself\u001B[39m, dtype: npt\u001B[38;5;241m.\u001B[39mDTypeLike \u001B[38;5;241m|\u001B[39m \u001B[38;5;28;01mNone\u001B[39;00m \u001B[38;5;241m=\u001B[39m \u001B[38;5;28;01mNone\u001B[39;00m) \u001B[38;5;241m-\u001B[39m\u001B[38;5;241m>\u001B[39m np\u001B[38;5;241m.\u001B[39mndarray:\n\u001B[0;32m-> 2064\u001B[0m     \u001B[38;5;28;01mreturn\u001B[39;00m \u001B[43mnp\u001B[49m\u001B[38;5;241;43m.\u001B[39;49m\u001B[43masarray\u001B[49m\u001B[43m(\u001B[49m\u001B[38;5;28;43mself\u001B[39;49m\u001B[38;5;241;43m.\u001B[39;49m\u001B[43m_values\u001B[49m\u001B[43m,\u001B[49m\u001B[43m \u001B[49m\u001B[43mdtype\u001B[49m\u001B[38;5;241;43m=\u001B[39;49m\u001B[43mdtype\u001B[49m\u001B[43m)\u001B[49m\n",
      "\u001B[0;31mValueError\u001B[0m: could not convert string to float: ''"
     ]
    }
   ],
   "source": [
    "DTC = DecisionTreeClassifier(max_depth = 5)\n",
    "DTC = DTC.fit(x_train,y_train)\n"
   ],
   "metadata": {
    "collapsed": false
   }
  },
  {
   "cell_type": "code",
   "execution_count": null,
   "outputs": [],
   "source": [
    "telco"
   ],
   "metadata": {
    "collapsed": false
   }
  },
  {
   "cell_type": "markdown",
   "source": [
    "# Random Forest"
   ],
   "metadata": {
    "collapsed": false
   }
  },
  {
   "cell_type": "markdown",
   "source": [
    "Fit the Random Forest classifier to your training sample and transform (i.e. make predictions on the training sample) setting the random_state accordingly and setting min_samples_leaf = 1 and max_depth = 10."
   ],
   "metadata": {
    "collapsed": false
   }
  },
  {
   "cell_type": "code",
   "execution_count": 64,
   "outputs": [],
   "source": [
    "train,validate,test = my_train_test_split(myTitanic,'survived')\n",
    "x_train = train.drop(columns = 'survived')\n",
    "y_train = train.survived\n",
    "x_validate = validate.drop(columns = 'survived')\n",
    "y_validate = validate.survived"
   ],
   "metadata": {
    "collapsed": false
   }
  },
  {
   "cell_type": "code",
   "execution_count": 67,
   "outputs": [],
   "source": [
    "RF = RandomForestClassifier(min_samples_leaf = 1, max_depth = 10)"
   ],
   "metadata": {
    "collapsed": false
   }
  },
  {
   "cell_type": "code",
   "execution_count": 68,
   "outputs": [
    {
     "data": {
      "text/plain": "RandomForestClassifier(max_depth=10)"
     },
     "execution_count": 68,
     "metadata": {},
     "output_type": "execute_result"
    }
   ],
   "source": [
    "RF.fit(x_train,y_train)"
   ],
   "metadata": {
    "collapsed": false
   }
  },
  {
   "cell_type": "code",
   "execution_count": 69,
   "outputs": [],
   "source": [
    "preds = RF.predict(x_train)"
   ],
   "metadata": {
    "collapsed": false
   }
  },
  {
   "cell_type": "markdown",
   "source": [
    "Evaluate your results using the model score, confusion matrix, and classification report."
   ],
   "metadata": {
    "collapsed": false
   }
  },
  {
   "cell_type": "code",
   "execution_count": 72,
   "outputs": [
    {
     "data": {
      "text/plain": "0.9694835680751174"
     },
     "execution_count": 72,
     "metadata": {},
     "output_type": "execute_result"
    }
   ],
   "source": [
    "RF.score(x_train,y_train)"
   ],
   "metadata": {
    "collapsed": false
   }
  },
  {
   "cell_type": "code",
   "execution_count": 73,
   "outputs": [
    {
     "name": "stdout",
     "output_type": "stream",
     "text": [
      "              precision    recall  f1-score   support\n",
      "\n",
      "           0       0.95      1.00      0.98       254\n",
      "           1       1.00      0.92      0.96       172\n",
      "\n",
      "    accuracy                           0.97       426\n",
      "   macro avg       0.98      0.96      0.97       426\n",
      "weighted avg       0.97      0.97      0.97       426\n",
      "\n"
     ]
    }
   ],
   "source": [
    "print(classification_report(y_train,preds))"
   ],
   "metadata": {
    "collapsed": false
   }
  },
  {
   "cell_type": "code",
   "execution_count": 75,
   "outputs": [
    {
     "data": {
      "text/plain": "     0    1\n0  254    0\n1   13  159",
      "text/html": "<div>\n<style scoped>\n    .dataframe tbody tr th:only-of-type {\n        vertical-align: middle;\n    }\n\n    .dataframe tbody tr th {\n        vertical-align: top;\n    }\n\n    .dataframe thead th {\n        text-align: right;\n    }\n</style>\n<table border=\"1\" class=\"dataframe\">\n  <thead>\n    <tr style=\"text-align: right;\">\n      <th></th>\n      <th>0</th>\n      <th>1</th>\n    </tr>\n  </thead>\n  <tbody>\n    <tr>\n      <th>0</th>\n      <td>254</td>\n      <td>0</td>\n    </tr>\n    <tr>\n      <th>1</th>\n      <td>13</td>\n      <td>159</td>\n    </tr>\n  </tbody>\n</table>\n</div>"
     },
     "execution_count": 75,
     "metadata": {},
     "output_type": "execute_result"
    }
   ],
   "source": [
    "pd.DataFrame(confusion_matrix(y_train, preds))"
   ],
   "metadata": {
    "collapsed": false
   }
  },
  {
   "cell_type": "markdown",
   "source": [
    "Print and clearly label the following: Accuracy, true positive rate, false positive rate, true negative rate, false negative rate, precision, recall, f1-score, and support."
   ],
   "metadata": {
    "collapsed": false
   }
  },
  {
   "cell_type": "code",
   "execution_count": 100,
   "outputs": [
    {
     "name": "stdout",
     "output_type": "stream",
     "text": [
      "Accuracy =  0.9694835680751174 TPR =  1.0 TNR =  0.951310861423221 FPR = 0.04868913857677903 FNR =  0.0 Precision =  0.9244186046511628 Recall =  1.0 F1 =  7.5 Survived =  159 Died =  254\n"
     ]
    }
   ],
   "source": [
    "Accuracy = (254 + 159) / (254 + 159 + 0 + 13)\n",
    "TPR = 159 /(159 + 0)\n",
    "TNR = 254 / (13 + 254)\n",
    "FPR = 13/ (13 + 254)\n",
    "FNR = 0 / (0 + 159)\n",
    "precision = 159 / (159 + 13)\n",
    "recall = 159 / (159 + 0)\n",
    "f1 = 159/ 159 + (.5 * (13 + 0))\n",
    "support_S = 159\n",
    "support_D = 254\n",
    "\n",
    "print('Accuracy = ', Accuracy , 'TPR = ', TPR , 'TNR = ', TNR , 'FPR =', FPR , 'FNR = ', FNR ,'Precision = ' , precision , 'Recall = ' , recall , 'F1 = ',  f1, 'Survived = ' , support_S , 'Died = ' , support_D )"
   ],
   "metadata": {
    "collapsed": false
   }
  },
  {
   "cell_type": "code",
   "execution_count": 82,
   "outputs": [
    {
     "name": "stdout",
     "output_type": "stream",
     "text": [
      "min_sample =  1 max_depth =  20               precision    recall  f1-score   support\n",
      "\n",
      "           0       0.98      1.00      0.99       254\n",
      "           1       1.00      0.98      0.99       172\n",
      "\n",
      "    accuracy                           0.99       426\n",
      "   macro avg       0.99      0.99      0.99       426\n",
      "weighted avg       0.99      0.99      0.99       426\n",
      "\n",
      "min_sample =  3 max_depth =  18               precision    recall  f1-score   support\n",
      "\n",
      "           0       0.87      0.95      0.91       254\n",
      "           1       0.91      0.80      0.85       172\n",
      "\n",
      "    accuracy                           0.89       426\n",
      "   macro avg       0.89      0.87      0.88       426\n",
      "weighted avg       0.89      0.89      0.89       426\n",
      "\n",
      "min_sample =  5 max_depth =  16               precision    recall  f1-score   support\n",
      "\n",
      "           0       0.86      0.94      0.90       254\n",
      "           1       0.89      0.78      0.83       172\n",
      "\n",
      "    accuracy                           0.87       426\n",
      "   macro avg       0.88      0.86      0.87       426\n",
      "weighted avg       0.87      0.87      0.87       426\n",
      "\n",
      "min_sample =  7 max_depth =  14               precision    recall  f1-score   support\n",
      "\n",
      "           0       0.84      0.94      0.89       254\n",
      "           1       0.90      0.74      0.81       172\n",
      "\n",
      "    accuracy                           0.86       426\n",
      "   macro avg       0.87      0.84      0.85       426\n",
      "weighted avg       0.87      0.86      0.86       426\n",
      "\n",
      "min_sample =  9 max_depth =  12               precision    recall  f1-score   support\n",
      "\n",
      "           0       0.81      0.94      0.87       254\n",
      "           1       0.89      0.68      0.77       172\n",
      "\n",
      "    accuracy                           0.84       426\n",
      "   macro avg       0.85      0.81      0.82       426\n",
      "weighted avg       0.84      0.84      0.83       426\n",
      "\n",
      "min_sample =  11 max_depth =  10               precision    recall  f1-score   support\n",
      "\n",
      "           0       0.82      0.93      0.87       254\n",
      "           1       0.86      0.70      0.77       172\n",
      "\n",
      "    accuracy                           0.83       426\n",
      "   macro avg       0.84      0.81      0.82       426\n",
      "weighted avg       0.84      0.83      0.83       426\n",
      "\n",
      "min_sample =  13 max_depth =  8               precision    recall  f1-score   support\n",
      "\n",
      "           0       0.82      0.92      0.86       254\n",
      "           1       0.85      0.70      0.77       172\n",
      "\n",
      "    accuracy                           0.83       426\n",
      "   macro avg       0.83      0.81      0.82       426\n",
      "weighted avg       0.83      0.83      0.83       426\n",
      "\n",
      "min_sample =  15 max_depth =  6               precision    recall  f1-score   support\n",
      "\n",
      "           0       0.81      0.93      0.86       254\n",
      "           1       0.86      0.67      0.75       172\n",
      "\n",
      "    accuracy                           0.82       426\n",
      "   macro avg       0.84      0.80      0.81       426\n",
      "weighted avg       0.83      0.82      0.82       426\n",
      "\n",
      "min_sample =  17 max_depth =  4               precision    recall  f1-score   support\n",
      "\n",
      "           0       0.79      0.90      0.84       254\n",
      "           1       0.81      0.65      0.72       172\n",
      "\n",
      "    accuracy                           0.80       426\n",
      "   macro avg       0.80      0.77      0.78       426\n",
      "weighted avg       0.80      0.80      0.79       426\n",
      "\n",
      "min_sample =  19 max_depth =  2               precision    recall  f1-score   support\n",
      "\n",
      "           0       0.78      0.90      0.84       254\n",
      "           1       0.81      0.63      0.71       172\n",
      "\n",
      "    accuracy                           0.79       426\n",
      "   macro avg       0.80      0.77      0.78       426\n",
      "weighted avg       0.80      0.79      0.79       426\n",
      "\n"
     ]
    }
   ],
   "source": [
    "x = 20\n",
    "for i in range (1,21,2):\n",
    "    RF = RandomForestClassifier(min_samples_leaf = i, max_depth = x )\n",
    "    RF.fit(x_train,y_train)\n",
    "    preds = RF.predict(x_train)\n",
    "    print('min_sample = ',i,'max_depth = ', x, classification_report(y_train,preds))\n",
    "    x = x - 2"
   ],
   "metadata": {
    "collapsed": false
   }
  },
  {
   "cell_type": "markdown",
   "source": [
    "Best in-sample performance from min_sample_leaf = 1 max_depth = 20"
   ],
   "metadata": {
    "collapsed": false
   }
  },
  {
   "cell_type": "code",
   "execution_count": 84,
   "outputs": [
    {
     "name": "stdout",
     "output_type": "stream",
     "text": [
      "min_sample =  1 max_depth =  20               precision    recall  f1-score   support\n",
      "\n",
      "           0       0.80      0.85      0.82        85\n",
      "           1       0.75      0.69      0.72        58\n",
      "\n",
      "    accuracy                           0.78       143\n",
      "   macro avg       0.78      0.77      0.77       143\n",
      "weighted avg       0.78      0.78      0.78       143\n",
      "\n",
      "min_sample =  3 max_depth =  18               precision    recall  f1-score   support\n",
      "\n",
      "           0       0.79      0.89      0.84        85\n",
      "           1       0.81      0.66      0.72        58\n",
      "\n",
      "    accuracy                           0.80       143\n",
      "   macro avg       0.80      0.77      0.78       143\n",
      "weighted avg       0.80      0.80      0.79       143\n",
      "\n",
      "min_sample =  5 max_depth =  16               precision    recall  f1-score   support\n",
      "\n",
      "           0       0.76      0.92      0.83        85\n",
      "           1       0.82      0.57      0.67        58\n",
      "\n",
      "    accuracy                           0.78       143\n",
      "   macro avg       0.79      0.74      0.75       143\n",
      "weighted avg       0.78      0.78      0.77       143\n",
      "\n",
      "min_sample =  7 max_depth =  14               precision    recall  f1-score   support\n",
      "\n",
      "           0       0.76      0.89      0.82        85\n",
      "           1       0.79      0.59      0.67        58\n",
      "\n",
      "    accuracy                           0.77       143\n",
      "   macro avg       0.78      0.74      0.75       143\n",
      "weighted avg       0.77      0.77      0.76       143\n",
      "\n",
      "min_sample =  9 max_depth =  12               precision    recall  f1-score   support\n",
      "\n",
      "           0       0.76      0.92      0.83        85\n",
      "           1       0.83      0.59      0.69        58\n",
      "\n",
      "    accuracy                           0.78       143\n",
      "   macro avg       0.80      0.75      0.76       143\n",
      "weighted avg       0.79      0.78      0.77       143\n",
      "\n",
      "min_sample =  11 max_depth =  10               precision    recall  f1-score   support\n",
      "\n",
      "           0       0.76      0.88      0.82        85\n",
      "           1       0.77      0.59      0.67        58\n",
      "\n",
      "    accuracy                           0.76       143\n",
      "   macro avg       0.77      0.73      0.74       143\n",
      "weighted avg       0.76      0.76      0.75       143\n",
      "\n",
      "min_sample =  13 max_depth =  8               precision    recall  f1-score   support\n",
      "\n",
      "           0       0.75      0.93      0.83        85\n",
      "           1       0.84      0.55      0.67        58\n",
      "\n",
      "    accuracy                           0.78       143\n",
      "   macro avg       0.80      0.74      0.75       143\n",
      "weighted avg       0.79      0.78      0.76       143\n",
      "\n",
      "min_sample =  15 max_depth =  6               precision    recall  f1-score   support\n",
      "\n",
      "           0       0.75      0.89      0.81        85\n",
      "           1       0.78      0.55      0.65        58\n",
      "\n",
      "    accuracy                           0.76       143\n",
      "   macro avg       0.76      0.72      0.73       143\n",
      "weighted avg       0.76      0.76      0.75       143\n",
      "\n",
      "min_sample =  17 max_depth =  4               precision    recall  f1-score   support\n",
      "\n",
      "           0       0.74      0.86      0.79        85\n",
      "           1       0.73      0.55      0.63        58\n",
      "\n",
      "    accuracy                           0.73       143\n",
      "   macro avg       0.73      0.71      0.71       143\n",
      "weighted avg       0.73      0.73      0.73       143\n",
      "\n",
      "min_sample =  19 max_depth =  2               precision    recall  f1-score   support\n",
      "\n",
      "           0       0.75      0.87      0.80        85\n",
      "           1       0.75      0.57      0.65        58\n",
      "\n",
      "    accuracy                           0.75       143\n",
      "   macro avg       0.75      0.72      0.73       143\n",
      "weighted avg       0.75      0.75      0.74       143\n",
      "\n"
     ]
    }
   ],
   "source": [
    "x = 20\n",
    "for i in range (1,21,2):\n",
    "    RF = RandomForestClassifier(min_samples_leaf = i, max_depth = x )\n",
    "    RF.fit(x_train,y_train)\n",
    "    preds = RF.predict(x_validate)\n",
    "    print('min_sample = ',i,'max_depth = ', x, classification_report(y_validate,preds))\n",
    "    x = x - 2"
   ],
   "metadata": {
    "collapsed": false
   }
  },
  {
   "cell_type": "markdown",
   "source": [
    "Best performing out of sample date is at min_sample of 3 and max_depth of 18"
   ],
   "metadata": {
    "collapsed": false
   }
  },
  {
   "cell_type": "markdown",
   "source": [
    "# K-Nearest-Neighbors:"
   ],
   "metadata": {
    "collapsed": false
   }
  },
  {
   "cell_type": "markdown",
   "source": [
    "Fit a K-Nearest Neighbors classifier to your training sample and transform (i.e. make predictions on the training sample)\n",
    "\n"
   ],
   "metadata": {
    "collapsed": false
   }
  },
  {
   "cell_type": "code",
   "execution_count": 86,
   "outputs": [],
   "source": [
    "KNN = KNeighborsClassifier(n_neighbors = 3)"
   ],
   "metadata": {
    "collapsed": false
   }
  },
  {
   "cell_type": "code",
   "execution_count": 87,
   "outputs": [
    {
     "data": {
      "text/plain": "KNeighborsClassifier(n_neighbors=3)"
     },
     "execution_count": 87,
     "metadata": {},
     "output_type": "execute_result"
    }
   ],
   "source": [
    "KNN.fit(x_train,y_train)"
   ],
   "metadata": {
    "collapsed": false
   }
  },
  {
   "cell_type": "code",
   "execution_count": 88,
   "outputs": [],
   "source": [
    "preds = KNN.predict(x_train)"
   ],
   "metadata": {
    "collapsed": false
   }
  },
  {
   "cell_type": "markdown",
   "source": [
    "Evaluate your results using the model score, confusion matrix, and classification report."
   ],
   "metadata": {
    "collapsed": false
   }
  },
  {
   "cell_type": "code",
   "execution_count": 90,
   "outputs": [
    {
     "data": {
      "text/plain": "0.8450704225352113"
     },
     "execution_count": 90,
     "metadata": {},
     "output_type": "execute_result"
    }
   ],
   "source": [
    "KNN.score(x_train,y_train)"
   ],
   "metadata": {
    "collapsed": false
   }
  },
  {
   "cell_type": "code",
   "execution_count": 92,
   "outputs": [
    {
     "name": "stdout",
     "output_type": "stream",
     "text": [
      "              precision    recall  f1-score   support\n",
      "\n",
      "           0       0.85      0.90      0.87       254\n",
      "           1       0.84      0.76      0.80       172\n",
      "\n",
      "    accuracy                           0.85       426\n",
      "   macro avg       0.84      0.83      0.84       426\n",
      "weighted avg       0.84      0.85      0.84       426\n",
      "\n"
     ]
    }
   ],
   "source": [
    "print(classification_report(y_train,preds))"
   ],
   "metadata": {
    "collapsed": false
   }
  },
  {
   "cell_type": "code",
   "execution_count": 93,
   "outputs": [
    {
     "data": {
      "text/plain": "     0    1\n0  229   25\n1   41  131",
      "text/html": "<div>\n<style scoped>\n    .dataframe tbody tr th:only-of-type {\n        vertical-align: middle;\n    }\n\n    .dataframe tbody tr th {\n        vertical-align: top;\n    }\n\n    .dataframe thead th {\n        text-align: right;\n    }\n</style>\n<table border=\"1\" class=\"dataframe\">\n  <thead>\n    <tr style=\"text-align: right;\">\n      <th></th>\n      <th>0</th>\n      <th>1</th>\n    </tr>\n  </thead>\n  <tbody>\n    <tr>\n      <th>0</th>\n      <td>229</td>\n      <td>25</td>\n    </tr>\n    <tr>\n      <th>1</th>\n      <td>41</td>\n      <td>131</td>\n    </tr>\n  </tbody>\n</table>\n</div>"
     },
     "execution_count": 93,
     "metadata": {},
     "output_type": "execute_result"
    }
   ],
   "source": [
    "pd.DataFrame(confusion_matrix(y_train,preds))"
   ],
   "metadata": {
    "collapsed": false
   }
  },
  {
   "cell_type": "markdown",
   "source": [
    "Print and clearly label the following: Accuracy, true positive rate, false positive rate, true negative rate, false negative rate, precision, recall, f1-score, and support."
   ],
   "metadata": {
    "collapsed": false
   }
  },
  {
   "cell_type": "code",
   "execution_count": 99,
   "outputs": [
    {
     "name": "stdout",
     "output_type": "stream",
     "text": [
      "Accuracy =  0.8450704225352113 TPR =  0.8397435897435898 TNR =  0.8481481481481481 FPR = 0.15185185185185185 FNR =  0.16025641025641027 Precision =  0.7616279069767442 Recall =  0.8397435897435898 F1 =  34.0 Survived =  131 Died =  229\n"
     ]
    }
   ],
   "source": [
    "Accuracy = (229 + 131) / (229 + 131 + 25 + 41)\n",
    "TPR = 131 /(131 + 25)\n",
    "TNR = 229 / (41 + 229)\n",
    "FPR = 41/ (41 + 229)\n",
    "FNR = 25 / (25 + 131)\n",
    "precision = 131 / (131 + 41)\n",
    "recall = 131 / (131 + 25)\n",
    "f1 = 131/ 131 + (.5 * (41 + 25))\n",
    "support_S = 131\n",
    "support_D = 229\n",
    "\n",
    "print('Accuracy = ', Accuracy , 'TPR = ', TPR , 'TNR = ', TNR , 'FPR =', FPR , 'FNR = ', FNR ,'Precision = ' , precision , 'Recall = ' , recall , 'F1 = ',  f1, 'Survived = ' , support_S , 'Died = ' , support_D )"
   ],
   "metadata": {
    "collapsed": false
   }
  },
  {
   "cell_type": "markdown",
   "source": [
    "Run through steps 2-4 setting k to 10"
   ],
   "metadata": {
    "collapsed": false
   }
  },
  {
   "cell_type": "markdown",
   "source": [
    "10 neighbors:"
   ],
   "metadata": {
    "collapsed": false
   }
  },
  {
   "cell_type": "code",
   "execution_count": 97,
   "outputs": [
    {
     "name": "stdout",
     "output_type": "stream",
     "text": [
      "0.7582159624413145               precision    recall  f1-score   support\n",
      "\n",
      "           0       0.75      0.89      0.81       254\n",
      "           1       0.78      0.56      0.65       172\n",
      "\n",
      "    accuracy                           0.76       426\n",
      "   macro avg       0.76      0.73      0.73       426\n",
      "weighted avg       0.76      0.76      0.75       426\n",
      "\n"
     ]
    },
    {
     "data": {
      "text/plain": "     0   1\n0  226  28\n1   75  97",
      "text/html": "<div>\n<style scoped>\n    .dataframe tbody tr th:only-of-type {\n        vertical-align: middle;\n    }\n\n    .dataframe tbody tr th {\n        vertical-align: top;\n    }\n\n    .dataframe thead th {\n        text-align: right;\n    }\n</style>\n<table border=\"1\" class=\"dataframe\">\n  <thead>\n    <tr style=\"text-align: right;\">\n      <th></th>\n      <th>0</th>\n      <th>1</th>\n    </tr>\n  </thead>\n  <tbody>\n    <tr>\n      <th>0</th>\n      <td>226</td>\n      <td>28</td>\n    </tr>\n    <tr>\n      <th>1</th>\n      <td>75</td>\n      <td>97</td>\n    </tr>\n  </tbody>\n</table>\n</div>"
     },
     "execution_count": 97,
     "metadata": {},
     "output_type": "execute_result"
    }
   ],
   "source": [
    "KNN = KNeighborsClassifier(n_neighbors = 10)\n",
    "KNN.fit(x_train,y_train)\n",
    "preds = KNN.predict(x_train)\n",
    "print(KNN.score(x_train,y_train),  classification_report(y_train,preds))\n",
    "pd.DataFrame(confusion_matrix(y_train,preds))"
   ],
   "metadata": {
    "collapsed": false
   }
  },
  {
   "cell_type": "code",
   "execution_count": 103,
   "outputs": [
    {
     "name": "stdout",
     "output_type": "stream",
     "text": [
      "Accuracy =  0.7582159624413145 TPR =  0.776 TNR =  0.7508305647840532 FPR = 0.24916943521594684 FNR =  0.224 Precision =  0.563953488372093 Recall =  0.776 F1 =  52.5 Survived =  97 Died =  226\n"
     ]
    }
   ],
   "source": [
    "Accuracy = (226 + 97) / (226 + 97 + 28 + 75)\n",
    "TPR = 97 /(97 + 28)\n",
    "TNR = 226 / (75 + 226)\n",
    "FPR = 75/ (75 + 226)\n",
    "FNR = 28 / (28 + 97)\n",
    "precision = 97 / (97 + 75)\n",
    "recall = 97 / (97 + 28)\n",
    "f1 = 97/ 97 + (.5 * (75 + 28))\n",
    "support_S = 97\n",
    "support_D = 226\n",
    "\n",
    "print('Accuracy = ', Accuracy , 'TPR = ', TPR , 'TNR = ', TNR , 'FPR =', FPR , 'FNR = ', FNR ,'Precision = ' , precision , 'Recall = ' , recall , 'F1 = ',  f1, 'Survived = ' , support_S , 'Died = ' , support_D )"
   ],
   "metadata": {
    "collapsed": false
   }
  },
  {
   "cell_type": "markdown",
   "source": [
    "20 neighbors:"
   ],
   "metadata": {
    "collapsed": false
   }
  },
  {
   "cell_type": "code",
   "execution_count": 98,
   "outputs": [
    {
     "name": "stdout",
     "output_type": "stream",
     "text": [
      "0.7370892018779343               precision    recall  f1-score   support\n",
      "\n",
      "           0       0.74      0.85      0.79       254\n",
      "           1       0.72      0.56      0.63       172\n",
      "\n",
      "    accuracy                           0.74       426\n",
      "   macro avg       0.73      0.71      0.71       426\n",
      "weighted avg       0.74      0.74      0.73       426\n",
      "\n"
     ]
    },
    {
     "data": {
      "text/plain": "     0   1\n0  217  37\n1   75  97",
      "text/html": "<div>\n<style scoped>\n    .dataframe tbody tr th:only-of-type {\n        vertical-align: middle;\n    }\n\n    .dataframe tbody tr th {\n        vertical-align: top;\n    }\n\n    .dataframe thead th {\n        text-align: right;\n    }\n</style>\n<table border=\"1\" class=\"dataframe\">\n  <thead>\n    <tr style=\"text-align: right;\">\n      <th></th>\n      <th>0</th>\n      <th>1</th>\n    </tr>\n  </thead>\n  <tbody>\n    <tr>\n      <th>0</th>\n      <td>217</td>\n      <td>37</td>\n    </tr>\n    <tr>\n      <th>1</th>\n      <td>75</td>\n      <td>97</td>\n    </tr>\n  </tbody>\n</table>\n</div>"
     },
     "execution_count": 98,
     "metadata": {},
     "output_type": "execute_result"
    }
   ],
   "source": [
    "KNN = KNeighborsClassifier(n_neighbors = 20)\n",
    "KNN.fit(x_train,y_train)\n",
    "preds = KNN.predict(x_train)\n",
    "print(KNN.score(x_train,y_train),  classification_report(y_train,preds))\n",
    "pd.DataFrame(confusion_matrix(y_train,preds))"
   ],
   "metadata": {
    "collapsed": false
   }
  },
  {
   "cell_type": "code",
   "execution_count": 104,
   "outputs": [
    {
     "name": "stdout",
     "output_type": "stream",
     "text": [
      "Accuracy =  0.7370892018779343 TPR =  0.7238805970149254 TNR =  0.7431506849315068 FPR = 0.2568493150684932 FNR =  0.27611940298507465 Precision =  0.563953488372093 Recall =  0.7238805970149254 F1 =  57.0 Survived =  97 Died =  217\n"
     ]
    }
   ],
   "source": [
    "Accuracy = (217 + 97) / (217 + 97 + 37 + 75)\n",
    "TPR = 97 /(97 + 37)\n",
    "TNR = 217 / (75 + 217)\n",
    "FPR = 75/ (75 + 217)\n",
    "FNR = 37 / (37 + 97)\n",
    "precision = 97 / (97 + 75)\n",
    "recall = 97 / (97 + 37)\n",
    "f1 = 97/ 97 + (.5 * (75 + 37))\n",
    "support_S = 97\n",
    "support_D = 217\n",
    "\n",
    "print('Accuracy = ', Accuracy , 'TPR = ', TPR , 'TNR = ', TNR , 'FPR =', FPR , 'FNR = ', FNR ,'Precision = ' , precision , 'Recall = ' , recall , 'F1 = ',  f1, 'Survived = ' , support_S , 'Died = ' , support_D )"
   ],
   "metadata": {
    "collapsed": false
   }
  },
  {
   "cell_type": "markdown",
   "source": [
    "What are the differences in the evaluation metrics? Which performs better on your in-sample data? Why?"
   ],
   "metadata": {
    "collapsed": false
   }
  },
  {
   "cell_type": "markdown",
   "source": [
    "My first model with 5 nearest neighbors performed the best on in-sample data"
   ],
   "metadata": {
    "collapsed": false
   }
  },
  {
   "cell_type": "markdown",
   "source": [
    "What are the differences in the evaluation metrics? Which performs better on your in-sample data? Why?"
   ],
   "metadata": {
    "collapsed": false
   }
  },
  {
   "cell_type": "code",
   "execution_count": 106,
   "outputs": [],
   "source": [
    "values = [5,10,20]"
   ],
   "metadata": {
    "collapsed": false
   }
  },
  {
   "cell_type": "code",
   "execution_count": 108,
   "outputs": [
    {
     "name": "stdout",
     "output_type": "stream",
     "text": [
      "Num_neighbors:  5               precision    recall  f1-score   support\n",
      "\n",
      "           0       0.68      0.69      0.69        85\n",
      "           1       0.54      0.52      0.53        58\n",
      "\n",
      "    accuracy                           0.62       143\n",
      "   macro avg       0.61      0.61      0.61       143\n",
      "weighted avg       0.62      0.62      0.62       143\n",
      "\n",
      "Num_neighbors:  10               precision    recall  f1-score   support\n",
      "\n",
      "           0       0.67      0.82      0.74        85\n",
      "           1       0.62      0.41      0.49        58\n",
      "\n",
      "    accuracy                           0.66       143\n",
      "   macro avg       0.64      0.62      0.62       143\n",
      "weighted avg       0.65      0.66      0.64       143\n",
      "\n",
      "Num_neighbors:  20               precision    recall  f1-score   support\n",
      "\n",
      "           0       0.68      0.81      0.74        85\n",
      "           1       0.61      0.43      0.51        58\n",
      "\n",
      "    accuracy                           0.66       143\n",
      "   macro avg       0.64      0.62      0.62       143\n",
      "weighted avg       0.65      0.66      0.64       143\n",
      "\n"
     ]
    }
   ],
   "source": [
    "for x in values:\n",
    "    KNN = KNeighborsClassifier(n_neighbors = x)\n",
    "    KNN.fit(x_train,y_train)\n",
    "    preds = KNN.predict(x_validate)\n",
    "    print('Num_neighbors: ', x , classification_report(y_validate,preds))"
   ],
   "metadata": {
    "collapsed": false
   }
  },
  {
   "cell_type": "markdown",
   "source": [
    "My models with 10 and 20 neighbors both performed best at 66% accurate"
   ],
   "metadata": {
    "collapsed": false
   }
  },
  {
   "cell_type": "code",
   "execution_count": null,
   "outputs": [],
   "source": [],
   "metadata": {
    "collapsed": false
   }
  }
 ],
 "metadata": {
  "kernelspec": {
   "display_name": "Python 3",
   "language": "python",
   "name": "python3"
  },
  "language_info": {
   "codemirror_mode": {
    "name": "ipython",
    "version": 2
   },
   "file_extension": ".py",
   "mimetype": "text/x-python",
   "name": "python",
   "nbconvert_exporter": "python",
   "pygments_lexer": "ipython2",
   "version": "2.7.6"
  }
 },
 "nbformat": 4,
 "nbformat_minor": 0
}
